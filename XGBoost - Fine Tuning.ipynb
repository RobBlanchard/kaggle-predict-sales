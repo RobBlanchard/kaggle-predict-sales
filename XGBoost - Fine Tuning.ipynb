{
 "cells": [
  {
   "cell_type": "markdown",
   "metadata": {},
   "source": [
    "# Imports and config"
   ]
  },
  {
   "cell_type": "code",
   "execution_count": 1,
   "metadata": {},
   "outputs": [],
   "source": [
    "import os\n",
    "import pickle\n",
    "import warnings\n",
    "import random\n",
    "import pickle\n",
    "import time\n",
    "import itertools\n",
    "\n",
    "import numpy as np\n",
    "import pandas as pd\n",
    "import seaborn as sns\n",
    "import matplotlib.pyplot as plt\n",
    "from cycler import cycler\n",
    "\n",
    "import xgboost as xgb\n",
    "from xgboost import plot_importance, plot_tree\n",
    "from sklearn.metrics import mean_squared_error, mean_absolute_error\n",
    "from sklearn.model_selection import RandomizedSearchCV, GridSearchCV\n",
    "\n",
    "import config as cfg\n",
    "import data_processing as dp\n",
    "\n",
    "\n",
    "warnings.filterwarnings('ignore')\n",
    "plt.style.use('seaborn-dark-palette')"
   ]
  },
  {
   "cell_type": "markdown",
   "metadata": {},
   "source": [
    "# Model Selection"
   ]
  },
  {
   "cell_type": "markdown",
   "metadata": {},
   "source": [
    "https://www.analyticsvidhya.com/blog/2016/03/complete-guide-parameter-tuning-xgboost-with-codes-python/  \n",
    "\n",
    "We will use an approach similar to that of GBM here. The various steps to be performed are:\n",
    "\n",
    "- Choose a relatively high learning rate. Generally a learning rate of 0.1 works but somewhere between 0.05 to 0.3 - should work for different problems. Determine the optimum number of trees for this learning rate. XGBoost has a very useful function called as “cv” which performs cross-validation at each boosting iteration and thus returns the optimum number of trees required.  \n",
    "- Tune tree-specific parameters ( max_depth, min_child_weight, gamma, subsample, colsample_bytree) for decided learning rate and number of trees. Note that we can choose different parameters to define a tree and I’ll take up an example here.  \n",
    "- Tune regularization parameters (lambda, alpha) for xgboost which can help reduce model complexity and enhance performance.  \n",
    "- Lower the learning rate and decide the optimal parameters ."
   ]
  },
  {
   "cell_type": "code",
   "execution_count": 2,
   "metadata": {},
   "outputs": [],
   "source": [
    "df= pd.read_pickle(\"cleaned_sets/df_fs_done.pkl\")"
   ]
  },
  {
   "cell_type": "code",
   "execution_count": 3,
   "metadata": {},
   "outputs": [],
   "source": [
    "train = df.loc[(df[\"date_block_num\"]>=20) & (df[\"date_block_num\"]<=32)].sample(frac=0.6)\n",
    "test = df.loc[(df[\"date_block_num\"]>=33)]\n",
    "\n",
    "identificators = [\"shop_id\",\"item_id\",\"date_block_num\"]\n",
    "predictors = [x for x in train.columns if x not in identificators]\n",
    "label = \"item_cnt_next_month\"\n",
    "\n",
    "X_train = train[predictors]\n",
    "y_train = train[label]\n",
    "\n",
    "X_test = test[predictors+identificators]"
   ]
  },
  {
   "cell_type": "code",
   "execution_count": 4,
   "metadata": {},
   "outputs": [],
   "source": [
    "dtrain = xgb.DMatrix(X_train, label=y_train)"
   ]
  },
  {
   "cell_type": "markdown",
   "metadata": {},
   "source": [
    "### Function for fine tuning"
   ]
  },
  {
   "cell_type": "code",
   "execution_count": 5,
   "metadata": {},
   "outputs": [],
   "source": [
    "def dict_to_iterlist(d):\n",
    "    keys=d.keys()\n",
    "    lists=d.values()\n",
    "    return list(keys), list(itertools.product(*lists))"
   ]
  },
  {
   "cell_type": "code",
   "execution_count": 7,
   "metadata": {},
   "outputs": [],
   "source": [
    "def fine_tune_xgb(initial_params, gridsearch_params, dtrain, early_stopping_rounds=10, cv_fold=5):\n",
    "    min_rmse = float(\"Inf\")\n",
    "    best_params = None\n",
    "    \n",
    "    params=initial_params\n",
    "    gs_param_names, combinations = dict_to_iterlist(gridsearch_params)\n",
    "    nb_gs_params = len(gs_param_names)\n",
    "    \n",
    "    boosting_rounds=100\n",
    "    \n",
    "    for combi in combinations:\n",
    "        start_time=time.time()\n",
    "        print(\", \".join([f\"{gs_param_names[i]}={combi[i]}\" for i in range(nb_gs_params)]))\n",
    "\n",
    "        # Update our parameters\n",
    "        for i in range(nb_gs_params):\n",
    "            params[gs_param_names[i]] = combi[i]\n",
    "            \n",
    "        if \"num_boost_round\" in gs_param_names:\n",
    "            boosting_rounds=combi[gs_param_names.index(\"num_boost_round\")]\n",
    "        \n",
    "        # Run CV\n",
    "        cv_results = xgb.cv(\n",
    "            params,\n",
    "            dtrain,\n",
    "            num_boost_round=boosting_rounds,\n",
    "            seed=42,\n",
    "            nfold=cv_fold,\n",
    "            metrics={'rmse'},\n",
    "            early_stopping_rounds=early_stopping_rounds\n",
    "        )\n",
    "        # Update best RMSE\n",
    "        \n",
    "        mean_rmse = cv_results['test-rmse-mean'].min()\n",
    "        boost_rounds = cv_results['test-rmse-mean'].argmin()\n",
    "        \n",
    "        print(\"\\tRMSE {} for {} rounds\".format(mean_rmse, boost_rounds))\n",
    "        print(\"Time taken for this round {}\".format(time.time()-start_time))\n",
    "        if mean_rmse < min_rmse:\n",
    "            min_rmse = mean_rmse\n",
    "            best_params = combi\n",
    "    \n",
    "    print(best_params)\n",
    "    print(\"\".join([\"Best params:\", \n",
    "                   \", \".join([f\"{gs_param_names[i]}={best_params[i]}\" for i in range(nb_gs_params)]),\n",
    "                  f\", RMSE: {min_rmse}\",]))"
   ]
  },
  {
   "cell_type": "markdown",
   "metadata": {},
   "source": [
    "#### Number of estimators"
   ]
  },
  {
   "cell_type": "code",
   "execution_count": 7,
   "metadata": {},
   "outputs": [
    {
     "name": "stdout",
     "output_type": "stream",
     "text": [
      "num_boost_round=50\n",
      "\tRMSE 0.19884619999999997 for 49 rounds\n",
      "Time taken for this round 174.0552237033844\n",
      "num_boost_round=100\n",
      "\tRMSE 0.16946060000000002 for 99 rounds\n",
      "Time taken for this round 363.9197838306427\n",
      "num_boost_round=200\n",
      "\tRMSE 0.16890280000000002 for 101 rounds\n",
      "Time taken for this round 402.503536939621\n",
      "num_boost_round=300\n",
      "\tRMSE 0.16890280000000002 for 101 rounds\n",
      "Time taken for this round 389.96784806251526\n",
      "num_boost_round=400\n",
      "\tRMSE 0.16890280000000002 for 101 rounds\n",
      "Time taken for this round 362.24060893058777\n",
      "num_boost_round=500\n",
      "\tRMSE 0.16890280000000002 for 101 rounds\n",
      "Time taken for this round 383.1901047229767\n",
      "(200,)\n",
      "Best params:num_boost_round=500, RMSE: 0.16890280000000002\n"
     ]
    }
   ],
   "source": [
    "params = {\n",
    "    # Parameters that we are going to tune.\n",
    "    'max_depth':5,\n",
    "    'min_child_weight': 2,\n",
    "    'gamma':0,\n",
    "    'eta':.1,\n",
    "    'subsample': 0.8,\n",
    "    'colsample_bytree': 0.8,\n",
    "    # Other parameters\n",
    "    'objective':'reg:squarederror',\n",
    "    'eval_metric':'rmse'\n",
    "}\n",
    "\n",
    "gridsearch_params = {\n",
    "    \"num_boost_round\":[50,100,200,300,400,500]\n",
    "        }\n",
    "\n",
    "fine_tune_xgb(params, gridsearch_params, dtrain)"
   ]
  },
  {
   "cell_type": "markdown",
   "metadata": {},
   "source": [
    "num_boost_round=100 seems fine."
   ]
  },
  {
   "cell_type": "markdown",
   "metadata": {},
   "source": [
    "##### max_depth, min_child_weight"
   ]
  },
  {
   "cell_type": "code",
   "execution_count": null,
   "metadata": {},
   "outputs": [
    {
     "name": "stdout",
     "output_type": "stream",
     "text": [
      "max_depth=5, min_child_weight=2\n",
      "\tRMSE 0.1656404 for 94 rounds\n",
      "Time taken for this round 400.32938861846924\n",
      "max_depth=5, min_child_weight=4\n",
      "\tRMSE 0.1680922 for 99 rounds\n",
      "Time taken for this round 396.3620090484619\n",
      "max_depth=5, min_child_weight=6\n",
      "\tRMSE 0.1988702 for 88 rounds\n",
      "Time taken for this round 417.3902268409729\n",
      "max_depth=5, min_child_weight=8\n",
      "\tRMSE 0.2490282 for 65 rounds\n",
      "Time taken for this round 305.3179974555969\n",
      "max_depth=6, min_child_weight=2\n",
      "\tRMSE 0.1722786 for 93 rounds\n",
      "Time taken for this round 1242.185308456421\n",
      "max_depth=6, min_child_weight=4\n",
      "\tRMSE 0.17041499999999998 for 90 rounds\n",
      "Time taken for this round 431.78232884407043\n",
      "max_depth=6, min_child_weight=6\n",
      "\tRMSE 0.2029366 for 70 rounds\n",
      "Time taken for this round 389.0773892402649\n",
      "max_depth=6, min_child_weight=8\n",
      "\tRMSE 0.24996000000000002 for 61 rounds\n",
      "Time taken for this round 351.74165391921997\n",
      "max_depth=7, min_child_weight=2\n",
      "\tRMSE 0.170522 for 77 rounds\n",
      "Time taken for this round 500.659955739975\n",
      "max_depth=7, min_child_weight=4\n",
      "\tRMSE 0.17320699999999997 for 99 rounds\n",
      "Time taken for this round 572.2606201171875\n",
      "max_depth=7, min_child_weight=6\n",
      "\tRMSE 0.20105279999999998 for 70 rounds\n",
      "Time taken for this round 389.86996269226074\n",
      "max_depth=7, min_child_weight=8\n",
      "\tRMSE 0.2519652 for 61 rounds\n",
      "Time taken for this round 375.45073986053467\n",
      "max_depth=8, min_child_weight=2\n",
      "\tRMSE 0.17699260000000003 for 77 rounds\n",
      "Time taken for this round 486.39078068733215\n",
      "max_depth=8, min_child_weight=4\n",
      "\tRMSE 0.17614840000000004 for 90 rounds\n",
      "Time taken for this round 599.999950170517\n",
      "max_depth=8, min_child_weight=6\n",
      "\tRMSE 0.20825620000000003 for 60 rounds\n",
      "Time taken for this round 394.6097831726074\n",
      "max_depth=8, min_child_weight=8\n",
      "\tRMSE 0.25350339999999993 for 61 rounds\n",
      "Time taken for this round 447.78194975852966\n",
      "max_depth=10, min_child_weight=2\n",
      "\tRMSE 0.1831854 for 77 rounds\n",
      "Time taken for this round 614.9610779285431\n",
      "max_depth=10, min_child_weight=4\n",
      "\tRMSE 0.17773920000000004 for 90 rounds\n",
      "Time taken for this round 742.3188199996948\n",
      "max_depth=10, min_child_weight=6\n",
      "\tRMSE 0.20722520000000003 for 70 rounds\n",
      "Time taken for this round 557.0738289356232\n",
      "max_depth=10, min_child_weight=8\n",
      "\tRMSE 0.2547128 for 65 rounds\n",
      "Time taken for this round 568.7557137012482\n",
      "max_depth=12, min_child_weight=2\n",
      "\tRMSE 0.1844212 for 93 rounds\n",
      "Time taken for this round 923.7494955062866\n",
      "max_depth=12, min_child_weight=4\n",
      "\tRMSE 0.1787652 for 90 rounds\n",
      "Time taken for this round 945.5040099620819\n",
      "max_depth=12, min_child_weight=6\n",
      "\tRMSE 0.2096746 for 70 rounds\n",
      "Time taken for this round 778.0978739261627\n",
      "max_depth=12, min_child_weight=8\n"
     ]
    }
   ],
   "source": [
    "params = {\n",
    "    # Parameters that we are going to tune.\n",
    "    'max_depth':5,\n",
    "    'min_child_weight': 2,\n",
    "    'gamma':0,\n",
    "    'eta':.1,\n",
    "    'subsample': 0.8,\n",
    "    'colsample_bytree': 0.8,\n",
    "    # Other parameters\n",
    "    'objective':'reg:squarederror',\n",
    "    'eval_metric':'rmse'\n",
    "}\n",
    "\n",
    "gridsearch_params = {\n",
    "    \"max_depth\": [5,6,7,8,10,12],\n",
    "    \"min_child_weight\": [2,4,6,8]\n",
    "}\n",
    "\n",
    "fine_tune_xgb(params, gridsearch_params, dtrain)"
   ]
  },
  {
   "cell_type": "markdown",
   "metadata": {},
   "source": [
    "# Prediction"
   ]
  },
  {
   "cell_type": "code",
   "execution_count": 92,
   "metadata": {},
   "outputs": [
    {
     "name": "stdout",
     "output_type": "stream",
     "text": [
      "shop_id                             0\n",
      "item_id                             0\n",
      "date_block_num                      0\n",
      "mean_item_price                     0\n",
      "std_item_price                      0\n",
      "item_cnt_month                      0\n",
      "days_with_sell                      0\n",
      "month                               0\n",
      "year                                0\n",
      "nb_days                             0\n",
      "std_item_price_lag1                 0\n",
      "std_item_price_lag2                 0\n",
      "item_cnt_month_lag1                 0\n",
      "item_cnt_month_lag2                 0\n",
      "mean_category_cnt_month             0\n",
      "mean_category_item_price            0\n",
      "std_category_item_price             0\n",
      "mean_city_cnt_month                 0\n",
      "mean_city_item_price                0\n",
      "std_city_item_price                 0\n",
      "std_category_item_price_lag1        0\n",
      "is_lowest_price                     0\n",
      "main_category_name_Accessories      0\n",
      "main_category_name_Books            0\n",
      "main_category_name_Game consoles    0\n",
      "main_category_name_Games            0\n",
      "main_category_name_Gifts            0\n",
      "main_category_name_Movies           0\n",
      "main_category_name_Music            0\n",
      "main_category_name_Others           0\n",
      "main_category_name_Payment card     0\n",
      "main_category_name_Program          0\n",
      "dtype: int64\n"
     ]
    },
    {
     "data": {
      "text/html": [
       "<div>\n",
       "<style scoped>\n",
       "    .dataframe tbody tr th:only-of-type {\n",
       "        vertical-align: middle;\n",
       "    }\n",
       "\n",
       "    .dataframe tbody tr th {\n",
       "        vertical-align: top;\n",
       "    }\n",
       "\n",
       "    .dataframe thead th {\n",
       "        text-align: right;\n",
       "    }\n",
       "</style>\n",
       "<table border=\"1\" class=\"dataframe\">\n",
       "  <thead>\n",
       "    <tr style=\"text-align: right;\">\n",
       "      <th></th>\n",
       "      <th>shop_id</th>\n",
       "      <th>item_id</th>\n",
       "      <th>date_block_num</th>\n",
       "      <th>mean_item_price</th>\n",
       "      <th>std_item_price</th>\n",
       "      <th>item_cnt_month</th>\n",
       "      <th>days_with_sell</th>\n",
       "      <th>month</th>\n",
       "      <th>year</th>\n",
       "      <th>nb_days</th>\n",
       "      <th>...</th>\n",
       "      <th>main_category_name_Accessories</th>\n",
       "      <th>main_category_name_Books</th>\n",
       "      <th>main_category_name_Game consoles</th>\n",
       "      <th>main_category_name_Games</th>\n",
       "      <th>main_category_name_Gifts</th>\n",
       "      <th>main_category_name_Movies</th>\n",
       "      <th>main_category_name_Music</th>\n",
       "      <th>main_category_name_Others</th>\n",
       "      <th>main_category_name_Payment card</th>\n",
       "      <th>main_category_name_Program</th>\n",
       "    </tr>\n",
       "  </thead>\n",
       "  <tbody>\n",
       "    <tr>\n",
       "      <th>33</th>\n",
       "      <td>0</td>\n",
       "      <td>16385</td>\n",
       "      <td>33</td>\n",
       "      <td>310.568627</td>\n",
       "      <td>0.000000</td>\n",
       "      <td>0.0</td>\n",
       "      <td>0.0</td>\n",
       "      <td>10</td>\n",
       "      <td>15</td>\n",
       "      <td>31</td>\n",
       "      <td>...</td>\n",
       "      <td>0</td>\n",
       "      <td>0</td>\n",
       "      <td>0</td>\n",
       "      <td>1</td>\n",
       "      <td>0</td>\n",
       "      <td>0</td>\n",
       "      <td>0</td>\n",
       "      <td>0</td>\n",
       "      <td>0</td>\n",
       "      <td>0</td>\n",
       "    </tr>\n",
       "    <tr>\n",
       "      <th>67</th>\n",
       "      <td>0</td>\n",
       "      <td>8195</td>\n",
       "      <td>33</td>\n",
       "      <td>141.206851</td>\n",
       "      <td>0.041437</td>\n",
       "      <td>0.0</td>\n",
       "      <td>0.0</td>\n",
       "      <td>10</td>\n",
       "      <td>15</td>\n",
       "      <td>31</td>\n",
       "      <td>...</td>\n",
       "      <td>0</td>\n",
       "      <td>0</td>\n",
       "      <td>0</td>\n",
       "      <td>0</td>\n",
       "      <td>0</td>\n",
       "      <td>1</td>\n",
       "      <td>0</td>\n",
       "      <td>0</td>\n",
       "      <td>0</td>\n",
       "      <td>0</td>\n",
       "    </tr>\n",
       "  </tbody>\n",
       "</table>\n",
       "<p>2 rows × 32 columns</p>\n",
       "</div>"
      ],
      "text/plain": [
       "    shop_id  item_id  date_block_num  mean_item_price  std_item_price  \\\n",
       "33        0    16385              33       310.568627        0.000000   \n",
       "67        0     8195              33       141.206851        0.041437   \n",
       "\n",
       "    item_cnt_month  days_with_sell  month  year  nb_days  ...  \\\n",
       "33             0.0             0.0     10    15       31  ...   \n",
       "67             0.0             0.0     10    15       31  ...   \n",
       "\n",
       "    main_category_name_Accessories  main_category_name_Books  \\\n",
       "33                               0                         0   \n",
       "67                               0                         0   \n",
       "\n",
       "    main_category_name_Game consoles  main_category_name_Games  \\\n",
       "33                                 0                         1   \n",
       "67                                 0                         0   \n",
       "\n",
       "    main_category_name_Gifts  main_category_name_Movies  \\\n",
       "33                         0                          0   \n",
       "67                         0                          1   \n",
       "\n",
       "    main_category_name_Music  main_category_name_Others  \\\n",
       "33                         0                          0   \n",
       "67                         0                          0   \n",
       "\n",
       "    main_category_name_Payment card  main_category_name_Program  \n",
       "33                                0                           0  \n",
       "67                                0                           0  \n",
       "\n",
       "[2 rows x 32 columns]"
      ]
     },
     "execution_count": 92,
     "metadata": {},
     "output_type": "execute_result"
    }
   ],
   "source": [
    "X_test = test[[\"shop_id\",\"item_id\",\"date_block_num\"]+predictors]\n",
    "print(X_test.isnull().sum())\n",
    "X_test.head(2)"
   ]
  },
  {
   "cell_type": "code",
   "execution_count": 93,
   "metadata": {},
   "outputs": [
    {
     "ename": "ValueError",
     "evalue": "feature_names mismatch: ['mean_item_price', 'std_item_price', 'item_cnt_month', 'days_with_sell', 'month', 'year', 'nb_days', 'std_item_price_lag1', 'std_item_price_lag2', 'item_cnt_month_lag1', 'item_cnt_month_lag2', 'mean_category_cnt_month', 'mean_category_item_price', 'std_category_item_price', 'mean_city_cnt_month', 'mean_city_item_price', 'std_city_item_price', 'std_category_item_price_lag1', 'is_lowest_price', 'main_category_name_Accessories', 'main_category_name_Books', 'main_category_name_Game consoles', 'main_category_name_Games', 'main_category_name_Gifts', 'main_category_name_Movies', 'main_category_name_Music', 'main_category_name_Others', 'main_category_name_Payment card', 'main_category_name_Program', 'city_name_Adygea', 'city_name_Balashikha', 'city_name_Czechs', 'city_name_Kaluga', 'city_name_Kazan', 'city_name_Khimki', 'city_name_Kolomna', 'city_name_Krasnoyarsk', 'city_name_Kursk', 'city_name_Moscow', 'city_name_Mytishchi', 'city_name_Nizhny Novgorod', 'city_name_Novosibirsk', 'city_name_Omsk', 'city_name_Other', 'city_name_Rostov-on-Don', 'city_name_SPb', 'city_name_Samara', 'city_name_Sergiev', 'city_name_Surgut', 'city_name_Tomsk', 'city_name_Tyumen', 'city_name_Ufa', 'city_name_Vologda', 'city_name_Volzhsky', 'city_name_Voronezh', 'city_name_Yakutsk', 'city_name_Yaroslavl', 'city_name_Zhukovsky'] ['mean_item_price', 'std_item_price', 'item_cnt_month', 'days_with_sell', 'month', 'year', 'nb_days', 'std_item_price_lag1', 'std_item_price_lag2', 'item_cnt_month_lag1', 'item_cnt_month_lag2', 'mean_category_cnt_month', 'mean_category_item_price', 'std_category_item_price', 'mean_city_cnt_month', 'mean_city_item_price', 'std_city_item_price', 'std_category_item_price_lag1', 'is_lowest_price', 'main_category_name_Accessories', 'main_category_name_Books', 'main_category_name_Game consoles', 'main_category_name_Games', 'main_category_name_Gifts', 'main_category_name_Movies', 'main_category_name_Music', 'main_category_name_Others', 'main_category_name_Payment card', 'main_category_name_Program']\nexpected city_name_Other, city_name_Samara, city_name_Sergiev, city_name_Krasnoyarsk, city_name_Tomsk, city_name_Yakutsk, city_name_Rostov-on-Don, city_name_SPb, city_name_Omsk, city_name_Voronezh, city_name_Surgut, city_name_Kolomna, city_name_Ufa, city_name_Czechs, city_name_Moscow, city_name_Zhukovsky, city_name_Balashikha, city_name_Volzhsky, city_name_Mytishchi, city_name_Nizhny Novgorod, city_name_Novosibirsk, city_name_Kazan, city_name_Yaroslavl, city_name_Kursk, city_name_Tyumen, city_name_Khimki, city_name_Kaluga, city_name_Adygea, city_name_Vologda in input data",
     "output_type": "error",
     "traceback": [
      "\u001b[0;31m---------------------------------------------------------------------------\u001b[0m",
      "\u001b[0;31mValueError\u001b[0m                                Traceback (most recent call last)",
      "\u001b[0;32m<ipython-input-93-513ecfc490ed>\u001b[0m in \u001b[0;36m<module>\u001b[0;34m\u001b[0m\n\u001b[0;32m----> 1\u001b[0;31m \u001b[0my_pred\u001b[0m \u001b[0;34m=\u001b[0m \u001b[0mxgbr\u001b[0m\u001b[0;34m.\u001b[0m\u001b[0mpredict\u001b[0m\u001b[0;34m(\u001b[0m\u001b[0mX_test\u001b[0m\u001b[0;34m[\u001b[0m\u001b[0mpredictors\u001b[0m\u001b[0;34m]\u001b[0m\u001b[0;34m)\u001b[0m\u001b[0;34m\u001b[0m\u001b[0;34m\u001b[0m\u001b[0m\n\u001b[0m\u001b[1;32m      2\u001b[0m \u001b[0mX_test\u001b[0m\u001b[0;34m[\u001b[0m\u001b[0;34m\"item_cnt_month_pred\"\u001b[0m\u001b[0;34m]\u001b[0m \u001b[0;34m=\u001b[0m \u001b[0my_pred\u001b[0m\u001b[0;34m\u001b[0m\u001b[0;34m\u001b[0m\u001b[0m\n\u001b[1;32m      3\u001b[0m \u001b[0;34m\u001b[0m\u001b[0m\n\u001b[1;32m      4\u001b[0m \u001b[0mX_test\u001b[0m\u001b[0;34m.\u001b[0m\u001b[0mhead\u001b[0m\u001b[0;34m(\u001b[0m\u001b[0;36m2\u001b[0m\u001b[0;34m)\u001b[0m\u001b[0;34m\u001b[0m\u001b[0;34m\u001b[0m\u001b[0m\n",
      "\u001b[0;32m~/Desktop/training/kaggle-predict-future-sales/venv/lib/python3.7/site-packages/xgboost/sklearn.py\u001b[0m in \u001b[0;36mpredict\u001b[0;34m(self, data, output_margin, ntree_limit, validate_features)\u001b[0m\n\u001b[1;32m    454\u001b[0m                                           \u001b[0moutput_margin\u001b[0m\u001b[0;34m=\u001b[0m\u001b[0moutput_margin\u001b[0m\u001b[0;34m,\u001b[0m\u001b[0;34m\u001b[0m\u001b[0;34m\u001b[0m\u001b[0m\n\u001b[1;32m    455\u001b[0m                                           \u001b[0mntree_limit\u001b[0m\u001b[0;34m=\u001b[0m\u001b[0mntree_limit\u001b[0m\u001b[0;34m,\u001b[0m\u001b[0;34m\u001b[0m\u001b[0;34m\u001b[0m\u001b[0m\n\u001b[0;32m--> 456\u001b[0;31m                                           validate_features=validate_features)\n\u001b[0m\u001b[1;32m    457\u001b[0m \u001b[0;34m\u001b[0m\u001b[0m\n\u001b[1;32m    458\u001b[0m     \u001b[0;32mdef\u001b[0m \u001b[0mapply\u001b[0m\u001b[0;34m(\u001b[0m\u001b[0mself\u001b[0m\u001b[0;34m,\u001b[0m \u001b[0mX\u001b[0m\u001b[0;34m,\u001b[0m \u001b[0mntree_limit\u001b[0m\u001b[0;34m=\u001b[0m\u001b[0;36m0\u001b[0m\u001b[0;34m)\u001b[0m\u001b[0;34m:\u001b[0m\u001b[0;34m\u001b[0m\u001b[0;34m\u001b[0m\u001b[0m\n",
      "\u001b[0;32m~/Desktop/training/kaggle-predict-future-sales/venv/lib/python3.7/site-packages/xgboost/core.py\u001b[0m in \u001b[0;36mpredict\u001b[0;34m(self, data, output_margin, ntree_limit, pred_leaf, pred_contribs, approx_contribs, pred_interactions, validate_features)\u001b[0m\n\u001b[1;32m   1282\u001b[0m \u001b[0;34m\u001b[0m\u001b[0m\n\u001b[1;32m   1283\u001b[0m         \u001b[0;32mif\u001b[0m \u001b[0mvalidate_features\u001b[0m\u001b[0;34m:\u001b[0m\u001b[0;34m\u001b[0m\u001b[0;34m\u001b[0m\u001b[0m\n\u001b[0;32m-> 1284\u001b[0;31m             \u001b[0mself\u001b[0m\u001b[0;34m.\u001b[0m\u001b[0m_validate_features\u001b[0m\u001b[0;34m(\u001b[0m\u001b[0mdata\u001b[0m\u001b[0;34m)\u001b[0m\u001b[0;34m\u001b[0m\u001b[0;34m\u001b[0m\u001b[0m\n\u001b[0m\u001b[1;32m   1285\u001b[0m \u001b[0;34m\u001b[0m\u001b[0m\n\u001b[1;32m   1286\u001b[0m         \u001b[0mlength\u001b[0m \u001b[0;34m=\u001b[0m \u001b[0mc_bst_ulong\u001b[0m\u001b[0;34m(\u001b[0m\u001b[0;34m)\u001b[0m\u001b[0;34m\u001b[0m\u001b[0;34m\u001b[0m\u001b[0m\n",
      "\u001b[0;32m~/Desktop/training/kaggle-predict-future-sales/venv/lib/python3.7/site-packages/xgboost/core.py\u001b[0m in \u001b[0;36m_validate_features\u001b[0;34m(self, data)\u001b[0m\n\u001b[1;32m   1688\u001b[0m \u001b[0;34m\u001b[0m\u001b[0m\n\u001b[1;32m   1689\u001b[0m                 raise ValueError(msg.format(self.feature_names,\n\u001b[0;32m-> 1690\u001b[0;31m                                             data.feature_names))\n\u001b[0m\u001b[1;32m   1691\u001b[0m \u001b[0;34m\u001b[0m\u001b[0m\n\u001b[1;32m   1692\u001b[0m     \u001b[0;32mdef\u001b[0m \u001b[0mget_split_value_histogram\u001b[0m\u001b[0;34m(\u001b[0m\u001b[0mself\u001b[0m\u001b[0;34m,\u001b[0m \u001b[0mfeature\u001b[0m\u001b[0;34m,\u001b[0m \u001b[0mfmap\u001b[0m\u001b[0;34m=\u001b[0m\u001b[0;34m''\u001b[0m\u001b[0;34m,\u001b[0m \u001b[0mbins\u001b[0m\u001b[0;34m=\u001b[0m\u001b[0;32mNone\u001b[0m\u001b[0;34m,\u001b[0m \u001b[0mas_pandas\u001b[0m\u001b[0;34m=\u001b[0m\u001b[0;32mTrue\u001b[0m\u001b[0;34m)\u001b[0m\u001b[0;34m:\u001b[0m\u001b[0;34m\u001b[0m\u001b[0;34m\u001b[0m\u001b[0m\n",
      "\u001b[0;31mValueError\u001b[0m: feature_names mismatch: ['mean_item_price', 'std_item_price', 'item_cnt_month', 'days_with_sell', 'month', 'year', 'nb_days', 'std_item_price_lag1', 'std_item_price_lag2', 'item_cnt_month_lag1', 'item_cnt_month_lag2', 'mean_category_cnt_month', 'mean_category_item_price', 'std_category_item_price', 'mean_city_cnt_month', 'mean_city_item_price', 'std_city_item_price', 'std_category_item_price_lag1', 'is_lowest_price', 'main_category_name_Accessories', 'main_category_name_Books', 'main_category_name_Game consoles', 'main_category_name_Games', 'main_category_name_Gifts', 'main_category_name_Movies', 'main_category_name_Music', 'main_category_name_Others', 'main_category_name_Payment card', 'main_category_name_Program', 'city_name_Adygea', 'city_name_Balashikha', 'city_name_Czechs', 'city_name_Kaluga', 'city_name_Kazan', 'city_name_Khimki', 'city_name_Kolomna', 'city_name_Krasnoyarsk', 'city_name_Kursk', 'city_name_Moscow', 'city_name_Mytishchi', 'city_name_Nizhny Novgorod', 'city_name_Novosibirsk', 'city_name_Omsk', 'city_name_Other', 'city_name_Rostov-on-Don', 'city_name_SPb', 'city_name_Samara', 'city_name_Sergiev', 'city_name_Surgut', 'city_name_Tomsk', 'city_name_Tyumen', 'city_name_Ufa', 'city_name_Vologda', 'city_name_Volzhsky', 'city_name_Voronezh', 'city_name_Yakutsk', 'city_name_Yaroslavl', 'city_name_Zhukovsky'] ['mean_item_price', 'std_item_price', 'item_cnt_month', 'days_with_sell', 'month', 'year', 'nb_days', 'std_item_price_lag1', 'std_item_price_lag2', 'item_cnt_month_lag1', 'item_cnt_month_lag2', 'mean_category_cnt_month', 'mean_category_item_price', 'std_category_item_price', 'mean_city_cnt_month', 'mean_city_item_price', 'std_city_item_price', 'std_category_item_price_lag1', 'is_lowest_price', 'main_category_name_Accessories', 'main_category_name_Books', 'main_category_name_Game consoles', 'main_category_name_Games', 'main_category_name_Gifts', 'main_category_name_Movies', 'main_category_name_Music', 'main_category_name_Others', 'main_category_name_Payment card', 'main_category_name_Program']\nexpected city_name_Other, city_name_Samara, city_name_Sergiev, city_name_Krasnoyarsk, city_name_Tomsk, city_name_Yakutsk, city_name_Rostov-on-Don, city_name_SPb, city_name_Omsk, city_name_Voronezh, city_name_Surgut, city_name_Kolomna, city_name_Ufa, city_name_Czechs, city_name_Moscow, city_name_Zhukovsky, city_name_Balashikha, city_name_Volzhsky, city_name_Mytishchi, city_name_Nizhny Novgorod, city_name_Novosibirsk, city_name_Kazan, city_name_Yaroslavl, city_name_Kursk, city_name_Tyumen, city_name_Khimki, city_name_Kaluga, city_name_Adygea, city_name_Vologda in input data"
     ]
    }
   ],
   "source": [
    "y_pred = xgbr.predict(X_test[predictors])\n",
    "X_test[\"item_cnt_month_pred\"] = y_pred\n",
    "\n",
    "X_test.head(2)"
   ]
  },
  {
   "cell_type": "markdown",
   "metadata": {},
   "source": [
    "# Format to submission"
   ]
  },
  {
   "cell_type": "code",
   "execution_count": 62,
   "metadata": {},
   "outputs": [
    {
     "data": {
      "text/html": [
       "<div>\n",
       "<style scoped>\n",
       "    .dataframe tbody tr th:only-of-type {\n",
       "        vertical-align: middle;\n",
       "    }\n",
       "\n",
       "    .dataframe tbody tr th {\n",
       "        vertical-align: top;\n",
       "    }\n",
       "\n",
       "    .dataframe thead th {\n",
       "        text-align: right;\n",
       "    }\n",
       "</style>\n",
       "<table border=\"1\" class=\"dataframe\">\n",
       "  <thead>\n",
       "    <tr style=\"text-align: right;\">\n",
       "      <th></th>\n",
       "      <th>ID</th>\n",
       "      <th>shop_id</th>\n",
       "      <th>item_id</th>\n",
       "    </tr>\n",
       "  </thead>\n",
       "  <tbody>\n",
       "    <tr>\n",
       "      <th>0</th>\n",
       "      <td>0</td>\n",
       "      <td>5</td>\n",
       "      <td>5037</td>\n",
       "    </tr>\n",
       "    <tr>\n",
       "      <th>1</th>\n",
       "      <td>1</td>\n",
       "      <td>5</td>\n",
       "      <td>5320</td>\n",
       "    </tr>\n",
       "  </tbody>\n",
       "</table>\n",
       "</div>"
      ],
      "text/plain": [
       "   ID  shop_id  item_id\n",
       "0   0        5     5037\n",
       "1   1        5     5320"
      ]
     },
     "execution_count": 62,
     "metadata": {},
     "output_type": "execute_result"
    }
   ],
   "source": [
    "to_pred = pd.read_csv(cfg.FILENAMES['TEST_SALES'])\n",
    "to_pred.head(2)"
   ]
  },
  {
   "cell_type": "code",
   "execution_count": 63,
   "metadata": {},
   "outputs": [
    {
     "name": "stdout",
     "output_type": "stream",
     "text": [
      "ID                          0\n",
      "shop_id                     0\n",
      "item_id                     0\n",
      "item_cnt_month_pred    102796\n",
      "dtype: int64\n"
     ]
    },
    {
     "data": {
      "text/html": [
       "<div>\n",
       "<style scoped>\n",
       "    .dataframe tbody tr th:only-of-type {\n",
       "        vertical-align: middle;\n",
       "    }\n",
       "\n",
       "    .dataframe tbody tr th {\n",
       "        vertical-align: top;\n",
       "    }\n",
       "\n",
       "    .dataframe thead th {\n",
       "        text-align: right;\n",
       "    }\n",
       "</style>\n",
       "<table border=\"1\" class=\"dataframe\">\n",
       "  <thead>\n",
       "    <tr style=\"text-align: right;\">\n",
       "      <th></th>\n",
       "      <th>ID</th>\n",
       "      <th>shop_id</th>\n",
       "      <th>item_id</th>\n",
       "      <th>item_cnt_month_pred</th>\n",
       "    </tr>\n",
       "  </thead>\n",
       "  <tbody>\n",
       "    <tr>\n",
       "      <th>0</th>\n",
       "      <td>0</td>\n",
       "      <td>5</td>\n",
       "      <td>5037</td>\n",
       "      <td>0.620287</td>\n",
       "    </tr>\n",
       "    <tr>\n",
       "      <th>1</th>\n",
       "      <td>1</td>\n",
       "      <td>5</td>\n",
       "      <td>5320</td>\n",
       "      <td>0.000000</td>\n",
       "    </tr>\n",
       "  </tbody>\n",
       "</table>\n",
       "</div>"
      ],
      "text/plain": [
       "   ID  shop_id  item_id  item_cnt_month_pred\n",
       "0   0        5     5037             0.620287\n",
       "1   1        5     5320             0.000000"
      ]
     },
     "execution_count": 63,
     "metadata": {},
     "output_type": "execute_result"
    }
   ],
   "source": [
    "submission = pd.merge(to_pred, X_test[[\"item_id\",\"shop_id\",\"item_cnt_month_pred\"]],\n",
    "                      how=\"left\", on=[\"item_id\",\"shop_id\"])\n",
    "print(submission.isnull().sum())\n",
    "submission = submission.fillna(0)\n",
    "submission.head(2)"
   ]
  },
  {
   "cell_type": "code",
   "execution_count": 68,
   "metadata": {},
   "outputs": [],
   "source": [
    "submission.loc[submission[\"item_cnt_month_pred\"]>20,\"item_cnt_month_pred\"]=20\n",
    "submission.loc[submission[\"item_cnt_month_pred\"]<0, \"item_cnt_month_pred\"]=0"
   ]
  },
  {
   "cell_type": "code",
   "execution_count": 69,
   "metadata": {},
   "outputs": [
    {
     "data": {
      "text/html": [
       "<div>\n",
       "<style scoped>\n",
       "    .dataframe tbody tr th:only-of-type {\n",
       "        vertical-align: middle;\n",
       "    }\n",
       "\n",
       "    .dataframe tbody tr th {\n",
       "        vertical-align: top;\n",
       "    }\n",
       "\n",
       "    .dataframe thead th {\n",
       "        text-align: right;\n",
       "    }\n",
       "</style>\n",
       "<table border=\"1\" class=\"dataframe\">\n",
       "  <thead>\n",
       "    <tr style=\"text-align: right;\">\n",
       "      <th></th>\n",
       "      <th>ID</th>\n",
       "      <th>item_cnt_month</th>\n",
       "    </tr>\n",
       "  </thead>\n",
       "  <tbody>\n",
       "    <tr>\n",
       "      <th>0</th>\n",
       "      <td>0</td>\n",
       "      <td>0.5</td>\n",
       "    </tr>\n",
       "    <tr>\n",
       "      <th>1</th>\n",
       "      <td>1</td>\n",
       "      <td>0.5</td>\n",
       "    </tr>\n",
       "  </tbody>\n",
       "</table>\n",
       "</div>"
      ],
      "text/plain": [
       "   ID  item_cnt_month\n",
       "0   0             0.5\n",
       "1   1             0.5"
      ]
     },
     "execution_count": 69,
     "metadata": {},
     "output_type": "execute_result"
    }
   ],
   "source": [
    "sub_example = pd.read_csv(cfg.FILENAMES[\"SAMPLE_SUBM\"])\n",
    "sub_example.head(2)"
   ]
  },
  {
   "cell_type": "code",
   "execution_count": 70,
   "metadata": {},
   "outputs": [
    {
     "data": {
      "text/html": [
       "<div>\n",
       "<style scoped>\n",
       "    .dataframe tbody tr th:only-of-type {\n",
       "        vertical-align: middle;\n",
       "    }\n",
       "\n",
       "    .dataframe tbody tr th {\n",
       "        vertical-align: top;\n",
       "    }\n",
       "\n",
       "    .dataframe thead th {\n",
       "        text-align: right;\n",
       "    }\n",
       "</style>\n",
       "<table border=\"1\" class=\"dataframe\">\n",
       "  <thead>\n",
       "    <tr style=\"text-align: right;\">\n",
       "      <th></th>\n",
       "      <th>ID</th>\n",
       "      <th>item_cnt_month</th>\n",
       "    </tr>\n",
       "  </thead>\n",
       "  <tbody>\n",
       "    <tr>\n",
       "      <th>0</th>\n",
       "      <td>0</td>\n",
       "      <td>0.620287</td>\n",
       "    </tr>\n",
       "    <tr>\n",
       "      <th>1</th>\n",
       "      <td>1</td>\n",
       "      <td>0.000000</td>\n",
       "    </tr>\n",
       "  </tbody>\n",
       "</table>\n",
       "</div>"
      ],
      "text/plain": [
       "   ID  item_cnt_month\n",
       "0   0        0.620287\n",
       "1   1        0.000000"
      ]
     },
     "execution_count": 70,
     "metadata": {},
     "output_type": "execute_result"
    }
   ],
   "source": [
    "submission_formated = (submission[[\"ID\", \"item_cnt_month_pred\"]]\n",
    "                       .rename({\"item_cnt_month_pred\":\"item_cnt_month\"}, axis=1))\n",
    "submission_formated.head(2)"
   ]
  },
  {
   "cell_type": "code",
   "execution_count": 71,
   "metadata": {},
   "outputs": [],
   "source": [
    "submission_formated.to_csv(os.path.join(\"submissions\", \"sub_04.csv\"), index=False)"
   ]
  },
  {
   "cell_type": "code",
   "execution_count": null,
   "metadata": {},
   "outputs": [],
   "source": []
  }
 ],
 "metadata": {
  "kernelspec": {
   "display_name": "Python 3",
   "language": "python",
   "name": "python3"
  },
  "language_info": {
   "codemirror_mode": {
    "name": "ipython",
    "version": 3
   },
   "file_extension": ".py",
   "mimetype": "text/x-python",
   "name": "python",
   "nbconvert_exporter": "python",
   "pygments_lexer": "ipython3",
   "version": "3.7.6"
  }
 },
 "nbformat": 4,
 "nbformat_minor": 2
}
