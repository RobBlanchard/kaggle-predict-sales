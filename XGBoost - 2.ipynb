{
 "cells": [
  {
   "cell_type": "markdown",
   "metadata": {},
   "source": [
    "# Imports and config"
   ]
  },
  {
   "cell_type": "code",
   "execution_count": 53,
   "metadata": {},
   "outputs": [],
   "source": [
    "import os\n",
    "import pickle\n",
    "import warnings\n",
    "import random\n",
    "\n",
    "import numpy as np\n",
    "import pandas as pd\n",
    "import seaborn as sns\n",
    "import matplotlib.pyplot as plt\n",
    "\n",
    "import xgboost as xgb\n",
    "from xgboost import plot_importance, plot_tree\n",
    "from sklearn.metrics import mean_squared_error, mean_absolute_error\n",
    "\n",
    "import config as cfg\n",
    "import data_processing as dp\n",
    "\n",
    "\n",
    "warnings.filterwarnings('ignore')\n",
    "plt.style.use('fivethirtyeight')"
   ]
  },
  {
   "cell_type": "markdown",
   "metadata": {},
   "source": [
    "# Data preparation"
   ]
  },
  {
   "cell_type": "markdown",
   "metadata": {},
   "source": [
    "### Load data"
   ]
  },
  {
   "cell_type": "code",
   "execution_count": 13,
   "metadata": {},
   "outputs": [],
   "source": [
    "sales = pd.read_csv(cfg.FILENAMES['TRAIN_SALES'])\n",
    "\n",
    "items = pd.read_csv(cfg.FILENAMES[\"ITEMS\"])\n",
    "\n",
    "categories = pd.read_csv(cfg.FILENAMES[\"ITEM_CATEGORIES\"])\n",
    "\n",
    "shops = pd.read_csv(cfg.FILENAMES[\"SHOPS\"])"
   ]
  },
  {
   "cell_type": "markdown",
   "metadata": {},
   "source": [
    "### Categories features"
   ]
  },
  {
   "cell_type": "code",
   "execution_count": 3,
   "metadata": {},
   "outputs": [
    {
     "name": "stdout",
     "output_type": "stream",
     "text": [
      "84\n"
     ]
    },
    {
     "data": {
      "text/html": [
       "<div>\n",
       "<style scoped>\n",
       "    .dataframe tbody tr th:only-of-type {\n",
       "        vertical-align: middle;\n",
       "    }\n",
       "\n",
       "    .dataframe tbody tr th {\n",
       "        vertical-align: top;\n",
       "    }\n",
       "\n",
       "    .dataframe thead th {\n",
       "        text-align: right;\n",
       "    }\n",
       "</style>\n",
       "<table border=\"1\" class=\"dataframe\">\n",
       "  <thead>\n",
       "    <tr style=\"text-align: right;\">\n",
       "      <th></th>\n",
       "      <th>item_category_name</th>\n",
       "      <th>item_category_id</th>\n",
       "    </tr>\n",
       "  </thead>\n",
       "  <tbody>\n",
       "    <tr>\n",
       "      <th>0</th>\n",
       "      <td>PC - Гарнитуры/Наушники</td>\n",
       "      <td>0</td>\n",
       "    </tr>\n",
       "    <tr>\n",
       "      <th>1</th>\n",
       "      <td>Аксессуары - PS2</td>\n",
       "      <td>1</td>\n",
       "    </tr>\n",
       "  </tbody>\n",
       "</table>\n",
       "</div>"
      ],
      "text/plain": [
       "        item_category_name  item_category_id\n",
       "0  PC - Гарнитуры/Наушники                 0\n",
       "1         Аксессуары - PS2                 1"
      ]
     },
     "execution_count": 3,
     "metadata": {},
     "output_type": "execute_result"
    }
   ],
   "source": [
    "print(len(categories))\n",
    "categories.head(2)"
   ]
  },
  {
   "cell_type": "code",
   "execution_count": 4,
   "metadata": {},
   "outputs": [
    {
     "data": {
      "text/html": [
       "<div>\n",
       "<style scoped>\n",
       "    .dataframe tbody tr th:only-of-type {\n",
       "        vertical-align: middle;\n",
       "    }\n",
       "\n",
       "    .dataframe tbody tr th {\n",
       "        vertical-align: top;\n",
       "    }\n",
       "\n",
       "    .dataframe thead th {\n",
       "        text-align: right;\n",
       "    }\n",
       "</style>\n",
       "<table border=\"1\" class=\"dataframe\">\n",
       "  <thead>\n",
       "    <tr style=\"text-align: right;\">\n",
       "      <th></th>\n",
       "      <th>item_category_name</th>\n",
       "      <th>item_category_id</th>\n",
       "      <th>item_category_name_en</th>\n",
       "      <th>item_category_name_en_cur</th>\n",
       "      <th>main_category_name</th>\n",
       "      <th>sub_category_name</th>\n",
       "    </tr>\n",
       "  </thead>\n",
       "  <tbody>\n",
       "    <tr>\n",
       "      <th>0</th>\n",
       "      <td>PC - Гарнитуры/Наушники</td>\n",
       "      <td>0</td>\n",
       "      <td>PC - Headsets / Headphones</td>\n",
       "      <td>Accessories - PC</td>\n",
       "      <td>Accessories</td>\n",
       "      <td>PC</td>\n",
       "    </tr>\n",
       "    <tr>\n",
       "      <th>1</th>\n",
       "      <td>Аксессуары - PS2</td>\n",
       "      <td>1</td>\n",
       "      <td>Accessories - PS2</td>\n",
       "      <td>Accessories - PS2</td>\n",
       "      <td>Accessories</td>\n",
       "      <td>PS2</td>\n",
       "    </tr>\n",
       "  </tbody>\n",
       "</table>\n",
       "</div>"
      ],
      "text/plain": [
       "        item_category_name  item_category_id       item_category_name_en  \\\n",
       "0  PC - Гарнитуры/Наушники                 0  PC - Headsets / Headphones   \n",
       "1         Аксессуары - PS2                 1           Accessories - PS2   \n",
       "\n",
       "  item_category_name_en_cur main_category_name sub_category_name  \n",
       "0          Accessories - PC        Accessories                PC  \n",
       "1         Accessories - PS2        Accessories               PS2  "
      ]
     },
     "execution_count": 4,
     "metadata": {},
     "output_type": "execute_result"
    }
   ],
   "source": [
    "category_names = list(categories[\"item_category_name\"])\n",
    "categories[\"item_category_name_en\"] = dp.translate_string_list(category_names)\n",
    "\n",
    "categories[\"item_category_name_en_cur\"] = dp.process_categories(categories[\"item_category_name_en\"])\n",
    "\n",
    "main_sub_category_colnames = [\"main_category_name\", \"sub_category_name\"]\n",
    "categories[main_sub_category_colnames] = categories[\"item_category_name_en_cur\"].str.split(\" - \", expand=True)\n",
    "categories.head(2)"
   ]
  },
  {
   "cell_type": "code",
   "execution_count": 5,
   "metadata": {},
   "outputs": [
    {
     "data": {
      "text/html": [
       "<div>\n",
       "<style scoped>\n",
       "    .dataframe tbody tr th:only-of-type {\n",
       "        vertical-align: middle;\n",
       "    }\n",
       "\n",
       "    .dataframe tbody tr th {\n",
       "        vertical-align: top;\n",
       "    }\n",
       "\n",
       "    .dataframe thead th {\n",
       "        text-align: right;\n",
       "    }\n",
       "</style>\n",
       "<table border=\"1\" class=\"dataframe\">\n",
       "  <thead>\n",
       "    <tr style=\"text-align: right;\">\n",
       "      <th></th>\n",
       "      <th>item_category_id</th>\n",
       "      <th>main_category_name</th>\n",
       "      <th>sub_category_name</th>\n",
       "    </tr>\n",
       "  </thead>\n",
       "  <tbody>\n",
       "    <tr>\n",
       "      <th>0</th>\n",
       "      <td>0</td>\n",
       "      <td>Accessories</td>\n",
       "      <td>PC</td>\n",
       "    </tr>\n",
       "  </tbody>\n",
       "</table>\n",
       "</div>"
      ],
      "text/plain": [
       "   item_category_id main_category_name sub_category_name\n",
       "0                 0        Accessories                PC"
      ]
     },
     "execution_count": 5,
     "metadata": {},
     "output_type": "execute_result"
    }
   ],
   "source": [
    "categories = categories[[\"item_category_id\",\"main_category_name\", \"sub_category_name\"]]\n",
    "categories.head(1)"
   ]
  },
  {
   "cell_type": "markdown",
   "metadata": {},
   "source": [
    "## Shop features"
   ]
  },
  {
   "cell_type": "code",
   "execution_count": 14,
   "metadata": {},
   "outputs": [
    {
     "name": "stdout",
     "output_type": "stream",
     "text": [
      "60\n"
     ]
    },
    {
     "data": {
      "text/html": [
       "<div>\n",
       "<style scoped>\n",
       "    .dataframe tbody tr th:only-of-type {\n",
       "        vertical-align: middle;\n",
       "    }\n",
       "\n",
       "    .dataframe tbody tr th {\n",
       "        vertical-align: top;\n",
       "    }\n",
       "\n",
       "    .dataframe thead th {\n",
       "        text-align: right;\n",
       "    }\n",
       "</style>\n",
       "<table border=\"1\" class=\"dataframe\">\n",
       "  <thead>\n",
       "    <tr style=\"text-align: right;\">\n",
       "      <th></th>\n",
       "      <th>shop_name</th>\n",
       "      <th>shop_id</th>\n",
       "    </tr>\n",
       "  </thead>\n",
       "  <tbody>\n",
       "    <tr>\n",
       "      <th>0</th>\n",
       "      <td>!Якутск Орджоникидзе, 56 фран</td>\n",
       "      <td>0</td>\n",
       "    </tr>\n",
       "    <tr>\n",
       "      <th>1</th>\n",
       "      <td>!Якутск ТЦ \"Центральный\" фран</td>\n",
       "      <td>1</td>\n",
       "    </tr>\n",
       "  </tbody>\n",
       "</table>\n",
       "</div>"
      ],
      "text/plain": [
       "                       shop_name  shop_id\n",
       "0  !Якутск Орджоникидзе, 56 фран        0\n",
       "1  !Якутск ТЦ \"Центральный\" фран        1"
      ]
     },
     "execution_count": 14,
     "metadata": {},
     "output_type": "execute_result"
    }
   ],
   "source": [
    "print(len(shops))\n",
    "shops.head(2)"
   ]
  },
  {
   "cell_type": "code",
   "execution_count": 16,
   "metadata": {},
   "outputs": [
    {
     "data": {
      "text/html": [
       "<div>\n",
       "<style scoped>\n",
       "    .dataframe tbody tr th:only-of-type {\n",
       "        vertical-align: middle;\n",
       "    }\n",
       "\n",
       "    .dataframe tbody tr th {\n",
       "        vertical-align: top;\n",
       "    }\n",
       "\n",
       "    .dataframe thead th {\n",
       "        text-align: right;\n",
       "    }\n",
       "</style>\n",
       "<table border=\"1\" class=\"dataframe\">\n",
       "  <thead>\n",
       "    <tr style=\"text-align: right;\">\n",
       "      <th></th>\n",
       "      <th>shop_name</th>\n",
       "      <th>shop_id</th>\n",
       "      <th>city_rus</th>\n",
       "      <th>city_name</th>\n",
       "    </tr>\n",
       "  </thead>\n",
       "  <tbody>\n",
       "    <tr>\n",
       "      <th>0</th>\n",
       "      <td>!Якутск Орджоникидзе, 56 фран</td>\n",
       "      <td>0</td>\n",
       "      <td>!Якутск</td>\n",
       "      <td>Yakutsk</td>\n",
       "    </tr>\n",
       "    <tr>\n",
       "      <th>1</th>\n",
       "      <td>!Якутск ТЦ \"Центральный\" фран</td>\n",
       "      <td>1</td>\n",
       "      <td>!Якутск</td>\n",
       "      <td>Yakutsk</td>\n",
       "    </tr>\n",
       "  </tbody>\n",
       "</table>\n",
       "</div>"
      ],
      "text/plain": [
       "                       shop_name  shop_id city_rus city_name\n",
       "0  !Якутск Орджоникидзе, 56 фран        0  !Якутск   Yakutsk\n",
       "1  !Якутск ТЦ \"Центральный\" фран        1  !Якутск   Yakutsk"
      ]
     },
     "execution_count": 16,
     "metadata": {},
     "output_type": "execute_result"
    }
   ],
   "source": [
    "shops[\"city_rus\"] = shops[\"shop_name\"].str.split(\" \",expand=True)[0]\n",
    "shop_names = [x.replace(\"!\",\"\") for x in shops[\"city_rus\"]]\n",
    "shops[\"city_name\"] = dp.translate_string_list(shop_names)\n",
    "\n",
    "shops[\"city_name\"] = dp.process_shops(shops[\"city_name\"])\n",
    "shops.head(2)"
   ]
  },
  {
   "cell_type": "code",
   "execution_count": 17,
   "metadata": {},
   "outputs": [
    {
     "data": {
      "text/html": [
       "<div>\n",
       "<style scoped>\n",
       "    .dataframe tbody tr th:only-of-type {\n",
       "        vertical-align: middle;\n",
       "    }\n",
       "\n",
       "    .dataframe tbody tr th {\n",
       "        vertical-align: top;\n",
       "    }\n",
       "\n",
       "    .dataframe thead th {\n",
       "        text-align: right;\n",
       "    }\n",
       "</style>\n",
       "<table border=\"1\" class=\"dataframe\">\n",
       "  <thead>\n",
       "    <tr style=\"text-align: right;\">\n",
       "      <th></th>\n",
       "      <th>shop_id</th>\n",
       "      <th>city_name</th>\n",
       "    </tr>\n",
       "  </thead>\n",
       "  <tbody>\n",
       "    <tr>\n",
       "      <th>0</th>\n",
       "      <td>0</td>\n",
       "      <td>Yakutsk</td>\n",
       "    </tr>\n",
       "    <tr>\n",
       "      <th>1</th>\n",
       "      <td>1</td>\n",
       "      <td>Yakutsk</td>\n",
       "    </tr>\n",
       "  </tbody>\n",
       "</table>\n",
       "</div>"
      ],
      "text/plain": [
       "   shop_id city_name\n",
       "0        0   Yakutsk\n",
       "1        1   Yakutsk"
      ]
     },
     "execution_count": 17,
     "metadata": {},
     "output_type": "execute_result"
    }
   ],
   "source": [
    "shops = shops[[\"shop_id\",\"city_name\"]]\n",
    "shops.head(2)"
   ]
  },
  {
   "cell_type": "markdown",
   "metadata": {},
   "source": [
    "## Items features"
   ]
  },
  {
   "cell_type": "markdown",
   "metadata": {},
   "source": [
    "No item feature has been computed yet. We'll just use this table to link items with their category."
   ]
  },
  {
   "cell_type": "code",
   "execution_count": 118,
   "metadata": {},
   "outputs": [
    {
     "data": {
      "text/html": [
       "<div>\n",
       "<style scoped>\n",
       "    .dataframe tbody tr th:only-of-type {\n",
       "        vertical-align: middle;\n",
       "    }\n",
       "\n",
       "    .dataframe tbody tr th {\n",
       "        vertical-align: top;\n",
       "    }\n",
       "\n",
       "    .dataframe thead th {\n",
       "        text-align: right;\n",
       "    }\n",
       "</style>\n",
       "<table border=\"1\" class=\"dataframe\">\n",
       "  <thead>\n",
       "    <tr style=\"text-align: right;\">\n",
       "      <th></th>\n",
       "      <th>item_id</th>\n",
       "      <th>item_category_id</th>\n",
       "    </tr>\n",
       "  </thead>\n",
       "  <tbody>\n",
       "    <tr>\n",
       "      <th>0</th>\n",
       "      <td>0</td>\n",
       "      <td>40</td>\n",
       "    </tr>\n",
       "    <tr>\n",
       "      <th>1</th>\n",
       "      <td>1</td>\n",
       "      <td>76</td>\n",
       "    </tr>\n",
       "  </tbody>\n",
       "</table>\n",
       "</div>"
      ],
      "text/plain": [
       "   item_id  item_category_id\n",
       "0        0                40\n",
       "1        1                76"
      ]
     },
     "execution_count": 118,
     "metadata": {},
     "output_type": "execute_result"
    }
   ],
   "source": [
    "items = items[[\"item_id\",\"item_category_id\"]]\n",
    "items.head(2)"
   ]
  },
  {
   "cell_type": "markdown",
   "metadata": {},
   "source": [
    "## Remove train negative values and outliers"
   ]
  },
  {
   "cell_type": "code",
   "execution_count": 22,
   "metadata": {},
   "outputs": [
    {
     "name": "stdout",
     "output_type": "stream",
     "text": [
      "2935849\n"
     ]
    },
    {
     "data": {
      "text/html": [
       "<div>\n",
       "<style scoped>\n",
       "    .dataframe tbody tr th:only-of-type {\n",
       "        vertical-align: middle;\n",
       "    }\n",
       "\n",
       "    .dataframe tbody tr th {\n",
       "        vertical-align: top;\n",
       "    }\n",
       "\n",
       "    .dataframe thead th {\n",
       "        text-align: right;\n",
       "    }\n",
       "</style>\n",
       "<table border=\"1\" class=\"dataframe\">\n",
       "  <thead>\n",
       "    <tr style=\"text-align: right;\">\n",
       "      <th></th>\n",
       "      <th>date</th>\n",
       "      <th>date_block_num</th>\n",
       "      <th>shop_id</th>\n",
       "      <th>item_id</th>\n",
       "      <th>item_price</th>\n",
       "      <th>item_cnt_day</th>\n",
       "    </tr>\n",
       "  </thead>\n",
       "  <tbody>\n",
       "    <tr>\n",
       "      <th>0</th>\n",
       "      <td>02.01.2013</td>\n",
       "      <td>0</td>\n",
       "      <td>59</td>\n",
       "      <td>22154</td>\n",
       "      <td>999.0</td>\n",
       "      <td>1.0</td>\n",
       "    </tr>\n",
       "    <tr>\n",
       "      <th>1</th>\n",
       "      <td>03.01.2013</td>\n",
       "      <td>0</td>\n",
       "      <td>25</td>\n",
       "      <td>2552</td>\n",
       "      <td>899.0</td>\n",
       "      <td>1.0</td>\n",
       "    </tr>\n",
       "    <tr>\n",
       "      <th>2</th>\n",
       "      <td>05.01.2013</td>\n",
       "      <td>0</td>\n",
       "      <td>25</td>\n",
       "      <td>2552</td>\n",
       "      <td>899.0</td>\n",
       "      <td>-1.0</td>\n",
       "    </tr>\n",
       "  </tbody>\n",
       "</table>\n",
       "</div>"
      ],
      "text/plain": [
       "         date  date_block_num  shop_id  item_id  item_price  item_cnt_day\n",
       "0  02.01.2013               0       59    22154       999.0           1.0\n",
       "1  03.01.2013               0       25     2552       899.0           1.0\n",
       "2  05.01.2013               0       25     2552       899.0          -1.0"
      ]
     },
     "execution_count": 22,
     "metadata": {},
     "output_type": "execute_result"
    }
   ],
   "source": [
    "print(len(sales))\n",
    "sales.head(3)"
   ]
  },
  {
   "cell_type": "markdown",
   "metadata": {},
   "source": [
    "##### Remove negative values"
   ]
  },
  {
   "cell_type": "code",
   "execution_count": 26,
   "metadata": {},
   "outputs": [
    {
     "name": "stdout",
     "output_type": "stream",
     "text": [
      "From 2935849 to 2928493\n"
     ]
    }
   ],
   "source": [
    "sales_pos = sales.loc[sales[\"item_cnt_day\"]>0]\n",
    "print(f\"From {len(sales)} to {len(sales_pos)}\")"
   ]
  },
  {
   "cell_type": "markdown",
   "metadata": {},
   "source": [
    "##### Remove outliers"
   ]
  },
  {
   "cell_type": "code",
   "execution_count": 28,
   "metadata": {},
   "outputs": [
    {
     "data": {
      "text/html": [
       "<div>\n",
       "<style scoped>\n",
       "    .dataframe tbody tr th:only-of-type {\n",
       "        vertical-align: middle;\n",
       "    }\n",
       "\n",
       "    .dataframe tbody tr th {\n",
       "        vertical-align: top;\n",
       "    }\n",
       "\n",
       "    .dataframe thead th {\n",
       "        text-align: right;\n",
       "    }\n",
       "</style>\n",
       "<table border=\"1\" class=\"dataframe\">\n",
       "  <thead>\n",
       "    <tr style=\"text-align: right;\">\n",
       "      <th></th>\n",
       "      <th>date_block_num</th>\n",
       "      <th>shop_id</th>\n",
       "      <th>item_id</th>\n",
       "      <th>item_price</th>\n",
       "      <th>item_cnt_day</th>\n",
       "    </tr>\n",
       "  </thead>\n",
       "  <tbody>\n",
       "    <tr>\n",
       "      <th>count</th>\n",
       "      <td>2.928493e+06</td>\n",
       "      <td>2.928493e+06</td>\n",
       "      <td>2.928493e+06</td>\n",
       "      <td>2.928493e+06</td>\n",
       "      <td>2.928493e+06</td>\n",
       "    </tr>\n",
       "    <tr>\n",
       "      <th>mean</th>\n",
       "      <td>1.456976e+01</td>\n",
       "      <td>3.300295e+01</td>\n",
       "      <td>1.020028e+04</td>\n",
       "      <td>8.894664e+02</td>\n",
       "      <td>1.248337e+00</td>\n",
       "    </tr>\n",
       "    <tr>\n",
       "      <th>std</th>\n",
       "      <td>9.422952e+00</td>\n",
       "      <td>1.622543e+01</td>\n",
       "      <td>6.324396e+03</td>\n",
       "      <td>1.727498e+03</td>\n",
       "      <td>2.619586e+00</td>\n",
       "    </tr>\n",
       "    <tr>\n",
       "      <th>min</th>\n",
       "      <td>0.000000e+00</td>\n",
       "      <td>0.000000e+00</td>\n",
       "      <td>0.000000e+00</td>\n",
       "      <td>-1.000000e+00</td>\n",
       "      <td>1.000000e+00</td>\n",
       "    </tr>\n",
       "    <tr>\n",
       "      <th>25%</th>\n",
       "      <td>7.000000e+00</td>\n",
       "      <td>2.200000e+01</td>\n",
       "      <td>4.477000e+03</td>\n",
       "      <td>2.490000e+02</td>\n",
       "      <td>1.000000e+00</td>\n",
       "    </tr>\n",
       "    <tr>\n",
       "      <th>50%</th>\n",
       "      <td>1.400000e+01</td>\n",
       "      <td>3.100000e+01</td>\n",
       "      <td>9.355000e+03</td>\n",
       "      <td>3.990000e+02</td>\n",
       "      <td>1.000000e+00</td>\n",
       "    </tr>\n",
       "    <tr>\n",
       "      <th>75%</th>\n",
       "      <td>2.300000e+01</td>\n",
       "      <td>4.700000e+01</td>\n",
       "      <td>1.569100e+04</td>\n",
       "      <td>9.990000e+02</td>\n",
       "      <td>1.000000e+00</td>\n",
       "    </tr>\n",
       "    <tr>\n",
       "      <th>max</th>\n",
       "      <td>3.300000e+01</td>\n",
       "      <td>5.900000e+01</td>\n",
       "      <td>2.216900e+04</td>\n",
       "      <td>3.079800e+05</td>\n",
       "      <td>2.169000e+03</td>\n",
       "    </tr>\n",
       "  </tbody>\n",
       "</table>\n",
       "</div>"
      ],
      "text/plain": [
       "       date_block_num       shop_id       item_id    item_price  item_cnt_day\n",
       "count    2.928493e+06  2.928493e+06  2.928493e+06  2.928493e+06  2.928493e+06\n",
       "mean     1.456976e+01  3.300295e+01  1.020028e+04  8.894664e+02  1.248337e+00\n",
       "std      9.422952e+00  1.622543e+01  6.324396e+03  1.727498e+03  2.619586e+00\n",
       "min      0.000000e+00  0.000000e+00  0.000000e+00 -1.000000e+00  1.000000e+00\n",
       "25%      7.000000e+00  2.200000e+01  4.477000e+03  2.490000e+02  1.000000e+00\n",
       "50%      1.400000e+01  3.100000e+01  9.355000e+03  3.990000e+02  1.000000e+00\n",
       "75%      2.300000e+01  4.700000e+01  1.569100e+04  9.990000e+02  1.000000e+00\n",
       "max      3.300000e+01  5.900000e+01  2.216900e+04  3.079800e+05  2.169000e+03"
      ]
     },
     "execution_count": 28,
     "metadata": {},
     "output_type": "execute_result"
    }
   ],
   "source": [
    "sales_pos.describe()"
   ]
  },
  {
   "cell_type": "code",
   "execution_count": 50,
   "metadata": {},
   "outputs": [
    {
     "name": "stdout",
     "output_type": "stream",
     "text": [
      "523\n"
     ]
    },
    {
     "data": {
      "text/html": [
       "<div>\n",
       "<style scoped>\n",
       "    .dataframe tbody tr th:only-of-type {\n",
       "        vertical-align: middle;\n",
       "    }\n",
       "\n",
       "    .dataframe tbody tr th {\n",
       "        vertical-align: top;\n",
       "    }\n",
       "\n",
       "    .dataframe thead th {\n",
       "        text-align: right;\n",
       "    }\n",
       "</style>\n",
       "<table border=\"1\" class=\"dataframe\">\n",
       "  <thead>\n",
       "    <tr style=\"text-align: right;\">\n",
       "      <th></th>\n",
       "      <th>date</th>\n",
       "      <th>date_block_num</th>\n",
       "      <th>shop_id</th>\n",
       "      <th>item_id</th>\n",
       "      <th>item_price</th>\n",
       "      <th>item_cnt_day</th>\n",
       "    </tr>\n",
       "  </thead>\n",
       "  <tbody>\n",
       "    <tr>\n",
       "      <th>70814</th>\n",
       "      <td>02.01.2013</td>\n",
       "      <td>0</td>\n",
       "      <td>31</td>\n",
       "      <td>13598</td>\n",
       "      <td>10.000000</td>\n",
       "      <td>64.0</td>\n",
       "    </tr>\n",
       "    <tr>\n",
       "      <th>122430</th>\n",
       "      <td>05.02.2013</td>\n",
       "      <td>1</td>\n",
       "      <td>42</td>\n",
       "      <td>2749</td>\n",
       "      <td>1070.698113</td>\n",
       "      <td>53.0</td>\n",
       "    </tr>\n",
       "    <tr>\n",
       "      <th>239024</th>\n",
       "      <td>12.03.2013</td>\n",
       "      <td>2</td>\n",
       "      <td>31</td>\n",
       "      <td>6738</td>\n",
       "      <td>699.000000</td>\n",
       "      <td>88.0</td>\n",
       "    </tr>\n",
       "    <tr>\n",
       "      <th>244068</th>\n",
       "      <td>08.03.2013</td>\n",
       "      <td>2</td>\n",
       "      <td>31</td>\n",
       "      <td>3320</td>\n",
       "      <td>999.494231</td>\n",
       "      <td>52.0</td>\n",
       "    </tr>\n",
       "    <tr>\n",
       "      <th>269148</th>\n",
       "      <td>12.03.2013</td>\n",
       "      <td>2</td>\n",
       "      <td>42</td>\n",
       "      <td>6738</td>\n",
       "      <td>698.994643</td>\n",
       "      <td>56.0</td>\n",
       "    </tr>\n",
       "    <tr>\n",
       "      <th>...</th>\n",
       "      <td>...</td>\n",
       "      <td>...</td>\n",
       "      <td>...</td>\n",
       "      <td>...</td>\n",
       "      <td>...</td>\n",
       "      <td>...</td>\n",
       "    </tr>\n",
       "    <tr>\n",
       "      <th>2909818</th>\n",
       "      <td>28.10.2015</td>\n",
       "      <td>33</td>\n",
       "      <td>12</td>\n",
       "      <td>11373</td>\n",
       "      <td>0.908714</td>\n",
       "      <td>2169.0</td>\n",
       "    </tr>\n",
       "    <tr>\n",
       "      <th>2918659</th>\n",
       "      <td>02.10.2015</td>\n",
       "      <td>33</td>\n",
       "      <td>9</td>\n",
       "      <td>7018</td>\n",
       "      <td>299.000000</td>\n",
       "      <td>67.0</td>\n",
       "    </tr>\n",
       "    <tr>\n",
       "      <th>2918694</th>\n",
       "      <td>03.10.2015</td>\n",
       "      <td>33</td>\n",
       "      <td>9</td>\n",
       "      <td>4201</td>\n",
       "      <td>399.000000</td>\n",
       "      <td>62.0</td>\n",
       "    </tr>\n",
       "    <tr>\n",
       "      <th>2918705</th>\n",
       "      <td>02.10.2015</td>\n",
       "      <td>33</td>\n",
       "      <td>9</td>\n",
       "      <td>4201</td>\n",
       "      <td>399.000000</td>\n",
       "      <td>110.0</td>\n",
       "    </tr>\n",
       "    <tr>\n",
       "      <th>2935362</th>\n",
       "      <td>13.10.2015</td>\n",
       "      <td>33</td>\n",
       "      <td>25</td>\n",
       "      <td>10201</td>\n",
       "      <td>768.620253</td>\n",
       "      <td>79.0</td>\n",
       "    </tr>\n",
       "  </tbody>\n",
       "</table>\n",
       "<p>523 rows × 6 columns</p>\n",
       "</div>"
      ],
      "text/plain": [
       "               date  date_block_num  shop_id  item_id   item_price  \\\n",
       "70814    02.01.2013               0       31    13598    10.000000   \n",
       "122430   05.02.2013               1       42     2749  1070.698113   \n",
       "239024   12.03.2013               2       31     6738   699.000000   \n",
       "244068   08.03.2013               2       31     3320   999.494231   \n",
       "269148   12.03.2013               2       42     6738   698.994643   \n",
       "...             ...             ...      ...      ...          ...   \n",
       "2909818  28.10.2015              33       12    11373     0.908714   \n",
       "2918659  02.10.2015              33        9     7018   299.000000   \n",
       "2918694  03.10.2015              33        9     4201   399.000000   \n",
       "2918705  02.10.2015              33        9     4201   399.000000   \n",
       "2935362  13.10.2015              33       25    10201   768.620253   \n",
       "\n",
       "         item_cnt_day  \n",
       "70814            64.0  \n",
       "122430           53.0  \n",
       "239024           88.0  \n",
       "244068           52.0  \n",
       "269148           56.0  \n",
       "...               ...  \n",
       "2909818        2169.0  \n",
       "2918659          67.0  \n",
       "2918694          62.0  \n",
       "2918705         110.0  \n",
       "2935362          79.0  \n",
       "\n",
       "[523 rows x 6 columns]"
      ]
     },
     "execution_count": 50,
     "metadata": {},
     "output_type": "execute_result"
    }
   ],
   "source": [
    "print(len(sales_pos[sales_pos[\"item_cnt_day\"]>50]))\n",
    "sales_pos.loc[sales_pos[\"item_cnt_day\"]>50]"
   ]
  },
  {
   "cell_type": "code",
   "execution_count": 57,
   "metadata": {},
   "outputs": [
    {
     "name": "stdout",
     "output_type": "stream",
     "text": [
      "['Total War: Rome 2. Имперское издание [PC, русская версия]', 'Билет \"ИгроМир 2014\" - семейный до 4-х человек вкл. (на один день (отдельно - 3, 4, 5 октября 2014))', 'Prototype 2 [PC, Цифровая версия]', 'Watch_Dogs. Vigilante Edition [PC, русская версия]', 'Орден 1886 [PS4, русская версия]', 'Средиземье: Тени Мордора [PC, Цифровая версия]', 'Grand Theft Auto V [PS3, русские субтитры]', 'StarCraft II: Heart of the Swarm (дополнение) [PC, Jewel, русская версия]', 'Sony PlayStation 4 (500 Gb) Black (CUH-1008A/1108A/B01)', 'Mortal Kombat X [PS4, русские субтитры]']\n"
     ]
    }
   ],
   "source": [
    "peak_sales_item_ids = set(sales_pos.loc[sales_pos[\"item_cnt_day\"]>50,\"item_id\"])\n",
    "print(random.sample(list(items.loc[items[\"item_id\"].isin(peak_sales_item_ids),\"item_name\"].values), k=10))"
   ]
  },
  {
   "cell_type": "markdown",
   "metadata": {},
   "source": [
    "Analysis: those peak numbers come from either an error, or the selling of a product on its release date. We should then clip all training daily values to [0,50]."
   ]
  },
  {
   "cell_type": "code",
   "execution_count": 58,
   "metadata": {},
   "outputs": [],
   "source": [
    "sales_pos.loc[sales[\"item_cnt_day\"]>50, \"item_cnt_day\"] = 50"
   ]
  },
  {
   "cell_type": "code",
   "execution_count": 59,
   "metadata": {},
   "outputs": [
    {
     "data": {
      "text/html": [
       "<div>\n",
       "<style scoped>\n",
       "    .dataframe tbody tr th:only-of-type {\n",
       "        vertical-align: middle;\n",
       "    }\n",
       "\n",
       "    .dataframe tbody tr th {\n",
       "        vertical-align: top;\n",
       "    }\n",
       "\n",
       "    .dataframe thead th {\n",
       "        text-align: right;\n",
       "    }\n",
       "</style>\n",
       "<table border=\"1\" class=\"dataframe\">\n",
       "  <thead>\n",
       "    <tr style=\"text-align: right;\">\n",
       "      <th></th>\n",
       "      <th>date_block_num</th>\n",
       "      <th>shop_id</th>\n",
       "      <th>item_id</th>\n",
       "      <th>item_price</th>\n",
       "      <th>item_cnt_day</th>\n",
       "    </tr>\n",
       "  </thead>\n",
       "  <tbody>\n",
       "    <tr>\n",
       "      <th>count</th>\n",
       "      <td>2.928493e+06</td>\n",
       "      <td>2.928493e+06</td>\n",
       "      <td>2.928493e+06</td>\n",
       "      <td>2.928493e+06</td>\n",
       "      <td>2.928493e+06</td>\n",
       "    </tr>\n",
       "    <tr>\n",
       "      <th>mean</th>\n",
       "      <td>1.456976e+01</td>\n",
       "      <td>3.300295e+01</td>\n",
       "      <td>1.020028e+04</td>\n",
       "      <td>8.894664e+02</td>\n",
       "      <td>1.238134e+00</td>\n",
       "    </tr>\n",
       "    <tr>\n",
       "      <th>std</th>\n",
       "      <td>9.422952e+00</td>\n",
       "      <td>1.622543e+01</td>\n",
       "      <td>6.324396e+03</td>\n",
       "      <td>1.727498e+03</td>\n",
       "      <td>1.469850e+00</td>\n",
       "    </tr>\n",
       "    <tr>\n",
       "      <th>min</th>\n",
       "      <td>0.000000e+00</td>\n",
       "      <td>0.000000e+00</td>\n",
       "      <td>0.000000e+00</td>\n",
       "      <td>-1.000000e+00</td>\n",
       "      <td>1.000000e+00</td>\n",
       "    </tr>\n",
       "    <tr>\n",
       "      <th>25%</th>\n",
       "      <td>7.000000e+00</td>\n",
       "      <td>2.200000e+01</td>\n",
       "      <td>4.477000e+03</td>\n",
       "      <td>2.490000e+02</td>\n",
       "      <td>1.000000e+00</td>\n",
       "    </tr>\n",
       "    <tr>\n",
       "      <th>50%</th>\n",
       "      <td>1.400000e+01</td>\n",
       "      <td>3.100000e+01</td>\n",
       "      <td>9.355000e+03</td>\n",
       "      <td>3.990000e+02</td>\n",
       "      <td>1.000000e+00</td>\n",
       "    </tr>\n",
       "    <tr>\n",
       "      <th>75%</th>\n",
       "      <td>2.300000e+01</td>\n",
       "      <td>4.700000e+01</td>\n",
       "      <td>1.569100e+04</td>\n",
       "      <td>9.990000e+02</td>\n",
       "      <td>1.000000e+00</td>\n",
       "    </tr>\n",
       "    <tr>\n",
       "      <th>max</th>\n",
       "      <td>3.300000e+01</td>\n",
       "      <td>5.900000e+01</td>\n",
       "      <td>2.216900e+04</td>\n",
       "      <td>3.079800e+05</td>\n",
       "      <td>5.000000e+01</td>\n",
       "    </tr>\n",
       "  </tbody>\n",
       "</table>\n",
       "</div>"
      ],
      "text/plain": [
       "       date_block_num       shop_id       item_id    item_price  item_cnt_day\n",
       "count    2.928493e+06  2.928493e+06  2.928493e+06  2.928493e+06  2.928493e+06\n",
       "mean     1.456976e+01  3.300295e+01  1.020028e+04  8.894664e+02  1.238134e+00\n",
       "std      9.422952e+00  1.622543e+01  6.324396e+03  1.727498e+03  1.469850e+00\n",
       "min      0.000000e+00  0.000000e+00  0.000000e+00 -1.000000e+00  1.000000e+00\n",
       "25%      7.000000e+00  2.200000e+01  4.477000e+03  2.490000e+02  1.000000e+00\n",
       "50%      1.400000e+01  3.100000e+01  9.355000e+03  3.990000e+02  1.000000e+00\n",
       "75%      2.300000e+01  4.700000e+01  1.569100e+04  9.990000e+02  1.000000e+00\n",
       "max      3.300000e+01  5.900000e+01  2.216900e+04  3.079800e+05  5.000000e+01"
      ]
     },
     "execution_count": 59,
     "metadata": {},
     "output_type": "execute_result"
    }
   ],
   "source": [
    "sales_pos.describe()"
   ]
  },
  {
   "cell_type": "code",
   "execution_count": 61,
   "metadata": {},
   "outputs": [
    {
     "data": {
      "text/html": [
       "<div>\n",
       "<style scoped>\n",
       "    .dataframe tbody tr th:only-of-type {\n",
       "        vertical-align: middle;\n",
       "    }\n",
       "\n",
       "    .dataframe tbody tr th {\n",
       "        vertical-align: top;\n",
       "    }\n",
       "\n",
       "    .dataframe thead th {\n",
       "        text-align: right;\n",
       "    }\n",
       "</style>\n",
       "<table border=\"1\" class=\"dataframe\">\n",
       "  <thead>\n",
       "    <tr style=\"text-align: right;\">\n",
       "      <th></th>\n",
       "      <th>date</th>\n",
       "      <th>date_block_num</th>\n",
       "      <th>shop_id</th>\n",
       "      <th>item_id</th>\n",
       "      <th>item_price</th>\n",
       "      <th>item_cnt_day</th>\n",
       "    </tr>\n",
       "  </thead>\n",
       "  <tbody>\n",
       "    <tr>\n",
       "      <th>0</th>\n",
       "      <td>02.01.2013</td>\n",
       "      <td>0</td>\n",
       "      <td>59</td>\n",
       "      <td>22154</td>\n",
       "      <td>999.0</td>\n",
       "      <td>1.0</td>\n",
       "    </tr>\n",
       "    <tr>\n",
       "      <th>1</th>\n",
       "      <td>03.01.2013</td>\n",
       "      <td>0</td>\n",
       "      <td>25</td>\n",
       "      <td>2552</td>\n",
       "      <td>899.0</td>\n",
       "      <td>1.0</td>\n",
       "    </tr>\n",
       "  </tbody>\n",
       "</table>\n",
       "</div>"
      ],
      "text/plain": [
       "         date  date_block_num  shop_id  item_id  item_price  item_cnt_day\n",
       "0  02.01.2013               0       59    22154       999.0           1.0\n",
       "1  03.01.2013               0       25     2552       899.0           1.0"
      ]
     },
     "execution_count": 61,
     "metadata": {},
     "output_type": "execute_result"
    }
   ],
   "source": [
    "sales_pos.head(2)"
   ]
  },
  {
   "cell_type": "markdown",
   "metadata": {},
   "source": [
    "## Aggregate sales per month"
   ]
  },
  {
   "cell_type": "code",
   "execution_count": 91,
   "metadata": {},
   "outputs": [
    {
     "name": "stdout",
     "output_type": "stream",
     "text": [
      "1608226\n"
     ]
    },
    {
     "data": {
      "text/html": [
       "<div>\n",
       "<style scoped>\n",
       "    .dataframe tbody tr th:only-of-type {\n",
       "        vertical-align: middle;\n",
       "    }\n",
       "\n",
       "    .dataframe tbody tr th {\n",
       "        vertical-align: top;\n",
       "    }\n",
       "\n",
       "    .dataframe thead th {\n",
       "        text-align: right;\n",
       "    }\n",
       "</style>\n",
       "<table border=\"1\" class=\"dataframe\">\n",
       "  <thead>\n",
       "    <tr style=\"text-align: right;\">\n",
       "      <th></th>\n",
       "      <th>date_block_num</th>\n",
       "      <th>shop_id</th>\n",
       "      <th>item_id</th>\n",
       "      <th>random_date</th>\n",
       "      <th>mean_item_price</th>\n",
       "      <th>std_item_price</th>\n",
       "      <th>item_cnt_month</th>\n",
       "      <th>days_with_sell</th>\n",
       "    </tr>\n",
       "  </thead>\n",
       "  <tbody>\n",
       "    <tr>\n",
       "      <th>0</th>\n",
       "      <td>0</td>\n",
       "      <td>0</td>\n",
       "      <td>32</td>\n",
       "      <td>03.01.2013</td>\n",
       "      <td>221.0</td>\n",
       "      <td>0.0</td>\n",
       "      <td>6.0</td>\n",
       "      <td>4</td>\n",
       "    </tr>\n",
       "    <tr>\n",
       "      <th>1</th>\n",
       "      <td>0</td>\n",
       "      <td>0</td>\n",
       "      <td>33</td>\n",
       "      <td>03.01.2013</td>\n",
       "      <td>347.0</td>\n",
       "      <td>0.0</td>\n",
       "      <td>3.0</td>\n",
       "      <td>3</td>\n",
       "    </tr>\n",
       "  </tbody>\n",
       "</table>\n",
       "</div>"
      ],
      "text/plain": [
       "   date_block_num  shop_id  item_id random_date  mean_item_price  \\\n",
       "0               0        0       32  03.01.2013            221.0   \n",
       "1               0        0       33  03.01.2013            347.0   \n",
       "\n",
       "   std_item_price  item_cnt_month  days_with_sell  \n",
       "0             0.0             6.0               4  \n",
       "1             0.0             3.0               3  "
      ]
     },
     "execution_count": 91,
     "metadata": {},
     "output_type": "execute_result"
    }
   ],
   "source": [
    "sales_monthly = (sales_pos.groupby([\"date_block_num\",\"shop_id\",\"item_id\"])\n",
    "                            .agg({\"date\":\"first\", #we will just extract month and year from it\n",
    "                                 \"item_price\": [\"mean\", \"std\"],\n",
    "                                 \"item_cnt_day\": [\"sum\",\"count\"]})\n",
    "                            .reset_index())\n",
    "sales_monthly.columns = [\"date_block_num\", \"shop_id\", \"item_id\",\n",
    "                     \"random_date\", \"mean_item_price\", \"std_item_price\",\n",
    "                      \"item_cnt_month\", \"days_with_sell\"]\n",
    "sales_monthly[\"std_item_price\"] = sales_monthly[\"std_item_price\"].fillna(0)\n",
    "print(len(sales_monthly))\n",
    "sales_monthly.head(2)"
   ]
  },
  {
   "cell_type": "code",
   "execution_count": 92,
   "metadata": {},
   "outputs": [
    {
     "data": {
      "text/html": [
       "<div>\n",
       "<style scoped>\n",
       "    .dataframe tbody tr th:only-of-type {\n",
       "        vertical-align: middle;\n",
       "    }\n",
       "\n",
       "    .dataframe tbody tr th {\n",
       "        vertical-align: top;\n",
       "    }\n",
       "\n",
       "    .dataframe thead th {\n",
       "        text-align: right;\n",
       "    }\n",
       "</style>\n",
       "<table border=\"1\" class=\"dataframe\">\n",
       "  <thead>\n",
       "    <tr style=\"text-align: right;\">\n",
       "      <th></th>\n",
       "      <th>date_block_num</th>\n",
       "      <th>shop_id</th>\n",
       "      <th>item_id</th>\n",
       "      <th>mean_item_price</th>\n",
       "      <th>std_item_price</th>\n",
       "      <th>item_cnt_month</th>\n",
       "      <th>days_with_sell</th>\n",
       "    </tr>\n",
       "  </thead>\n",
       "  <tbody>\n",
       "    <tr>\n",
       "      <th>count</th>\n",
       "      <td>1.608226e+06</td>\n",
       "      <td>1.608226e+06</td>\n",
       "      <td>1.608226e+06</td>\n",
       "      <td>1.608226e+06</td>\n",
       "      <td>1.608226e+06</td>\n",
       "      <td>1.608226e+06</td>\n",
       "      <td>1.608226e+06</td>\n",
       "    </tr>\n",
       "    <tr>\n",
       "      <th>mean</th>\n",
       "      <td>1.466502e+01</td>\n",
       "      <td>3.280798e+01</td>\n",
       "      <td>1.068148e+04</td>\n",
       "      <td>7.901510e+02</td>\n",
       "      <td>8.339656e+00</td>\n",
       "      <td>2.254576e+00</td>\n",
       "      <td>1.820946e+00</td>\n",
       "    </tr>\n",
       "    <tr>\n",
       "      <th>std</th>\n",
       "      <td>9.542384e+00</td>\n",
       "      <td>1.653645e+01</td>\n",
       "      <td>6.238856e+03</td>\n",
       "      <td>1.549310e+03</td>\n",
       "      <td>7.358666e+01</td>\n",
       "      <td>7.544538e+00</td>\n",
       "      <td>1.978750e+00</td>\n",
       "    </tr>\n",
       "    <tr>\n",
       "      <th>min</th>\n",
       "      <td>0.000000e+00</td>\n",
       "      <td>0.000000e+00</td>\n",
       "      <td>0.000000e+00</td>\n",
       "      <td>9.000000e-02</td>\n",
       "      <td>0.000000e+00</td>\n",
       "      <td>1.000000e+00</td>\n",
       "      <td>1.000000e+00</td>\n",
       "    </tr>\n",
       "    <tr>\n",
       "      <th>25%</th>\n",
       "      <td>6.000000e+00</td>\n",
       "      <td>2.100000e+01</td>\n",
       "      <td>5.046000e+03</td>\n",
       "      <td>1.990000e+02</td>\n",
       "      <td>0.000000e+00</td>\n",
       "      <td>1.000000e+00</td>\n",
       "      <td>1.000000e+00</td>\n",
       "    </tr>\n",
       "    <tr>\n",
       "      <th>50%</th>\n",
       "      <td>1.400000e+01</td>\n",
       "      <td>3.100000e+01</td>\n",
       "      <td>1.049700e+04</td>\n",
       "      <td>3.990000e+02</td>\n",
       "      <td>0.000000e+00</td>\n",
       "      <td>1.000000e+00</td>\n",
       "      <td>1.000000e+00</td>\n",
       "    </tr>\n",
       "    <tr>\n",
       "      <th>75%</th>\n",
       "      <td>2.300000e+01</td>\n",
       "      <td>4.700000e+01</td>\n",
       "      <td>1.606000e+04</td>\n",
       "      <td>8.949638e+02</td>\n",
       "      <td>0.000000e+00</td>\n",
       "      <td>2.000000e+00</td>\n",
       "      <td>2.000000e+00</td>\n",
       "    </tr>\n",
       "    <tr>\n",
       "      <th>max</th>\n",
       "      <td>3.300000e+01</td>\n",
       "      <td>5.900000e+01</td>\n",
       "      <td>2.216900e+04</td>\n",
       "      <td>3.079800e+05</td>\n",
       "      <td>1.694603e+04</td>\n",
       "      <td>1.150000e+03</td>\n",
       "      <td>3.100000e+01</td>\n",
       "    </tr>\n",
       "  </tbody>\n",
       "</table>\n",
       "</div>"
      ],
      "text/plain": [
       "       date_block_num       shop_id       item_id  mean_item_price  \\\n",
       "count    1.608226e+06  1.608226e+06  1.608226e+06     1.608226e+06   \n",
       "mean     1.466502e+01  3.280798e+01  1.068148e+04     7.901510e+02   \n",
       "std      9.542384e+00  1.653645e+01  6.238856e+03     1.549310e+03   \n",
       "min      0.000000e+00  0.000000e+00  0.000000e+00     9.000000e-02   \n",
       "25%      6.000000e+00  2.100000e+01  5.046000e+03     1.990000e+02   \n",
       "50%      1.400000e+01  3.100000e+01  1.049700e+04     3.990000e+02   \n",
       "75%      2.300000e+01  4.700000e+01  1.606000e+04     8.949638e+02   \n",
       "max      3.300000e+01  5.900000e+01  2.216900e+04     3.079800e+05   \n",
       "\n",
       "       std_item_price  item_cnt_month  days_with_sell  \n",
       "count    1.608226e+06    1.608226e+06    1.608226e+06  \n",
       "mean     8.339656e+00    2.254576e+00    1.820946e+00  \n",
       "std      7.358666e+01    7.544538e+00    1.978750e+00  \n",
       "min      0.000000e+00    1.000000e+00    1.000000e+00  \n",
       "25%      0.000000e+00    1.000000e+00    1.000000e+00  \n",
       "50%      0.000000e+00    1.000000e+00    1.000000e+00  \n",
       "75%      0.000000e+00    2.000000e+00    2.000000e+00  \n",
       "max      1.694603e+04    1.150000e+03    3.100000e+01  "
      ]
     },
     "execution_count": 92,
     "metadata": {},
     "output_type": "execute_result"
    }
   ],
   "source": [
    "sales_monthly.describe()"
   ]
  },
  {
   "cell_type": "code",
   "execution_count": 93,
   "metadata": {},
   "outputs": [
    {
     "data": {
      "image/png": "[encoded data removed]",
      "text/plain": [
       "<Figure size 432x288 with 1 Axes>"
      ]
     },
     "metadata": {},
     "output_type": "display_data"
    }
   ],
   "source": [
    "plt.hist(sales_monthly.loc[sales_monthly[\"std_item_price\"]>1000,\"std_item_price\"], bins=25)\n",
    "plt.show()"
   ]
  },
  {
   "cell_type": "code",
   "execution_count": 106,
   "metadata": {},
   "outputs": [
    {
     "name": "stdout",
     "output_type": "stream",
     "text": [
      "1573330\n",
      "2.15833423375897\n",
      "\n",
      "34896\n",
      "6.593764328289775\n"
     ]
    }
   ],
   "source": [
    "threshold = 100\n",
    "print(len(sales_monthly.loc[sales_monthly[\"std_item_price\"]<=threshold,]))\n",
    "print(sales_monthly.loc[sales_monthly[\"std_item_price\"]<=threshold,\"item_cnt_month\"].mean())\n",
    "print()\n",
    "print(len(sales_monthly.loc[sales_monthly[\"std_item_price\"]>threshold,]))\n",
    "print(sales_monthly.loc[sales_monthly[\"std_item_price\"]>threshold,\"item_cnt_month\"].mean())"
   ]
  },
  {
   "cell_type": "code",
   "execution_count": 114,
   "metadata": {},
   "outputs": [
    {
     "name": "stdout",
     "output_type": "stream",
     "text": [
      "1578296\n",
      "2.243511990146335\n",
      "\n",
      "29930\n",
      "2.8380220514533914\n"
     ]
    }
   ],
   "source": [
    "threshold = 3500\n",
    "print(len(sales_monthly.loc[sales_monthly[\"mean_item_price\"]<=threshold,]))\n",
    "print(sales_monthly.loc[sales_monthly[\"mean_item_price\"]<=threshold,\"item_cnt_month\"].mean())\n",
    "print()\n",
    "print(len(sales_monthly.loc[sales_monthly[\"mean_item_price\"]>threshold,]))\n",
    "print(sales_monthly.loc[sales_monthly[\"mean_item_price\"]>threshold,\"item_cnt_month\"].mean())"
   ]
  },
  {
   "cell_type": "markdown",
   "metadata": {},
   "source": [
    "Analysis: The variation of std(item_price) seems to be an important regressor."
   ]
  },
  {
   "cell_type": "markdown",
   "metadata": {},
   "source": [
    "## Add missing combinations"
   ]
  },
  {
   "cell_type": "code",
   "execution_count": 134,
   "metadata": {},
   "outputs": [
    {
     "data": {
      "text/plain": [
       "0"
      ]
     },
     "execution_count": 134,
     "metadata": {},
     "output_type": "execute_result"
    }
   ],
   "source": [
    "len(sales[sales[\"item_cnt_day\"]==0])"
   ]
  },
  {
   "cell_type": "markdown",
   "metadata": {},
   "source": [
    "There isn't any observation with item_cnt_day = 0. That means that there is no observation whenever some item isn't sold in a shop. We must account for these values."
   ]
  },
  {
   "cell_type": "code",
   "execution_count": 151,
   "metadata": {},
   "outputs": [
    {
     "name": "stdout",
     "output_type": "stream",
     "text": [
      "0 / 21804 done\n",
      "5000 / 21804 done\n",
      "10000 / 21804 done\n",
      "15000 / 21804 done\n",
      "20000 / 21804 done\n"
     ]
    },
    {
     "data": {
      "text/plain": [
       "[(0, 20),\n",
       " (1, 15),\n",
       " (2, 19),\n",
       " (3, 18),\n",
       " (4, 20),\n",
       " (5, 23),\n",
       " (6, 18),\n",
       " (7, 23),\n",
       " (8, 19),\n",
       " (9, 19)]"
      ]
     },
     "execution_count": 151,
     "metadata": {},
     "output_type": "execute_result"
    }
   ],
   "source": [
    "release_date_items={}\n",
    "\n",
    "nb_items = len(set(sales_monthly[\"item_id\"]))\n",
    "for c, i_id in enumerate(set(sales_monthly[\"item_id\"])):\n",
    "    release_date_items[i_id] = min(sales_monthly.loc[sales_monthly[\"item_id\"]==i_id, \"date_block_num\"])\n",
    "    if c%5000==0:\n",
    "        print(f\"{c} / {nb_items} done\")\n",
    "list(release_date_items.items())[:10]"
   ]
  },
  {
   "cell_type": "code",
   "execution_count": 152,
   "metadata": {},
   "outputs": [
    {
     "name": "stdout",
     "output_type": "stream",
     "text": [
      "10 / 60 done\n",
      "20 / 60 done\n",
      "30 / 60 done\n",
      "40 / 60 done\n",
      "50 / 60 done\n",
      "60 / 60 done\n"
     ]
    },
    {
     "data": {
      "text/plain": [
       "[{'shop_id': 0, 'item_id': 16385, 'date_block_num': 0},\n",
       " {'shop_id': 0, 'item_id': 16385, 'date_block_num': 1},\n",
       " {'shop_id': 0, 'item_id': 16385, 'date_block_num': 2},\n",
       " {'shop_id': 0, 'item_id': 16385, 'date_block_num': 3},\n",
       " {'shop_id': 0, 'item_id': 16385, 'date_block_num': 4},\n",
       " {'shop_id': 0, 'item_id': 16385, 'date_block_num': 5},\n",
       " {'shop_id': 0, 'item_id': 16385, 'date_block_num': 6},\n",
       " {'shop_id': 0, 'item_id': 16385, 'date_block_num': 7},\n",
       " {'shop_id': 0, 'item_id': 16385, 'date_block_num': 8},\n",
       " {'shop_id': 0, 'item_id': 16385, 'date_block_num': 9}]"
      ]
     },
     "execution_count": 152,
     "metadata": {},
     "output_type": "execute_result"
    }
   ],
   "source": [
    "combinations = []\n",
    "\n",
    "nb_shops = len(set(sales_monthly[\"shop_id\"]))\n",
    "for c, s_id in enumerate(set(sales_monthly[\"shop_id\"])):\n",
    "    for i_id in set(sales_monthly.loc[sales_monthly[\"shop_id\"]==s_id,\"item_id\"]):\n",
    "        release_date = release_date_items[i_id]\n",
    "        for m in range(release_date, 34):\n",
    "            combinations.append({\"shop_id\":s_id, \"item_id\":i_id, \"date_block_num\":m})\n",
    "    if (c+1)%10==0:\n",
    "        print(f\"{c+1} / {nb_shops} done\")\n",
    "\n",
    "combinations[:10]"
   ]
  },
  {
   "cell_type": "code",
   "execution_count": 153,
   "metadata": {},
   "outputs": [
    {
     "name": "stdout",
     "output_type": "stream",
     "text": [
      "11158029\n"
     ]
    },
    {
     "data": {
      "text/html": [
       "<div>\n",
       "<style scoped>\n",
       "    .dataframe tbody tr th:only-of-type {\n",
       "        vertical-align: middle;\n",
       "    }\n",
       "\n",
       "    .dataframe tbody tr th {\n",
       "        vertical-align: top;\n",
       "    }\n",
       "\n",
       "    .dataframe thead th {\n",
       "        text-align: right;\n",
       "    }\n",
       "</style>\n",
       "<table border=\"1\" class=\"dataframe\">\n",
       "  <thead>\n",
       "    <tr style=\"text-align: right;\">\n",
       "      <th></th>\n",
       "      <th>shop_id</th>\n",
       "      <th>item_id</th>\n",
       "      <th>date_block_num</th>\n",
       "    </tr>\n",
       "  </thead>\n",
       "  <tbody>\n",
       "    <tr>\n",
       "      <th>0</th>\n",
       "      <td>0</td>\n",
       "      <td>16385</td>\n",
       "      <td>0</td>\n",
       "    </tr>\n",
       "    <tr>\n",
       "      <th>1</th>\n",
       "      <td>0</td>\n",
       "      <td>16385</td>\n",
       "      <td>1</td>\n",
       "    </tr>\n",
       "  </tbody>\n",
       "</table>\n",
       "</div>"
      ],
      "text/plain": [
       "   shop_id  item_id  date_block_num\n",
       "0        0    16385               0\n",
       "1        0    16385               1"
      ]
     },
     "execution_count": 153,
     "metadata": {},
     "output_type": "execute_result"
    }
   ],
   "source": [
    "empty_df = pd.DataFrame(combinations, columns = combinations[0].keys())\n",
    "print(len(empty_df))\n",
    "empty_df.head(2)"
   ]
  },
  {
   "cell_type": "code",
   "execution_count": 154,
   "metadata": {},
   "outputs": [
    {
     "name": "stdout",
     "output_type": "stream",
     "text": [
      "11158029\n",
      "shop_id                  0\n",
      "item_id                  0\n",
      "date_block_num           0\n",
      "random_date        9549803\n",
      "mean_item_price    9549803\n",
      "std_item_price     9549803\n",
      "item_cnt_month     9549803\n",
      "days_with_sell     9549803\n",
      "dtype: int64\n"
     ]
    },
    {
     "data": {
      "text/html": [
       "<div>\n",
       "<style scoped>\n",
       "    .dataframe tbody tr th:only-of-type {\n",
       "        vertical-align: middle;\n",
       "    }\n",
       "\n",
       "    .dataframe tbody tr th {\n",
       "        vertical-align: top;\n",
       "    }\n",
       "\n",
       "    .dataframe thead th {\n",
       "        text-align: right;\n",
       "    }\n",
       "</style>\n",
       "<table border=\"1\" class=\"dataframe\">\n",
       "  <thead>\n",
       "    <tr style=\"text-align: right;\">\n",
       "      <th></th>\n",
       "      <th>shop_id</th>\n",
       "      <th>item_id</th>\n",
       "      <th>date_block_num</th>\n",
       "      <th>random_date</th>\n",
       "      <th>mean_item_price</th>\n",
       "      <th>std_item_price</th>\n",
       "      <th>item_cnt_month</th>\n",
       "      <th>days_with_sell</th>\n",
       "    </tr>\n",
       "  </thead>\n",
       "  <tbody>\n",
       "    <tr>\n",
       "      <th>0</th>\n",
       "      <td>0</td>\n",
       "      <td>16385</td>\n",
       "      <td>0</td>\n",
       "      <td>20.01.2013</td>\n",
       "      <td>200.0</td>\n",
       "      <td>0.0</td>\n",
       "      <td>2.0</td>\n",
       "      <td>2.0</td>\n",
       "    </tr>\n",
       "    <tr>\n",
       "      <th>1</th>\n",
       "      <td>0</td>\n",
       "      <td>16385</td>\n",
       "      <td>1</td>\n",
       "      <td>25.02.2013</td>\n",
       "      <td>200.0</td>\n",
       "      <td>0.0</td>\n",
       "      <td>2.0</td>\n",
       "      <td>2.0</td>\n",
       "    </tr>\n",
       "  </tbody>\n",
       "</table>\n",
       "</div>"
      ],
      "text/plain": [
       "   shop_id  item_id  date_block_num random_date  mean_item_price  \\\n",
       "0        0    16385               0  20.01.2013            200.0   \n",
       "1        0    16385               1  25.02.2013            200.0   \n",
       "\n",
       "   std_item_price  item_cnt_month  days_with_sell  \n",
       "0             0.0             2.0             2.0  \n",
       "1             0.0             2.0             2.0  "
      ]
     },
     "execution_count": 154,
     "metadata": {},
     "output_type": "execute_result"
    }
   ],
   "source": [
    "sales_monthly_complete = pd.merge(empty_df, sales_monthly, how=\"left\", on=[\"shop_id\",\"item_id\",\"date_block_num\"])\n",
    "print(len(sales_monthly_complete))\n",
    "print(sales_monthly_complete.isnull().sum())\n",
    "sales_monthly_complete.head(2)"
   ]
  },
  {
   "cell_type": "markdown",
   "metadata": {},
   "source": [
    "## Merge all tables\n",
    "sales_monthly, shops, categories and items"
   ]
  },
  {
   "cell_type": "code",
   "execution_count": 155,
   "metadata": {},
   "outputs": [
    {
     "data": {
      "text/html": [
       "<div>\n",
       "<style scoped>\n",
       "    .dataframe tbody tr th:only-of-type {\n",
       "        vertical-align: middle;\n",
       "    }\n",
       "\n",
       "    .dataframe tbody tr th {\n",
       "        vertical-align: top;\n",
       "    }\n",
       "\n",
       "    .dataframe thead th {\n",
       "        text-align: right;\n",
       "    }\n",
       "</style>\n",
       "<table border=\"1\" class=\"dataframe\">\n",
       "  <thead>\n",
       "    <tr style=\"text-align: right;\">\n",
       "      <th></th>\n",
       "      <th>shop_id</th>\n",
       "      <th>item_id</th>\n",
       "      <th>date_block_num</th>\n",
       "      <th>random_date</th>\n",
       "      <th>mean_item_price</th>\n",
       "      <th>std_item_price</th>\n",
       "      <th>item_cnt_month</th>\n",
       "      <th>days_with_sell</th>\n",
       "    </tr>\n",
       "  </thead>\n",
       "  <tbody>\n",
       "    <tr>\n",
       "      <th>0</th>\n",
       "      <td>0</td>\n",
       "      <td>16385</td>\n",
       "      <td>0</td>\n",
       "      <td>20.01.2013</td>\n",
       "      <td>200.0</td>\n",
       "      <td>0.0</td>\n",
       "      <td>2.0</td>\n",
       "      <td>2.0</td>\n",
       "    </tr>\n",
       "  </tbody>\n",
       "</table>\n",
       "</div>"
      ],
      "text/plain": [
       "   shop_id  item_id  date_block_num random_date  mean_item_price  \\\n",
       "0        0    16385               0  20.01.2013            200.0   \n",
       "\n",
       "   std_item_price  item_cnt_month  days_with_sell  \n",
       "0             0.0             2.0             2.0  "
      ]
     },
     "execution_count": 155,
     "metadata": {},
     "output_type": "execute_result"
    }
   ],
   "source": [
    "sales_monthly_complete.head(1)"
   ]
  },
  {
   "cell_type": "code",
   "execution_count": 156,
   "metadata": {},
   "outputs": [
    {
     "data": {
      "text/html": [
       "<div>\n",
       "<style scoped>\n",
       "    .dataframe tbody tr th:only-of-type {\n",
       "        vertical-align: middle;\n",
       "    }\n",
       "\n",
       "    .dataframe tbody tr th {\n",
       "        vertical-align: top;\n",
       "    }\n",
       "\n",
       "    .dataframe thead th {\n",
       "        text-align: right;\n",
       "    }\n",
       "</style>\n",
       "<table border=\"1\" class=\"dataframe\">\n",
       "  <thead>\n",
       "    <tr style=\"text-align: right;\">\n",
       "      <th></th>\n",
       "      <th>item_category_name</th>\n",
       "      <th>item_category_id</th>\n",
       "    </tr>\n",
       "  </thead>\n",
       "  <tbody>\n",
       "    <tr>\n",
       "      <th>0</th>\n",
       "      <td>PC - Гарнитуры/Наушники</td>\n",
       "      <td>0</td>\n",
       "    </tr>\n",
       "  </tbody>\n",
       "</table>\n",
       "</div>"
      ],
      "text/plain": [
       "        item_category_name  item_category_id\n",
       "0  PC - Гарнитуры/Наушники                 0"
      ]
     },
     "execution_count": 156,
     "metadata": {},
     "output_type": "execute_result"
    }
   ],
   "source": [
    "categories.head(1)"
   ]
  },
  {
   "cell_type": "code",
   "execution_count": 157,
   "metadata": {},
   "outputs": [
    {
     "name": "stdout",
     "output_type": "stream",
     "text": [
      "From 11158029 to 11158029 --> SHOULD NOT CHANGE\n"
     ]
    },
    {
     "data": {
      "text/html": [
       "<div>\n",
       "<style scoped>\n",
       "    .dataframe tbody tr th:only-of-type {\n",
       "        vertical-align: middle;\n",
       "    }\n",
       "\n",
       "    .dataframe tbody tr th {\n",
       "        vertical-align: top;\n",
       "    }\n",
       "\n",
       "    .dataframe thead th {\n",
       "        text-align: right;\n",
       "    }\n",
       "</style>\n",
       "<table border=\"1\" class=\"dataframe\">\n",
       "  <thead>\n",
       "    <tr style=\"text-align: right;\">\n",
       "      <th></th>\n",
       "      <th>shop_id</th>\n",
       "      <th>item_id</th>\n",
       "      <th>date_block_num</th>\n",
       "      <th>random_date</th>\n",
       "      <th>mean_item_price</th>\n",
       "      <th>std_item_price</th>\n",
       "      <th>item_cnt_month</th>\n",
       "      <th>days_with_sell</th>\n",
       "      <th>item_category_id</th>\n",
       "      <th>item_category_name</th>\n",
       "      <th>city_name</th>\n",
       "    </tr>\n",
       "  </thead>\n",
       "  <tbody>\n",
       "    <tr>\n",
       "      <th>0</th>\n",
       "      <td>0</td>\n",
       "      <td>16385</td>\n",
       "      <td>0</td>\n",
       "      <td>20.01.2013</td>\n",
       "      <td>200.0</td>\n",
       "      <td>0.0</td>\n",
       "      <td>2.0</td>\n",
       "      <td>2.0</td>\n",
       "      <td>30</td>\n",
       "      <td>Игры PC - Стандартные издания</td>\n",
       "      <td>Yakutsk</td>\n",
       "    </tr>\n",
       "    <tr>\n",
       "      <th>1</th>\n",
       "      <td>0</td>\n",
       "      <td>16385</td>\n",
       "      <td>1</td>\n",
       "      <td>25.02.2013</td>\n",
       "      <td>200.0</td>\n",
       "      <td>0.0</td>\n",
       "      <td>2.0</td>\n",
       "      <td>2.0</td>\n",
       "      <td>30</td>\n",
       "      <td>Игры PC - Стандартные издания</td>\n",
       "      <td>Yakutsk</td>\n",
       "    </tr>\n",
       "  </tbody>\n",
       "</table>\n",
       "</div>"
      ],
      "text/plain": [
       "   shop_id  item_id  date_block_num random_date  mean_item_price  \\\n",
       "0        0    16385               0  20.01.2013            200.0   \n",
       "1        0    16385               1  25.02.2013            200.0   \n",
       "\n",
       "   std_item_price  item_cnt_month  days_with_sell  item_category_id  \\\n",
       "0             0.0             2.0             2.0                30   \n",
       "1             0.0             2.0             2.0                30   \n",
       "\n",
       "              item_category_name city_name  \n",
       "0  Игры PC - Стандартные издания   Yakutsk  \n",
       "1  Игры PC - Стандартные издания   Yakutsk  "
      ]
     },
     "execution_count": 157,
     "metadata": {},
     "output_type": "execute_result"
    }
   ],
   "source": [
    "bigboi = pd.merge(sales_monthly_complete, items, how=\"left\", on=\"item_id\")\n",
    "bigboi = pd.merge(bigboi, categories, how=\"left\", on=\"item_category_id\")\n",
    "bigboi = pd.merge(bigboi, shops, how=\"left\", on=\"shop_id\")\n",
    "print(f\"From {len(sales_monthly_complete)} to {len(bigboi)} --> SHOULD NOT CHANGE\")\n",
    "bigboi.head(2)"
   ]
  },
  {
   "cell_type": "markdown",
   "metadata": {},
   "source": [
    "## Fill NA values"
   ]
  },
  {
   "cell_type": "code",
   "execution_count": 158,
   "metadata": {},
   "outputs": [
    {
     "data": {
      "text/plain": [
       "shop_id                     0\n",
       "item_id                     0\n",
       "date_block_num              0\n",
       "random_date           9549803\n",
       "mean_item_price       9549803\n",
       "std_item_price        9549803\n",
       "item_cnt_month        9549803\n",
       "days_with_sell        9549803\n",
       "item_category_id            0\n",
       "item_category_name          0\n",
       "city_name                   0\n",
       "dtype: int64"
      ]
     },
     "execution_count": 158,
     "metadata": {},
     "output_type": "execute_result"
    }
   ],
   "source": [
    "bigboi.isnull().sum()"
   ]
  },
  {
   "cell_type": "markdown",
   "metadata": {},
   "source": [
    "#### item_cnt_month & days_with_sell"
   ]
  },
  {
   "cell_type": "markdown",
   "metadata": {},
   "source": [
    "item_cnt_month and days_with_sell should be filled with 0"
   ]
  },
  {
   "cell_type": "code",
   "execution_count": 159,
   "metadata": {},
   "outputs": [],
   "source": [
    "bigboi[[\"item_cnt_month\",\"days_with_sell\"]] = bigboi[[\"item_cnt_month\",\"days_with_sell\"]].fillna(0)"
   ]
  },
  {
   "cell_type": "markdown",
   "metadata": {},
   "source": [
    "#### mean_item_price and std_item_price"
   ]
  },
  {
   "cell_type": "markdown",
   "metadata": {},
   "source": [
    "mean_item_price and std_item_price should be filled with a similar value but which one?\n",
    "- average at a shop x item level\n",
    "- average at a item x month level\n",
    "?"
   ]
  },
  {
   "cell_type": "markdown",
   "metadata": {},
   "source": [
    "##### shop x item level EDA"
   ]
  },
  {
   "cell_type": "code",
   "execution_count": 203,
   "metadata": {},
   "outputs": [
    {
     "data": {
      "text/html": [
       "<div>\n",
       "<style scoped>\n",
       "    .dataframe tbody tr th:only-of-type {\n",
       "        vertical-align: middle;\n",
       "    }\n",
       "\n",
       "    .dataframe tbody tr th {\n",
       "        vertical-align: top;\n",
       "    }\n",
       "\n",
       "    .dataframe thead th {\n",
       "        text-align: right;\n",
       "    }\n",
       "</style>\n",
       "<table border=\"1\" class=\"dataframe\">\n",
       "  <thead>\n",
       "    <tr style=\"text-align: right;\">\n",
       "      <th></th>\n",
       "      <th>shop_id</th>\n",
       "      <th>item_id</th>\n",
       "      <th>mean_item_price</th>\n",
       "      <th>std_item_price</th>\n",
       "    </tr>\n",
       "  </thead>\n",
       "  <tbody>\n",
       "    <tr>\n",
       "      <th>count</th>\n",
       "      <td>277362.000000</td>\n",
       "      <td>277362.000000</td>\n",
       "      <td>277362.000000</td>\n",
       "      <td>277362.000000</td>\n",
       "    </tr>\n",
       "    <tr>\n",
       "      <th>mean</th>\n",
       "      <td>32.446914</td>\n",
       "      <td>11199.420335</td>\n",
       "      <td>92.547248</td>\n",
       "      <td>11.201097</td>\n",
       "    </tr>\n",
       "    <tr>\n",
       "      <th>std</th>\n",
       "      <td>16.718642</td>\n",
       "      <td>6187.040768</td>\n",
       "      <td>224.228914</td>\n",
       "      <td>58.549466</td>\n",
       "    </tr>\n",
       "    <tr>\n",
       "      <th>min</th>\n",
       "      <td>0.000000</td>\n",
       "      <td>1.000000</td>\n",
       "      <td>0.000000</td>\n",
       "      <td>0.000000</td>\n",
       "    </tr>\n",
       "    <tr>\n",
       "      <th>25%</th>\n",
       "      <td>19.000000</td>\n",
       "      <td>5797.000000</td>\n",
       "      <td>0.000000</td>\n",
       "      <td>0.000000</td>\n",
       "    </tr>\n",
       "    <tr>\n",
       "      <th>50%</th>\n",
       "      <td>31.000000</td>\n",
       "      <td>11240.000000</td>\n",
       "      <td>2.223805</td>\n",
       "      <td>0.000000</td>\n",
       "    </tr>\n",
       "    <tr>\n",
       "      <th>75%</th>\n",
       "      <td>47.000000</td>\n",
       "      <td>16468.750000</td>\n",
       "      <td>98.003904</td>\n",
       "      <td>0.000000</td>\n",
       "    </tr>\n",
       "    <tr>\n",
       "      <th>max</th>\n",
       "      <td>59.000000</td>\n",
       "      <td>22168.000000</td>\n",
       "      <td>7886.050611</td>\n",
       "      <td>3866.865000</td>\n",
       "    </tr>\n",
       "  </tbody>\n",
       "</table>\n",
       "</div>"
      ],
      "text/plain": [
       "             shop_id        item_id  mean_item_price  std_item_price\n",
       "count  277362.000000  277362.000000    277362.000000   277362.000000\n",
       "mean       32.446914   11199.420335        92.547248       11.201097\n",
       "std        16.718642    6187.040768       224.228914       58.549466\n",
       "min         0.000000       1.000000         0.000000        0.000000\n",
       "25%        19.000000    5797.000000         0.000000        0.000000\n",
       "50%        31.000000   11240.000000         2.223805        0.000000\n",
       "75%        47.000000   16468.750000        98.003904        0.000000\n",
       "max        59.000000   22168.000000      7886.050611     3866.865000"
      ]
     },
     "execution_count": 203,
     "metadata": {},
     "output_type": "execute_result"
    }
   ],
   "source": [
    "(bigboi.dropna()\n",
    "             .groupby([\"shop_id\",\"item_id\"])\n",
    "             .agg({\"mean_item_price\":\"std\", \"std_item_price\":\"std\"})\n",
    "             .dropna()\n",
    "             .reset_index()\n",
    "             .describe())"
   ]
  },
  {
   "cell_type": "markdown",
   "metadata": {},
   "source": [
    "##### item x month"
   ]
  },
  {
   "cell_type": "code",
   "execution_count": 202,
   "metadata": {},
   "outputs": [
    {
     "data": {
      "text/html": [
       "<div>\n",
       "<style scoped>\n",
       "    .dataframe tbody tr th:only-of-type {\n",
       "        vertical-align: middle;\n",
       "    }\n",
       "\n",
       "    .dataframe tbody tr th {\n",
       "        vertical-align: top;\n",
       "    }\n",
       "\n",
       "    .dataframe thead th {\n",
       "        text-align: right;\n",
       "    }\n",
       "</style>\n",
       "<table border=\"1\" class=\"dataframe\">\n",
       "  <thead>\n",
       "    <tr style=\"text-align: right;\">\n",
       "      <th></th>\n",
       "      <th>item_id</th>\n",
       "      <th>date_block_num</th>\n",
       "      <th>mean_item_price</th>\n",
       "      <th>std_item_price</th>\n",
       "    </tr>\n",
       "  </thead>\n",
       "  <tbody>\n",
       "    <tr>\n",
       "      <th>count</th>\n",
       "      <td>167947.000000</td>\n",
       "      <td>167947.000000</td>\n",
       "      <td>167947.000000</td>\n",
       "      <td>167947.000000</td>\n",
       "    </tr>\n",
       "    <tr>\n",
       "      <th>mean</th>\n",
       "      <td>11556.170857</td>\n",
       "      <td>14.474864</td>\n",
       "      <td>27.927520</td>\n",
       "      <td>5.362690</td>\n",
       "    </tr>\n",
       "    <tr>\n",
       "      <th>std</th>\n",
       "      <td>6130.550785</td>\n",
       "      <td>9.671751</td>\n",
       "      <td>84.919836</td>\n",
       "      <td>35.405984</td>\n",
       "    </tr>\n",
       "    <tr>\n",
       "      <th>min</th>\n",
       "      <td>27.000000</td>\n",
       "      <td>0.000000</td>\n",
       "      <td>0.000000</td>\n",
       "      <td>0.000000</td>\n",
       "    </tr>\n",
       "    <tr>\n",
       "      <th>25%</th>\n",
       "      <td>6343.000000</td>\n",
       "      <td>6.000000</td>\n",
       "      <td>0.000000</td>\n",
       "      <td>0.000000</td>\n",
       "    </tr>\n",
       "    <tr>\n",
       "      <th>50%</th>\n",
       "      <td>11758.000000</td>\n",
       "      <td>13.000000</td>\n",
       "      <td>0.000000</td>\n",
       "      <td>0.000000</td>\n",
       "    </tr>\n",
       "    <tr>\n",
       "      <th>75%</th>\n",
       "      <td>16743.500000</td>\n",
       "      <td>23.000000</td>\n",
       "      <td>30.156127</td>\n",
       "      <td>0.000000</td>\n",
       "    </tr>\n",
       "    <tr>\n",
       "      <th>max</th>\n",
       "      <td>22168.000000</td>\n",
       "      <td>33.000000</td>\n",
       "      <td>6830.053294</td>\n",
       "      <td>2653.613888</td>\n",
       "    </tr>\n",
       "  </tbody>\n",
       "</table>\n",
       "</div>"
      ],
      "text/plain": [
       "             item_id  date_block_num  mean_item_price  std_item_price\n",
       "count  167947.000000   167947.000000    167947.000000   167947.000000\n",
       "mean    11556.170857       14.474864        27.927520        5.362690\n",
       "std      6130.550785        9.671751        84.919836       35.405984\n",
       "min        27.000000        0.000000         0.000000        0.000000\n",
       "25%      6343.000000        6.000000         0.000000        0.000000\n",
       "50%     11758.000000       13.000000         0.000000        0.000000\n",
       "75%     16743.500000       23.000000        30.156127        0.000000\n",
       "max     22168.000000       33.000000      6830.053294     2653.613888"
      ]
     },
     "execution_count": 202,
     "metadata": {},
     "output_type": "execute_result"
    }
   ],
   "source": [
    "(bigboi.dropna()\n",
    "             .groupby([\"item_id\",\"date_block_num\"])\n",
    "             .agg({\"mean_item_price\":\"std\", \"std_item_price\":\"std\"})\n",
    "             .dropna()\n",
    "             .reset_index()\n",
    "             .describe())"
   ]
  },
  {
   "cell_type": "markdown",
   "metadata": {},
   "source": [
    "We observe that the distribution of mean_item_price and std_item_price is more regular on a item x month level. We'll fill NA values according to this granularity."
   ]
  },
  {
   "cell_type": "code",
   "execution_count": 189,
   "metadata": {},
   "outputs": [
    {
     "data": {
      "text/html": [
       "<div>\n",
       "<style scoped>\n",
       "    .dataframe tbody tr th:only-of-type {\n",
       "        vertical-align: middle;\n",
       "    }\n",
       "\n",
       "    .dataframe tbody tr th {\n",
       "        vertical-align: top;\n",
       "    }\n",
       "\n",
       "    .dataframe thead th {\n",
       "        text-align: right;\n",
       "    }\n",
       "</style>\n",
       "<table border=\"1\" class=\"dataframe\">\n",
       "  <thead>\n",
       "    <tr style=\"text-align: right;\">\n",
       "      <th></th>\n",
       "      <th>item_id</th>\n",
       "      <th>date_block_num</th>\n",
       "      <th>mean_item_price</th>\n",
       "      <th>std_item_price</th>\n",
       "    </tr>\n",
       "  </thead>\n",
       "  <tbody>\n",
       "    <tr>\n",
       "      <th>0</th>\n",
       "      <td>0</td>\n",
       "      <td>20</td>\n",
       "      <td>58.0</td>\n",
       "      <td>0.0</td>\n",
       "    </tr>\n",
       "    <tr>\n",
       "      <th>1</th>\n",
       "      <td>1</td>\n",
       "      <td>15</td>\n",
       "      <td>4490.0</td>\n",
       "      <td>0.0</td>\n",
       "    </tr>\n",
       "  </tbody>\n",
       "</table>\n",
       "</div>"
      ],
      "text/plain": [
       "   item_id  date_block_num  mean_item_price  std_item_price\n",
       "0        0              20             58.0             0.0\n",
       "1        1              15           4490.0             0.0"
      ]
     },
     "execution_count": 189,
     "metadata": {},
     "output_type": "execute_result"
    }
   ],
   "source": [
    "itemxmonth_mean = (bigboi.dropna()\n",
    "             .groupby([\"item_id\",\"date_block_num\"])\n",
    "             .agg({\"mean_item_price\":\"mean\", \"std_item_price\":\"mean\"})\n",
    "             .reset_index())\n",
    "itemxmonth_mean.head(2)"
   ]
  },
  {
   "cell_type": "code",
   "execution_count": 215,
   "metadata": {},
   "outputs": [
    {
     "name": "stdout",
     "output_type": "stream",
     "text": [
      "shop_id                     0\n",
      "item_id                     0\n",
      "date_block_num              0\n",
      "random_date           9549803\n",
      "mean_item_price       4355967\n",
      "std_item_price        4355967\n",
      "item_cnt_month              0\n",
      "days_with_sell              0\n",
      "item_category_id            0\n",
      "item_category_name          0\n",
      "city_name                   0\n",
      "dtype: int64\n"
     ]
    },
    {
     "data": {
      "text/html": [
       "<div>\n",
       "<style scoped>\n",
       "    .dataframe tbody tr th:only-of-type {\n",
       "        vertical-align: middle;\n",
       "    }\n",
       "\n",
       "    .dataframe tbody tr th {\n",
       "        vertical-align: top;\n",
       "    }\n",
       "\n",
       "    .dataframe thead th {\n",
       "        text-align: right;\n",
       "    }\n",
       "</style>\n",
       "<table border=\"1\" class=\"dataframe\">\n",
       "  <thead>\n",
       "    <tr style=\"text-align: right;\">\n",
       "      <th></th>\n",
       "      <th>shop_id</th>\n",
       "      <th>item_id</th>\n",
       "      <th>date_block_num</th>\n",
       "      <th>random_date</th>\n",
       "      <th>mean_item_price</th>\n",
       "      <th>std_item_price</th>\n",
       "      <th>item_cnt_month</th>\n",
       "      <th>days_with_sell</th>\n",
       "      <th>item_category_id</th>\n",
       "      <th>item_category_name</th>\n",
       "      <th>city_name</th>\n",
       "    </tr>\n",
       "  </thead>\n",
       "  <tbody>\n",
       "    <tr>\n",
       "      <th>0</th>\n",
       "      <td>0</td>\n",
       "      <td>16385</td>\n",
       "      <td>0</td>\n",
       "      <td>20.01.2013</td>\n",
       "      <td>200.0</td>\n",
       "      <td>0.0</td>\n",
       "      <td>2.0</td>\n",
       "      <td>2.0</td>\n",
       "      <td>30</td>\n",
       "      <td>Игры PC - Стандартные издания</td>\n",
       "      <td>Yakutsk</td>\n",
       "    </tr>\n",
       "    <tr>\n",
       "      <th>1</th>\n",
       "      <td>0</td>\n",
       "      <td>16385</td>\n",
       "      <td>1</td>\n",
       "      <td>25.02.2013</td>\n",
       "      <td>200.0</td>\n",
       "      <td>0.0</td>\n",
       "      <td>2.0</td>\n",
       "      <td>2.0</td>\n",
       "      <td>30</td>\n",
       "      <td>Игры PC - Стандартные издания</td>\n",
       "      <td>Yakutsk</td>\n",
       "    </tr>\n",
       "  </tbody>\n",
       "</table>\n",
       "</div>"
      ],
      "text/plain": [
       "   shop_id  item_id  date_block_num random_date  mean_item_price  \\\n",
       "0        0    16385               0  20.01.2013            200.0   \n",
       "1        0    16385               1  25.02.2013            200.0   \n",
       "\n",
       "   std_item_price  item_cnt_month  days_with_sell  item_category_id  \\\n",
       "0             0.0             2.0             2.0                30   \n",
       "1             0.0             2.0             2.0                30   \n",
       "\n",
       "              item_category_name city_name  \n",
       "0  Игры PC - Стандартные издания   Yakutsk  \n",
       "1  Игры PC - Стандартные издания   Yakutsk  "
      ]
     },
     "execution_count": 215,
     "metadata": {},
     "output_type": "execute_result"
    }
   ],
   "source": [
    "bigboi_filled = pd.merge(bigboi, itemxmonth,\n",
    "                                    how=\"left\", on=[\"item_id\",\"date_block_num\"], suffixes=[\"\",\"_fill\"])\n",
    "\n",
    "bigboi_filled[\"mean_item_price\"] = bigboi_filled[\"mean_item_price\"].fillna(bigboi_filled[\"mean_item_price_fill\"])\n",
    "bigboi_filled[\"std_item_price\"] = bigboi_filled[\"std_item_price\"].fillna(bigboi_filled[\"std_item_price_fill\"])\n",
    "\n",
    "bigboi_filled = bigboi_filled.drop([\"mean_item_price_fill\", \"std_item_price_fill\"], axis=1)\n",
    "\n",
    "print(bigboi_filled.isnull().sum())\n",
    "bigboi_filled.head(2)"
   ]
  },
  {
   "cell_type": "markdown",
   "metadata": {},
   "source": [
    "Now, second step, fill with something more general?\n",
    "- shop x item ?\n",
    "- category x month?\n",
    "- item ?"
   ]
  },
  {
   "cell_type": "markdown",
   "metadata": {},
   "source": [
    "##### shop x item level"
   ]
  },
  {
   "cell_type": "code",
   "execution_count": 216,
   "metadata": {},
   "outputs": [
    {
     "data": {
      "text/html": [
       "<div>\n",
       "<style scoped>\n",
       "    .dataframe tbody tr th:only-of-type {\n",
       "        vertical-align: middle;\n",
       "    }\n",
       "\n",
       "    .dataframe tbody tr th {\n",
       "        vertical-align: top;\n",
       "    }\n",
       "\n",
       "    .dataframe thead th {\n",
       "        text-align: right;\n",
       "    }\n",
       "</style>\n",
       "<table border=\"1\" class=\"dataframe\">\n",
       "  <thead>\n",
       "    <tr style=\"text-align: right;\">\n",
       "      <th></th>\n",
       "      <th>shop_id</th>\n",
       "      <th>item_id</th>\n",
       "      <th>mean_item_price</th>\n",
       "      <th>std_item_price</th>\n",
       "    </tr>\n",
       "  </thead>\n",
       "  <tbody>\n",
       "    <tr>\n",
       "      <th>count</th>\n",
       "      <td>277362.000000</td>\n",
       "      <td>277362.000000</td>\n",
       "      <td>277362.000000</td>\n",
       "      <td>277362.000000</td>\n",
       "    </tr>\n",
       "    <tr>\n",
       "      <th>mean</th>\n",
       "      <td>32.446914</td>\n",
       "      <td>11199.420335</td>\n",
       "      <td>92.547248</td>\n",
       "      <td>11.201097</td>\n",
       "    </tr>\n",
       "    <tr>\n",
       "      <th>std</th>\n",
       "      <td>16.718642</td>\n",
       "      <td>6187.040768</td>\n",
       "      <td>224.228914</td>\n",
       "      <td>58.549466</td>\n",
       "    </tr>\n",
       "    <tr>\n",
       "      <th>min</th>\n",
       "      <td>0.000000</td>\n",
       "      <td>1.000000</td>\n",
       "      <td>0.000000</td>\n",
       "      <td>0.000000</td>\n",
       "    </tr>\n",
       "    <tr>\n",
       "      <th>25%</th>\n",
       "      <td>19.000000</td>\n",
       "      <td>5797.000000</td>\n",
       "      <td>0.000000</td>\n",
       "      <td>0.000000</td>\n",
       "    </tr>\n",
       "    <tr>\n",
       "      <th>50%</th>\n",
       "      <td>31.000000</td>\n",
       "      <td>11240.000000</td>\n",
       "      <td>2.223805</td>\n",
       "      <td>0.000000</td>\n",
       "    </tr>\n",
       "    <tr>\n",
       "      <th>75%</th>\n",
       "      <td>47.000000</td>\n",
       "      <td>16468.750000</td>\n",
       "      <td>98.003904</td>\n",
       "      <td>0.000000</td>\n",
       "    </tr>\n",
       "    <tr>\n",
       "      <th>max</th>\n",
       "      <td>59.000000</td>\n",
       "      <td>22168.000000</td>\n",
       "      <td>7886.050611</td>\n",
       "      <td>3866.865000</td>\n",
       "    </tr>\n",
       "  </tbody>\n",
       "</table>\n",
       "</div>"
      ],
      "text/plain": [
       "             shop_id        item_id  mean_item_price  std_item_price\n",
       "count  277362.000000  277362.000000    277362.000000   277362.000000\n",
       "mean       32.446914   11199.420335        92.547248       11.201097\n",
       "std        16.718642    6187.040768       224.228914       58.549466\n",
       "min         0.000000       1.000000         0.000000        0.000000\n",
       "25%        19.000000    5797.000000         0.000000        0.000000\n",
       "50%        31.000000   11240.000000         2.223805        0.000000\n",
       "75%        47.000000   16468.750000        98.003904        0.000000\n",
       "max        59.000000   22168.000000      7886.050611     3866.865000"
      ]
     },
     "execution_count": 216,
     "metadata": {},
     "output_type": "execute_result"
    }
   ],
   "source": [
    "(bigboi_filled.dropna()\n",
    "             .groupby([\"shop_id\",\"item_id\"])\n",
    "             .agg({\"mean_item_price\":\"std\", \"std_item_price\":\"std\"})\n",
    "             .dropna()\n",
    "             .reset_index()\n",
    "             .describe())"
   ]
  },
  {
   "cell_type": "markdown",
   "metadata": {},
   "source": [
    "##### category x month"
   ]
  },
  {
   "cell_type": "code",
   "execution_count": 217,
   "metadata": {},
   "outputs": [
    {
     "data": {
      "text/html": [
       "<div>\n",
       "<style scoped>\n",
       "    .dataframe tbody tr th:only-of-type {\n",
       "        vertical-align: middle;\n",
       "    }\n",
       "\n",
       "    .dataframe tbody tr th {\n",
       "        vertical-align: top;\n",
       "    }\n",
       "\n",
       "    .dataframe thead th {\n",
       "        text-align: right;\n",
       "    }\n",
       "</style>\n",
       "<table border=\"1\" class=\"dataframe\">\n",
       "  <thead>\n",
       "    <tr style=\"text-align: right;\">\n",
       "      <th></th>\n",
       "      <th>item_category_id</th>\n",
       "      <th>date_block_num</th>\n",
       "      <th>mean_item_price</th>\n",
       "      <th>std_item_price</th>\n",
       "    </tr>\n",
       "  </thead>\n",
       "  <tbody>\n",
       "    <tr>\n",
       "      <th>count</th>\n",
       "      <td>2026.000000</td>\n",
       "      <td>2026.000000</td>\n",
       "      <td>2026.000000</td>\n",
       "      <td>2026.000000</td>\n",
       "    </tr>\n",
       "    <tr>\n",
       "      <th>mean</th>\n",
       "      <td>43.246792</td>\n",
       "      <td>16.875617</td>\n",
       "      <td>739.120426</td>\n",
       "      <td>59.021327</td>\n",
       "    </tr>\n",
       "    <tr>\n",
       "      <th>std</th>\n",
       "      <td>24.283090</td>\n",
       "      <td>9.710696</td>\n",
       "      <td>885.382164</td>\n",
       "      <td>200.282821</td>\n",
       "    </tr>\n",
       "    <tr>\n",
       "      <th>min</th>\n",
       "      <td>2.000000</td>\n",
       "      <td>0.000000</td>\n",
       "      <td>0.000000</td>\n",
       "      <td>0.000000</td>\n",
       "    </tr>\n",
       "    <tr>\n",
       "      <th>25%</th>\n",
       "      <td>22.000000</td>\n",
       "      <td>9.000000</td>\n",
       "      <td>169.593957</td>\n",
       "      <td>0.069467</td>\n",
       "    </tr>\n",
       "    <tr>\n",
       "      <th>50%</th>\n",
       "      <td>43.000000</td>\n",
       "      <td>17.000000</td>\n",
       "      <td>427.865816</td>\n",
       "      <td>11.271593</td>\n",
       "    </tr>\n",
       "    <tr>\n",
       "      <th>75%</th>\n",
       "      <td>65.000000</td>\n",
       "      <td>25.000000</td>\n",
       "      <td>972.109220</td>\n",
       "      <td>42.825464</td>\n",
       "    </tr>\n",
       "    <tr>\n",
       "      <th>max</th>\n",
       "      <td>83.000000</td>\n",
       "      <td>33.000000</td>\n",
       "      <td>11270.414843</td>\n",
       "      <td>6446.442930</td>\n",
       "    </tr>\n",
       "  </tbody>\n",
       "</table>\n",
       "</div>"
      ],
      "text/plain": [
       "       item_category_id  date_block_num  mean_item_price  std_item_price\n",
       "count       2026.000000     2026.000000      2026.000000     2026.000000\n",
       "mean          43.246792       16.875617       739.120426       59.021327\n",
       "std           24.283090        9.710696       885.382164      200.282821\n",
       "min            2.000000        0.000000         0.000000        0.000000\n",
       "25%           22.000000        9.000000       169.593957        0.069467\n",
       "50%           43.000000       17.000000       427.865816       11.271593\n",
       "75%           65.000000       25.000000       972.109220       42.825464\n",
       "max           83.000000       33.000000     11270.414843     6446.442930"
      ]
     },
     "execution_count": 217,
     "metadata": {},
     "output_type": "execute_result"
    }
   ],
   "source": [
    "(bigboi_filled.dropna()\n",
    "             .groupby([\"item_category_id\",\"date_block_num\"])\n",
    "             .agg({\"mean_item_price\":\"std\", \"std_item_price\":\"std\"})\n",
    "             .dropna()\n",
    "             .reset_index()\n",
    "             .describe())"
   ]
  },
  {
   "cell_type": "markdown",
   "metadata": {},
   "source": [
    "##### item level"
   ]
  },
  {
   "cell_type": "code",
   "execution_count": 218,
   "metadata": {},
   "outputs": [
    {
     "data": {
      "text/html": [
       "<div>\n",
       "<style scoped>\n",
       "    .dataframe tbody tr th:only-of-type {\n",
       "        vertical-align: middle;\n",
       "    }\n",
       "\n",
       "    .dataframe tbody tr th {\n",
       "        vertical-align: top;\n",
       "    }\n",
       "\n",
       "    .dataframe thead th {\n",
       "        text-align: right;\n",
       "    }\n",
       "</style>\n",
       "<table border=\"1\" class=\"dataframe\">\n",
       "  <thead>\n",
       "    <tr style=\"text-align: right;\">\n",
       "      <th></th>\n",
       "      <th>item_id</th>\n",
       "      <th>mean_item_price</th>\n",
       "      <th>std_item_price</th>\n",
       "    </tr>\n",
       "  </thead>\n",
       "  <tbody>\n",
       "    <tr>\n",
       "      <th>count</th>\n",
       "      <td>19283.000000</td>\n",
       "      <td>19283.000000</td>\n",
       "      <td>19283.000000</td>\n",
       "    </tr>\n",
       "    <tr>\n",
       "      <th>mean</th>\n",
       "      <td>11271.343671</td>\n",
       "      <td>95.377193</td>\n",
       "      <td>10.168821</td>\n",
       "    </tr>\n",
       "    <tr>\n",
       "      <th>std</th>\n",
       "      <td>6268.124735</td>\n",
       "      <td>203.426974</td>\n",
       "      <td>49.887337</td>\n",
       "    </tr>\n",
       "    <tr>\n",
       "      <th>min</th>\n",
       "      <td>1.000000</td>\n",
       "      <td>0.000000</td>\n",
       "      <td>0.000000</td>\n",
       "    </tr>\n",
       "    <tr>\n",
       "      <th>25%</th>\n",
       "      <td>5893.500000</td>\n",
       "      <td>16.037444</td>\n",
       "      <td>0.000000</td>\n",
       "    </tr>\n",
       "    <tr>\n",
       "      <th>50%</th>\n",
       "      <td>11340.000000</td>\n",
       "      <td>35.565185</td>\n",
       "      <td>0.000000</td>\n",
       "    </tr>\n",
       "    <tr>\n",
       "      <th>75%</th>\n",
       "      <td>16663.500000</td>\n",
       "      <td>96.760138</td>\n",
       "      <td>3.094107</td>\n",
       "    </tr>\n",
       "    <tr>\n",
       "      <th>max</th>\n",
       "      <td>22168.000000</td>\n",
       "      <td>5813.875386</td>\n",
       "      <td>2827.273413</td>\n",
       "    </tr>\n",
       "  </tbody>\n",
       "</table>\n",
       "</div>"
      ],
      "text/plain": [
       "            item_id  mean_item_price  std_item_price\n",
       "count  19283.000000     19283.000000    19283.000000\n",
       "mean   11271.343671        95.377193       10.168821\n",
       "std     6268.124735       203.426974       49.887337\n",
       "min        1.000000         0.000000        0.000000\n",
       "25%     5893.500000        16.037444        0.000000\n",
       "50%    11340.000000        35.565185        0.000000\n",
       "75%    16663.500000        96.760138        3.094107\n",
       "max    22168.000000      5813.875386     2827.273413"
      ]
     },
     "execution_count": 218,
     "metadata": {},
     "output_type": "execute_result"
    }
   ],
   "source": [
    "(bigboi_filled.dropna()\n",
    "             .groupby([\"item_id\"])\n",
    "             .agg({\"mean_item_price\":\"std\", \"std_item_price\":\"std\"})\n",
    "             .dropna()\n",
    "             .reset_index()\n",
    "             .describe())"
   ]
  },
  {
   "cell_type": "markdown",
   "metadata": {},
   "source": [
    "We observe that the distribution of mean_item_price and std_item_price is more regular on a item x month level. We'll fill NA values according to this granularity."
   ]
  },
  {
   "cell_type": "code",
   "execution_count": 219,
   "metadata": {},
   "outputs": [
    {
     "data": {
      "text/html": [
       "<div>\n",
       "<style scoped>\n",
       "    .dataframe tbody tr th:only-of-type {\n",
       "        vertical-align: middle;\n",
       "    }\n",
       "\n",
       "    .dataframe tbody tr th {\n",
       "        vertical-align: top;\n",
       "    }\n",
       "\n",
       "    .dataframe thead th {\n",
       "        text-align: right;\n",
       "    }\n",
       "</style>\n",
       "<table border=\"1\" class=\"dataframe\">\n",
       "  <thead>\n",
       "    <tr style=\"text-align: right;\">\n",
       "      <th></th>\n",
       "      <th>item_id</th>\n",
       "      <th>mean_item_price</th>\n",
       "      <th>std_item_price</th>\n",
       "    </tr>\n",
       "  </thead>\n",
       "  <tbody>\n",
       "    <tr>\n",
       "      <th>0</th>\n",
       "      <td>0</td>\n",
       "      <td>58.0</td>\n",
       "      <td>0.0</td>\n",
       "    </tr>\n",
       "    <tr>\n",
       "      <th>1</th>\n",
       "      <td>1</td>\n",
       "      <td>4490.0</td>\n",
       "      <td>0.0</td>\n",
       "    </tr>\n",
       "  </tbody>\n",
       "</table>\n",
       "</div>"
      ],
      "text/plain": [
       "   item_id  mean_item_price  std_item_price\n",
       "0        0             58.0             0.0\n",
       "1        1           4490.0             0.0"
      ]
     },
     "execution_count": 219,
     "metadata": {},
     "output_type": "execute_result"
    }
   ],
   "source": [
    "item_mean = (bigboi.dropna()\n",
    "             .groupby([\"item_id\"])\n",
    "             .agg({\"mean_item_price\":\"mean\", \"std_item_price\":\"mean\"})\n",
    "             .reset_index())\n",
    "item_mean.head(2)"
   ]
  },
  {
   "cell_type": "code",
   "execution_count": 220,
   "metadata": {},
   "outputs": [
    {
     "name": "stdout",
     "output_type": "stream",
     "text": [
      "shop_id                     0\n",
      "item_id                     0\n",
      "date_block_num              0\n",
      "random_date           9549803\n",
      "mean_item_price             0\n",
      "std_item_price              0\n",
      "item_cnt_month              0\n",
      "days_with_sell              0\n",
      "item_category_id            0\n",
      "item_category_name          0\n",
      "city_name                   0\n",
      "dtype: int64\n"
     ]
    },
    {
     "data": {
      "text/html": [
       "<div>\n",
       "<style scoped>\n",
       "    .dataframe tbody tr th:only-of-type {\n",
       "        vertical-align: middle;\n",
       "    }\n",
       "\n",
       "    .dataframe tbody tr th {\n",
       "        vertical-align: top;\n",
       "    }\n",
       "\n",
       "    .dataframe thead th {\n",
       "        text-align: right;\n",
       "    }\n",
       "</style>\n",
       "<table border=\"1\" class=\"dataframe\">\n",
       "  <thead>\n",
       "    <tr style=\"text-align: right;\">\n",
       "      <th></th>\n",
       "      <th>shop_id</th>\n",
       "      <th>item_id</th>\n",
       "      <th>date_block_num</th>\n",
       "      <th>random_date</th>\n",
       "      <th>mean_item_price</th>\n",
       "      <th>std_item_price</th>\n",
       "      <th>item_cnt_month</th>\n",
       "      <th>days_with_sell</th>\n",
       "      <th>item_category_id</th>\n",
       "      <th>item_category_name</th>\n",
       "      <th>city_name</th>\n",
       "    </tr>\n",
       "  </thead>\n",
       "  <tbody>\n",
       "    <tr>\n",
       "      <th>0</th>\n",
       "      <td>0</td>\n",
       "      <td>16385</td>\n",
       "      <td>0</td>\n",
       "      <td>20.01.2013</td>\n",
       "      <td>200.0</td>\n",
       "      <td>0.0</td>\n",
       "      <td>2.0</td>\n",
       "      <td>2.0</td>\n",
       "      <td>30</td>\n",
       "      <td>Игры PC - Стандартные издания</td>\n",
       "      <td>Yakutsk</td>\n",
       "    </tr>\n",
       "    <tr>\n",
       "      <th>1</th>\n",
       "      <td>0</td>\n",
       "      <td>16385</td>\n",
       "      <td>1</td>\n",
       "      <td>25.02.2013</td>\n",
       "      <td>200.0</td>\n",
       "      <td>0.0</td>\n",
       "      <td>2.0</td>\n",
       "      <td>2.0</td>\n",
       "      <td>30</td>\n",
       "      <td>Игры PC - Стандартные издания</td>\n",
       "      <td>Yakutsk</td>\n",
       "    </tr>\n",
       "  </tbody>\n",
       "</table>\n",
       "</div>"
      ],
      "text/plain": [
       "   shop_id  item_id  date_block_num random_date  mean_item_price  \\\n",
       "0        0    16385               0  20.01.2013            200.0   \n",
       "1        0    16385               1  25.02.2013            200.0   \n",
       "\n",
       "   std_item_price  item_cnt_month  days_with_sell  item_category_id  \\\n",
       "0             0.0             2.0             2.0                30   \n",
       "1             0.0             2.0             2.0                30   \n",
       "\n",
       "              item_category_name city_name  \n",
       "0  Игры PC - Стандартные издания   Yakutsk  \n",
       "1  Игры PC - Стандартные издания   Yakutsk  "
      ]
     },
     "execution_count": 220,
     "metadata": {},
     "output_type": "execute_result"
    }
   ],
   "source": [
    "bigboi_filled = pd.merge(bigboi_filled, item_mean,\n",
    "                                    how=\"left\", on=[\"item_id\"], suffixes=[\"\",\"_fill\"])\n",
    "\n",
    "bigboi_filled[\"mean_item_price\"] = bigboi_filled[\"mean_item_price\"].fillna(bigboi_filled[\"mean_item_price_fill\"])\n",
    "bigboi_filled[\"std_item_price\"] = bigboi_filled[\"std_item_price\"].fillna(bigboi_filled[\"std_item_price_fill\"])\n",
    "\n",
    "bigboi_filled = bigboi_filled.drop([\"mean_item_price_fill\", \"std_item_price_fill\"], axis=1)\n",
    "\n",
    "print(bigboi_filled.isnull().sum())\n",
    "bigboi_filled.head(2)"
   ]
  },
  {
   "cell_type": "markdown",
   "metadata": {},
   "source": [
    "#### random_date"
   ]
  },
  {
   "cell_type": "code",
   "execution_count": 224,
   "metadata": {},
   "outputs": [
    {
     "name": "stdout",
     "output_type": "stream",
     "text": [
      "shop_id               0\n",
      "item_id               0\n",
      "date_block_num        0\n",
      "random_date           0\n",
      "mean_item_price       0\n",
      "std_item_price        0\n",
      "item_cnt_month        0\n",
      "days_with_sell        0\n",
      "item_category_id      0\n",
      "item_category_name    0\n",
      "city_name             0\n",
      "random_date_fill      0\n",
      "dtype: int64\n"
     ]
    },
    {
     "data": {
      "text/html": [
       "<div>\n",
       "<style scoped>\n",
       "    .dataframe tbody tr th:only-of-type {\n",
       "        vertical-align: middle;\n",
       "    }\n",
       "\n",
       "    .dataframe tbody tr th {\n",
       "        vertical-align: top;\n",
       "    }\n",
       "\n",
       "    .dataframe thead th {\n",
       "        text-align: right;\n",
       "    }\n",
       "</style>\n",
       "<table border=\"1\" class=\"dataframe\">\n",
       "  <thead>\n",
       "    <tr style=\"text-align: right;\">\n",
       "      <th></th>\n",
       "      <th>shop_id</th>\n",
       "      <th>item_id</th>\n",
       "      <th>date_block_num</th>\n",
       "      <th>random_date</th>\n",
       "      <th>mean_item_price</th>\n",
       "      <th>std_item_price</th>\n",
       "      <th>item_cnt_month</th>\n",
       "      <th>days_with_sell</th>\n",
       "      <th>item_category_id</th>\n",
       "      <th>item_category_name</th>\n",
       "      <th>city_name</th>\n",
       "      <th>random_date_fill</th>\n",
       "    </tr>\n",
       "  </thead>\n",
       "  <tbody>\n",
       "    <tr>\n",
       "      <th>0</th>\n",
       "      <td>0</td>\n",
       "      <td>16385</td>\n",
       "      <td>0</td>\n",
       "      <td>20.01.2013</td>\n",
       "      <td>200.0</td>\n",
       "      <td>0.0</td>\n",
       "      <td>2.0</td>\n",
       "      <td>2.0</td>\n",
       "      <td>30</td>\n",
       "      <td>Игры PC - Стандартные издания</td>\n",
       "      <td>Yakutsk</td>\n",
       "      <td>20.01.2013</td>\n",
       "    </tr>\n",
       "    <tr>\n",
       "      <th>1</th>\n",
       "      <td>0</td>\n",
       "      <td>16385</td>\n",
       "      <td>1</td>\n",
       "      <td>25.02.2013</td>\n",
       "      <td>200.0</td>\n",
       "      <td>0.0</td>\n",
       "      <td>2.0</td>\n",
       "      <td>2.0</td>\n",
       "      <td>30</td>\n",
       "      <td>Игры PC - Стандартные издания</td>\n",
       "      <td>Yakutsk</td>\n",
       "      <td>25.02.2013</td>\n",
       "    </tr>\n",
       "  </tbody>\n",
       "</table>\n",
       "</div>"
      ],
      "text/plain": [
       "   shop_id  item_id  date_block_num random_date  mean_item_price  \\\n",
       "0        0    16385               0  20.01.2013            200.0   \n",
       "1        0    16385               1  25.02.2013            200.0   \n",
       "\n",
       "   std_item_price  item_cnt_month  days_with_sell  item_category_id  \\\n",
       "0             0.0             2.0             2.0                30   \n",
       "1             0.0             2.0             2.0                30   \n",
       "\n",
       "              item_category_name city_name random_date_fill  \n",
       "0  Игры PC - Стандартные издания   Yakutsk       20.01.2013  \n",
       "1  Игры PC - Стандартные издания   Yakutsk       25.02.2013  "
      ]
     },
     "execution_count": 224,
     "metadata": {},
     "output_type": "execute_result"
    }
   ],
   "source": [
    "random_dates = bigboi_filled.dropna().groupby(\"date_block_num\").agg({\"random_date\":\"first\"}).reset_index()\n",
    "bigboi_filled = pd.merge(bigboi_filled, random_dates, how=\"left\", on=\"date_block_num\", suffixes=[\"\",\"_fill\"])\n",
    "bigboi_filled[\"random_date\"] = bigboi_filled[\"random_date\"].fillna(bigboi_filled_r[\"random_date_fill\"])\n",
    "\n",
    "print(bigboi_filled.isnull().sum())\n",
    "bigboi_filled.head(2)"
   ]
  },
  {
   "cell_type": "code",
   "execution_count": null,
   "metadata": {},
   "outputs": [],
   "source": []
  }
 ],
 "metadata": {
  "kernelspec": {
   "display_name": "Python 3",
   "language": "python",
   "name": "python3"
  },
  "language_info": {
   "codemirror_mode": {
    "name": "ipython",
    "version": 3
   },
   "file_extension": ".py",
   "mimetype": "text/x-python",
   "name": "python",
   "nbconvert_exporter": "python",
   "pygments_lexer": "ipython3",
   "version": "3.7.3"
  }
 },
 "nbformat": 4,
 "nbformat_minor": 2
}
