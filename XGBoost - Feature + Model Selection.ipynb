{
 "cells": [
  {
   "cell_type": "markdown",
   "metadata": {},
   "source": [
    "# Imports and config"
   ]
  },
  {
   "cell_type": "code",
   "execution_count": 1,
   "metadata": {},
   "outputs": [],
   "source": [
    "import os\n",
    "import pickle\n",
    "import warnings\n",
    "import random\n",
    "import pickle\n",
    "\n",
    "import numpy as np\n",
    "import pandas as pd\n",
    "import seaborn as sns\n",
    "import matplotlib.pyplot as plt\n",
    "from cycler import cycler\n",
    "\n",
    "import xgboost as xgb\n",
    "from xgboost import plot_importance, plot_tree\n",
    "from sklearn.metrics import mean_squared_error, mean_absolute_error\n",
    "\n",
    "import config as cfg\n",
    "import data_processing as dp\n",
    "\n",
    "\n",
    "warnings.filterwarnings('ignore')\n",
    "plt.style.use('seaborn-dark-palette')"
   ]
  },
  {
   "cell_type": "code",
   "execution_count": 28,
   "metadata": {},
   "outputs": [],
   "source": [
    "df_fs=pd.read_pickle(\"cleaned_sets/df_features.pkl\")"
   ]
  },
  {
   "cell_type": "markdown",
   "metadata": {},
   "source": [
    "# Feature Selection"
   ]
  },
  {
   "cell_type": "code",
   "execution_count": 29,
   "metadata": {},
   "outputs": [
    {
     "data": {
      "text/html": [
       "<div>\n",
       "<style scoped>\n",
       "    .dataframe tbody tr th:only-of-type {\n",
       "        vertical-align: middle;\n",
       "    }\n",
       "\n",
       "    .dataframe tbody tr th {\n",
       "        vertical-align: top;\n",
       "    }\n",
       "\n",
       "    .dataframe thead th {\n",
       "        text-align: right;\n",
       "    }\n",
       "</style>\n",
       "<table border=\"1\" class=\"dataframe\">\n",
       "  <thead>\n",
       "    <tr style=\"text-align: right;\">\n",
       "      <th></th>\n",
       "      <th>shop_id</th>\n",
       "      <th>item_id</th>\n",
       "      <th>date_block_num</th>\n",
       "      <th>random_date</th>\n",
       "      <th>mean_item_price</th>\n",
       "      <th>std_item_price</th>\n",
       "      <th>item_cnt_month</th>\n",
       "      <th>days_with_sell</th>\n",
       "      <th>item_name</th>\n",
       "      <th>item_category_id</th>\n",
       "      <th>...</th>\n",
       "      <th>mean_city_cnt_month</th>\n",
       "      <th>mean_city_item_price</th>\n",
       "      <th>std_city_item_price</th>\n",
       "      <th>mean_category_cnt_month_lag1</th>\n",
       "      <th>mean_category_item_price_lag1</th>\n",
       "      <th>std_category_item_price_lag1</th>\n",
       "      <th>mean_city_cnt_month_lag1</th>\n",
       "      <th>mean_city_item_price_lag1</th>\n",
       "      <th>std_city_item_price_lag1</th>\n",
       "      <th>is_lowest_price</th>\n",
       "    </tr>\n",
       "  </thead>\n",
       "  <tbody>\n",
       "    <tr>\n",
       "      <th>0</th>\n",
       "      <td>0</td>\n",
       "      <td>16385</td>\n",
       "      <td>0</td>\n",
       "      <td>20.01.2013</td>\n",
       "      <td>200.0</td>\n",
       "      <td>0.0</td>\n",
       "      <td>2.0</td>\n",
       "      <td>2.0</td>\n",
       "      <td>Нэнси Дрю. Сгоревшее алиби [PC, Jewel]</td>\n",
       "      <td>30</td>\n",
       "      <td>...</td>\n",
       "      <td>0.581237</td>\n",
       "      <td>513.799861</td>\n",
       "      <td>2.299256</td>\n",
       "      <td>NaN</td>\n",
       "      <td>NaN</td>\n",
       "      <td>NaN</td>\n",
       "      <td>NaN</td>\n",
       "      <td>NaN</td>\n",
       "      <td>NaN</td>\n",
       "      <td>True</td>\n",
       "    </tr>\n",
       "  </tbody>\n",
       "</table>\n",
       "<p>1 rows × 37 columns</p>\n",
       "</div>"
      ],
      "text/plain": [
       "   shop_id  item_id  date_block_num random_date  mean_item_price  \\\n",
       "0        0    16385               0  20.01.2013            200.0   \n",
       "\n",
       "   std_item_price  item_cnt_month  days_with_sell  \\\n",
       "0             0.0             2.0             2.0   \n",
       "\n",
       "                                item_name  item_category_id  ...  \\\n",
       "0  Нэнси Дрю. Сгоревшее алиби [PC, Jewel]                30  ...   \n",
       "\n",
       "  mean_city_cnt_month mean_city_item_price std_city_item_price  \\\n",
       "0            0.581237           513.799861            2.299256   \n",
       "\n",
       "   mean_category_cnt_month_lag1  mean_category_item_price_lag1  \\\n",
       "0                           NaN                            NaN   \n",
       "\n",
       "   std_category_item_price_lag1  mean_city_cnt_month_lag1  \\\n",
       "0                           NaN                       NaN   \n",
       "\n",
       "   mean_city_item_price_lag1  std_city_item_price_lag1  is_lowest_price  \n",
       "0                        NaN                       NaN             True  \n",
       "\n",
       "[1 rows x 37 columns]"
      ]
     },
     "execution_count": 29,
     "metadata": {},
     "output_type": "execute_result"
    }
   ],
   "source": [
    "df_fs.head(1)"
   ]
  },
  {
   "cell_type": "code",
   "execution_count": 30,
   "metadata": {},
   "outputs": [
    {
     "data": {
      "text/plain": [
       "Index(['shop_id', 'item_id', 'date_block_num', 'random_date',\n",
       "       'mean_item_price', 'std_item_price', 'item_cnt_month', 'days_with_sell',\n",
       "       'item_name', 'item_category_id', 'main_category_name',\n",
       "       'sub_category_name', 'city_name', 'item_cnt_next_month', 'month',\n",
       "       'year', 'nb_days', 'mean_item_price_lag1', 'mean_item_price_lag2',\n",
       "       'std_item_price_lag1', 'std_item_price_lag2', 'item_cnt_month_lag1',\n",
       "       'item_cnt_month_lag2', 'item_cnt_month_lag12',\n",
       "       'mean_category_cnt_month', 'mean_category_item_price',\n",
       "       'std_category_item_price', 'mean_city_cnt_month',\n",
       "       'mean_city_item_price', 'std_city_item_price',\n",
       "       'mean_category_cnt_month_lag1', 'mean_category_item_price_lag1',\n",
       "       'std_category_item_price_lag1', 'mean_city_cnt_month_lag1',\n",
       "       'mean_city_item_price_lag1', 'std_city_item_price_lag1',\n",
       "       'is_lowest_price'],\n",
       "      dtype='object')"
      ]
     },
     "execution_count": 30,
     "metadata": {},
     "output_type": "execute_result"
    }
   ],
   "source": [
    "df_fs.columns"
   ]
  },
  {
   "cell_type": "code",
   "execution_count": 31,
   "metadata": {},
   "outputs": [],
   "source": [
    "col_to_remove = [\"random_date\",\"item_name\",\"item_category_id\", \n",
    "                 \"item_cnt_month_lag12\",\"sub_category_name\"]\n",
    "df_fs = df_fs.drop(col_to_remove, axis=1)"
   ]
  },
  {
   "cell_type": "code",
   "execution_count": 32,
   "metadata": {},
   "outputs": [],
   "source": [
    "col_id = [\"shop_id\",\"item_id\",\"date_block_num\"]\n",
    "df_fs_predictors = df_fs.loc[:,[col for col in df_fs.columns if col not in col_id]]"
   ]
  },
  {
   "cell_type": "markdown",
   "metadata": {},
   "source": [
    "#### Collinearity"
   ]
  },
  {
   "cell_type": "raw",
   "metadata": {},
   "source": [
    "#Using Pearson Correlation\n",
    "plt.figure(figsize=(12,10))\n",
    "cor = df_fs_predictors.corr()\n",
    "sns.heatmap(cor, annot=True, cmap=plt.cm.Reds)\n",
    "plt.show()"
   ]
  },
  {
   "cell_type": "markdown",
   "metadata": {},
   "source": [
    "![caption](images/feature_heatmap.png)"
   ]
  },
  {
   "cell_type": "code",
   "execution_count": 33,
   "metadata": {},
   "outputs": [],
   "source": [
    "col_to_remove = [\"mean_item_price_lag1\", \"mean_item_price_lag2\",\"mean_category_cnt_month_lag1\",\n",
    "                 \"mean_category_item_price_lag1\",\"mean_category_item_price_lag1\",\n",
    "                 \"mean_city_cnt_month_lag1\", \"mean_city_item_price_lag1\",\"std_city_item_price_lag1\"]\n",
    "df_fs = df_fs.drop(col_to_remove, axis=1)"
   ]
  },
  {
   "cell_type": "markdown",
   "metadata": {},
   "source": [
    "##### String features to dummies"
   ]
  },
  {
   "cell_type": "code",
   "execution_count": 36,
   "metadata": {},
   "outputs": [
    {
     "data": {
      "text/html": [
       "<div>\n",
       "<style scoped>\n",
       "    .dataframe tbody tr th:only-of-type {\n",
       "        vertical-align: middle;\n",
       "    }\n",
       "\n",
       "    .dataframe tbody tr th {\n",
       "        vertical-align: top;\n",
       "    }\n",
       "\n",
       "    .dataframe thead th {\n",
       "        text-align: right;\n",
       "    }\n",
       "</style>\n",
       "<table border=\"1\" class=\"dataframe\">\n",
       "  <thead>\n",
       "    <tr style=\"text-align: right;\">\n",
       "      <th></th>\n",
       "      <th>shop_id</th>\n",
       "      <th>item_id</th>\n",
       "      <th>date_block_num</th>\n",
       "      <th>mean_item_price</th>\n",
       "      <th>std_item_price</th>\n",
       "      <th>item_cnt_month</th>\n",
       "      <th>days_with_sell</th>\n",
       "      <th>item_cnt_next_month</th>\n",
       "      <th>month</th>\n",
       "      <th>year</th>\n",
       "      <th>...</th>\n",
       "      <th>city_name_Surgut</th>\n",
       "      <th>city_name_Tomsk</th>\n",
       "      <th>city_name_Tyumen</th>\n",
       "      <th>city_name_Ufa</th>\n",
       "      <th>city_name_Vologda</th>\n",
       "      <th>city_name_Volzhsky</th>\n",
       "      <th>city_name_Voronezh</th>\n",
       "      <th>city_name_Yakutsk</th>\n",
       "      <th>city_name_Yaroslavl</th>\n",
       "      <th>city_name_Zhukovsky</th>\n",
       "    </tr>\n",
       "  </thead>\n",
       "  <tbody>\n",
       "    <tr>\n",
       "      <th>0</th>\n",
       "      <td>0</td>\n",
       "      <td>16385</td>\n",
       "      <td>0</td>\n",
       "      <td>200.0</td>\n",
       "      <td>0.0</td>\n",
       "      <td>2.0</td>\n",
       "      <td>2.0</td>\n",
       "      <td>2.0</td>\n",
       "      <td>1</td>\n",
       "      <td>13</td>\n",
       "      <td>...</td>\n",
       "      <td>0</td>\n",
       "      <td>0</td>\n",
       "      <td>0</td>\n",
       "      <td>0</td>\n",
       "      <td>0</td>\n",
       "      <td>0</td>\n",
       "      <td>0</td>\n",
       "      <td>1</td>\n",
       "      <td>0</td>\n",
       "      <td>0</td>\n",
       "    </tr>\n",
       "    <tr>\n",
       "      <th>1</th>\n",
       "      <td>0</td>\n",
       "      <td>16385</td>\n",
       "      <td>1</td>\n",
       "      <td>200.0</td>\n",
       "      <td>0.0</td>\n",
       "      <td>2.0</td>\n",
       "      <td>2.0</td>\n",
       "      <td>0.0</td>\n",
       "      <td>2</td>\n",
       "      <td>13</td>\n",
       "      <td>...</td>\n",
       "      <td>0</td>\n",
       "      <td>0</td>\n",
       "      <td>0</td>\n",
       "      <td>0</td>\n",
       "      <td>0</td>\n",
       "      <td>0</td>\n",
       "      <td>0</td>\n",
       "      <td>1</td>\n",
       "      <td>0</td>\n",
       "      <td>0</td>\n",
       "    </tr>\n",
       "  </tbody>\n",
       "</table>\n",
       "<p>2 rows × 62 columns</p>\n",
       "</div>"
      ],
      "text/plain": [
       "   shop_id  item_id  date_block_num  mean_item_price  std_item_price  \\\n",
       "0        0    16385               0            200.0             0.0   \n",
       "1        0    16385               1            200.0             0.0   \n",
       "\n",
       "   item_cnt_month  days_with_sell  item_cnt_next_month  month  year  ...  \\\n",
       "0             2.0             2.0                  2.0      1    13  ...   \n",
       "1             2.0             2.0                  0.0      2    13  ...   \n",
       "\n",
       "   city_name_Surgut  city_name_Tomsk  city_name_Tyumen  city_name_Ufa  \\\n",
       "0                 0                0                 0              0   \n",
       "1                 0                0                 0              0   \n",
       "\n",
       "   city_name_Vologda  city_name_Volzhsky  city_name_Voronezh  \\\n",
       "0                  0                   0                   0   \n",
       "1                  0                   0                   0   \n",
       "\n",
       "   city_name_Yakutsk  city_name_Yaroslavl  city_name_Zhukovsky  \n",
       "0                  1                    0                    0  \n",
       "1                  1                    0                    0  \n",
       "\n",
       "[2 rows x 62 columns]"
      ]
     },
     "execution_count": 36,
     "metadata": {},
     "output_type": "execute_result"
    }
   ],
   "source": [
    "col_to_dummies = [\"main_category_name\",\"city_name\"]\n",
    "df_fs = pd.concat([df_fs.drop(col_to_dummies, axis=1), pd.get_dummies(df_fs[col_to_dummies])], axis=1)\n",
    "df_fs.head(2)"
   ]
  },
  {
   "cell_type": "markdown",
   "metadata": {},
   "source": [
    "##### Zero Importance Features"
   ]
  },
  {
   "cell_type": "markdown",
   "metadata": {},
   "source": [
    "First, we need to build a train and a validation set. We'll also build the test set.  "
   ]
  },
  {
   "cell_type": "code",
   "execution_count": 37,
   "metadata": {},
   "outputs": [],
   "source": [
    "train = df_fs.loc[(df_fs[\"date_block_num\"]>=2) & (df_fs[\"date_block_num\"]<=27)]\n",
    "valid = df_fs.loc[(df_fs[\"date_block_num\"]>=28) & (df_fs[\"date_block_num\"]<=32)]\n",
    "test = df_fs.loc[(df_fs[\"date_block_num\"]>=33)]"
   ]
  },
  {
   "cell_type": "code",
   "execution_count": 76,
   "metadata": {},
   "outputs": [],
   "source": [
    "X_train_fs = train.drop([\"date_block_num\",\"item_cnt_next_month\",\"item_id\",\"shop_id\"], axis=1).sample(frac=0.2)\n",
    "y_train_fs = train.loc[train.index.isin(X_train_fs.index),\"item_cnt_next_month\"]\n",
    "X_val_fs = valid.drop([\"date_block_num\",\"item_cnt_next_month\",\"item_id\",\"shop_id\"], axis=1).sample(frac=0.2)\n",
    "y_val_fs = valid.loc[valid.index.isin(X_val_fs.index),\"item_cnt_next_month\"]"
   ]
  },
  {
   "cell_type": "code",
   "execution_count": 78,
   "metadata": {},
   "outputs": [
    {
     "name": "stdout",
     "output_type": "stream",
     "text": [
      "[15:59:19] WARNING: src/objective/regression_obj.cu:152: reg:linear is now deprecated in favor of reg:squarederror.\n",
      "[0]\tvalidation_0-rmse:2.60384\tvalidation_1-rmse:2.04182\n",
      "Multiple eval metrics have been passed: 'validation_1-rmse' will be used for early stopping.\n",
      "\n",
      "Will train until validation_1-rmse hasn't improved in 10 rounds.\n",
      "Stopping. Best iteration:\n",
      "[9]\tvalidation_0-rmse:2.6069\tvalidation_1-rmse:2.02509\n",
      "\n"
     ]
    },
    {
     "data": {
      "text/plain": [
       "XGBRegressor(base_score=0.5, booster='gbtree', colsample_bylevel=1,\n",
       "             colsample_bynode=1, colsample_bytree=1, gamma=0,\n",
       "             importance_type='gain', learning_rate=0.1, max_delta_step=0,\n",
       "             max_depth=3, min_child_weight=1, missing=None, n_estimators=100,\n",
       "             n_jobs=1, nthread=None, objective='reg:linear', random_state=0,\n",
       "             reg_alpha=0, reg_lambda=1, scale_pos_weight=1, seed=0, silent=None,\n",
       "             subsample=1, verbosity=1)"
      ]
     },
     "execution_count": 78,
     "metadata": {},
     "output_type": "execute_result"
    }
   ],
   "source": [
    "xgbr = xgb.XGBRegressor(seed=0)\n",
    "xgbr.fit(X_train_fs, y_train_fs,\n",
    "        eval_metric=\"rmse\", \n",
    "              eval_set=[(X_train_fs, y_train_fs), (X_val_fs, y_val_fs)], \n",
    "              verbose=20, \n",
    "              early_stopping_rounds=10)"
   ]
  },
  {
   "cell_type": "code",
   "execution_count": 80,
   "metadata": {},
   "outputs": [
    {
     "data": {
      "text/plain": [
       "[('is_lowest_price', 0.30668318),\n",
       " ('city_name_Tyumen', 0.26034078),\n",
       " ('mean_city_cnt_month', 0.21589477),\n",
       " ('mean_item_price', 0.048524242),\n",
       " ('city_name_Omsk', 0.024549523),\n",
       " ('std_item_price_lag1', 0.020891327),\n",
       " ('city_name_Other', 0.017957376),\n",
       " ('mean_city_item_price', 0.016603692),\n",
       " ('std_item_price_lag2', 0.016049614),\n",
       " ('mean_category_cnt_month', 0.0150545),\n",
       " ('days_with_sell', 0.013442144),\n",
       " ('city_name_Volzhsky', 0.008228719),\n",
       " ('item_cnt_month_lag1', 0.0061957897),\n",
       " ('std_city_item_price', 0.0055480087),\n",
       " ('month', 0.005148007),\n",
       " ('mean_category_item_price', 0.0048806686),\n",
       " ('city_name_Khimki', 0.004814718),\n",
       " ('item_cnt_month_lag2', 0.0028455546),\n",
       " ('std_category_item_price', 0.0023008257),\n",
       " ('city_name_Novosibirsk', 0.0020749127),\n",
       " ('std_category_item_price_lag1', 0.001971608),\n",
       " ('std_item_price', 0.0),\n",
       " ('item_cnt_month', 0.0),\n",
       " ('year', 0.0),\n",
       " ('nb_days', 0.0),\n",
       " ('main_category_name_Accessories', 0.0),\n",
       " ('main_category_name_Books', 0.0),\n",
       " ('main_category_name_Game consoles', 0.0),\n",
       " ('main_category_name_Games', 0.0),\n",
       " ('main_category_name_Gifts', 0.0),\n",
       " ('main_category_name_Movies', 0.0),\n",
       " ('main_category_name_Music', 0.0),\n",
       " ('main_category_name_Others', 0.0),\n",
       " ('main_category_name_Payment card', 0.0),\n",
       " ('main_category_name_Program', 0.0),\n",
       " ('city_name_Adygea', 0.0),\n",
       " ('city_name_Balashikha', 0.0),\n",
       " ('city_name_Czechs', 0.0),\n",
       " ('city_name_Kaluga', 0.0),\n",
       " ('city_name_Kazan', 0.0),\n",
       " ('city_name_Kolomna', 0.0),\n",
       " ('city_name_Krasnoyarsk', 0.0),\n",
       " ('city_name_Kursk', 0.0),\n",
       " ('city_name_Moscow', 0.0),\n",
       " ('city_name_Mytishchi', 0.0),\n",
       " ('city_name_Nizhny Novgorod', 0.0),\n",
       " ('city_name_Rostov-on-Don', 0.0),\n",
       " ('city_name_SPb', 0.0),\n",
       " ('city_name_Samara', 0.0),\n",
       " ('city_name_Sergiev', 0.0),\n",
       " ('city_name_Surgut', 0.0),\n",
       " ('city_name_Tomsk', 0.0),\n",
       " ('city_name_Ufa', 0.0),\n",
       " ('city_name_Vologda', 0.0),\n",
       " ('city_name_Voronezh', 0.0),\n",
       " ('city_name_Yakutsk', 0.0),\n",
       " ('city_name_Yaroslavl', 0.0),\n",
       " ('city_name_Zhukovsky', 0.0)]"
      ]
     },
     "execution_count": 80,
     "metadata": {},
     "output_type": "execute_result"
    }
   ],
   "source": [
    "ft_imp ={}\n",
    "for i in range(len(X_train_fs.columns)):\n",
    "    ft_imp[X_train_fs.columns[i]] = xgbr.feature_importances_[i]\n",
    "sorted(ft_imp.items(), key=lambda kv: kv[1], reverse=True)"
   ]
  },
  {
   "cell_type": "markdown",
   "metadata": {},
   "source": [
    "##### Keep only features such as cumulated importance > threshold - NOT DONE"
   ]
  },
  {
   "cell_type": "code",
   "execution_count": null,
   "metadata": {},
   "outputs": [],
   "source": []
  },
  {
   "cell_type": "markdown",
   "metadata": {},
   "source": [
    "# Prediction"
   ]
  },
  {
   "cell_type": "code",
   "execution_count": 60,
   "metadata": {},
   "outputs": [
    {
     "name": "stdout",
     "output_type": "stream",
     "text": [
      "shop_id                             0\n",
      "item_id                             0\n",
      "mean_item_price                     0\n",
      "std_item_price                      0\n",
      "item_cnt_month                      0\n",
      "days_with_sell                      0\n",
      "month                               0\n",
      "year                                0\n",
      "nb_days                             0\n",
      "std_item_price_lag1                 0\n",
      "std_item_price_lag2                 0\n",
      "item_cnt_month_lag1                 0\n",
      "item_cnt_month_lag2                 0\n",
      "mean_category_cnt_month             0\n",
      "mean_category_item_price            0\n",
      "std_category_item_price             0\n",
      "mean_city_cnt_month                 0\n",
      "mean_city_item_price                0\n",
      "std_city_item_price                 0\n",
      "std_category_item_price_lag1        0\n",
      "is_lowest_price                     0\n",
      "main_category_name_Accessories      0\n",
      "main_category_name_Books            0\n",
      "main_category_name_Game consoles    0\n",
      "main_category_name_Games            0\n",
      "main_category_name_Gifts            0\n",
      "main_category_name_Movies           0\n",
      "main_category_name_Music            0\n",
      "main_category_name_Others           0\n",
      "main_category_name_Payment card     0\n",
      "main_category_name_Program          0\n",
      "city_name_Adygea                    0\n",
      "city_name_Balashikha                0\n",
      "city_name_Czechs                    0\n",
      "city_name_Kaluga                    0\n",
      "city_name_Kazan                     0\n",
      "city_name_Khimki                    0\n",
      "city_name_Kolomna                   0\n",
      "city_name_Krasnoyarsk               0\n",
      "city_name_Kursk                     0\n",
      "city_name_Moscow                    0\n",
      "city_name_Mytishchi                 0\n",
      "city_name_Nizhny Novgorod           0\n",
      "city_name_Novosibirsk               0\n",
      "city_name_Omsk                      0\n",
      "city_name_Other                     0\n",
      "city_name_Rostov-on-Don             0\n",
      "city_name_SPb                       0\n",
      "city_name_Samara                    0\n",
      "city_name_Sergiev                   0\n",
      "city_name_Surgut                    0\n",
      "city_name_Tomsk                     0\n",
      "city_name_Tyumen                    0\n",
      "city_name_Ufa                       0\n",
      "city_name_Vologda                   0\n",
      "city_name_Volzhsky                  0\n",
      "city_name_Voronezh                  0\n",
      "city_name_Yakutsk                   0\n",
      "city_name_Yaroslavl                 0\n",
      "city_name_Zhukovsky                 0\n",
      "dtype: int64\n"
     ]
    },
    {
     "data": {
      "text/html": [
       "<div>\n",
       "<style scoped>\n",
       "    .dataframe tbody tr th:only-of-type {\n",
       "        vertical-align: middle;\n",
       "    }\n",
       "\n",
       "    .dataframe tbody tr th {\n",
       "        vertical-align: top;\n",
       "    }\n",
       "\n",
       "    .dataframe thead th {\n",
       "        text-align: right;\n",
       "    }\n",
       "</style>\n",
       "<table border=\"1\" class=\"dataframe\">\n",
       "  <thead>\n",
       "    <tr style=\"text-align: right;\">\n",
       "      <th></th>\n",
       "      <th>shop_id</th>\n",
       "      <th>item_id</th>\n",
       "      <th>mean_item_price</th>\n",
       "      <th>std_item_price</th>\n",
       "      <th>item_cnt_month</th>\n",
       "      <th>days_with_sell</th>\n",
       "      <th>month</th>\n",
       "      <th>year</th>\n",
       "      <th>nb_days</th>\n",
       "      <th>std_item_price_lag1</th>\n",
       "      <th>...</th>\n",
       "      <th>city_name_Surgut</th>\n",
       "      <th>city_name_Tomsk</th>\n",
       "      <th>city_name_Tyumen</th>\n",
       "      <th>city_name_Ufa</th>\n",
       "      <th>city_name_Vologda</th>\n",
       "      <th>city_name_Volzhsky</th>\n",
       "      <th>city_name_Voronezh</th>\n",
       "      <th>city_name_Yakutsk</th>\n",
       "      <th>city_name_Yaroslavl</th>\n",
       "      <th>city_name_Zhukovsky</th>\n",
       "    </tr>\n",
       "  </thead>\n",
       "  <tbody>\n",
       "    <tr>\n",
       "      <th>33</th>\n",
       "      <td>0</td>\n",
       "      <td>16385</td>\n",
       "      <td>310.568627</td>\n",
       "      <td>0.000000</td>\n",
       "      <td>0.0</td>\n",
       "      <td>0.0</td>\n",
       "      <td>10</td>\n",
       "      <td>15</td>\n",
       "      <td>31</td>\n",
       "      <td>0.0</td>\n",
       "      <td>...</td>\n",
       "      <td>0</td>\n",
       "      <td>0</td>\n",
       "      <td>0</td>\n",
       "      <td>0</td>\n",
       "      <td>0</td>\n",
       "      <td>0</td>\n",
       "      <td>0</td>\n",
       "      <td>1</td>\n",
       "      <td>0</td>\n",
       "      <td>0</td>\n",
       "    </tr>\n",
       "    <tr>\n",
       "      <th>67</th>\n",
       "      <td>0</td>\n",
       "      <td>8195</td>\n",
       "      <td>141.206851</td>\n",
       "      <td>0.041437</td>\n",
       "      <td>0.0</td>\n",
       "      <td>0.0</td>\n",
       "      <td>10</td>\n",
       "      <td>15</td>\n",
       "      <td>31</td>\n",
       "      <td>0.0</td>\n",
       "      <td>...</td>\n",
       "      <td>0</td>\n",
       "      <td>0</td>\n",
       "      <td>0</td>\n",
       "      <td>0</td>\n",
       "      <td>0</td>\n",
       "      <td>0</td>\n",
       "      <td>0</td>\n",
       "      <td>1</td>\n",
       "      <td>0</td>\n",
       "      <td>0</td>\n",
       "    </tr>\n",
       "  </tbody>\n",
       "</table>\n",
       "<p>2 rows × 60 columns</p>\n",
       "</div>"
      ],
      "text/plain": [
       "    shop_id  item_id  mean_item_price  std_item_price  item_cnt_month  \\\n",
       "33        0    16385       310.568627        0.000000             0.0   \n",
       "67        0     8195       141.206851        0.041437             0.0   \n",
       "\n",
       "    days_with_sell  month  year  nb_days  std_item_price_lag1  ...  \\\n",
       "33             0.0     10    15       31                  0.0  ...   \n",
       "67             0.0     10    15       31                  0.0  ...   \n",
       "\n",
       "    city_name_Surgut  city_name_Tomsk  city_name_Tyumen  city_name_Ufa  \\\n",
       "33                 0                0                 0              0   \n",
       "67                 0                0                 0              0   \n",
       "\n",
       "    city_name_Vologda  city_name_Volzhsky  city_name_Voronezh  \\\n",
       "33                  0                   0                   0   \n",
       "67                  0                   0                   0   \n",
       "\n",
       "    city_name_Yakutsk  city_name_Yaroslavl  city_name_Zhukovsky  \n",
       "33                  1                    0                    0  \n",
       "67                  1                    0                    0  \n",
       "\n",
       "[2 rows x 60 columns]"
      ]
     },
     "execution_count": 60,
     "metadata": {},
     "output_type": "execute_result"
    }
   ],
   "source": [
    "X_test = test.drop([\"date_block_num\",\"item_cnt_next_month\"], axis=1)\n",
    "print(X_test.isnull().sum())\n",
    "X_test.head(2)"
   ]
  },
  {
   "cell_type": "code",
   "execution_count": 61,
   "metadata": {},
   "outputs": [
    {
     "data": {
      "text/html": [
       "<div>\n",
       "<style scoped>\n",
       "    .dataframe tbody tr th:only-of-type {\n",
       "        vertical-align: middle;\n",
       "    }\n",
       "\n",
       "    .dataframe tbody tr th {\n",
       "        vertical-align: top;\n",
       "    }\n",
       "\n",
       "    .dataframe thead th {\n",
       "        text-align: right;\n",
       "    }\n",
       "</style>\n",
       "<table border=\"1\" class=\"dataframe\">\n",
       "  <thead>\n",
       "    <tr style=\"text-align: right;\">\n",
       "      <th></th>\n",
       "      <th>shop_id</th>\n",
       "      <th>item_id</th>\n",
       "      <th>mean_item_price</th>\n",
       "      <th>std_item_price</th>\n",
       "      <th>item_cnt_month</th>\n",
       "      <th>days_with_sell</th>\n",
       "      <th>month</th>\n",
       "      <th>year</th>\n",
       "      <th>nb_days</th>\n",
       "      <th>std_item_price_lag1</th>\n",
       "      <th>...</th>\n",
       "      <th>city_name_Tomsk</th>\n",
       "      <th>city_name_Tyumen</th>\n",
       "      <th>city_name_Ufa</th>\n",
       "      <th>city_name_Vologda</th>\n",
       "      <th>city_name_Volzhsky</th>\n",
       "      <th>city_name_Voronezh</th>\n",
       "      <th>city_name_Yakutsk</th>\n",
       "      <th>city_name_Yaroslavl</th>\n",
       "      <th>city_name_Zhukovsky</th>\n",
       "      <th>item_cnt_month_pred</th>\n",
       "    </tr>\n",
       "  </thead>\n",
       "  <tbody>\n",
       "    <tr>\n",
       "      <th>33</th>\n",
       "      <td>0</td>\n",
       "      <td>16385</td>\n",
       "      <td>310.568627</td>\n",
       "      <td>0.000000</td>\n",
       "      <td>0.0</td>\n",
       "      <td>0.0</td>\n",
       "      <td>10</td>\n",
       "      <td>15</td>\n",
       "      <td>31</td>\n",
       "      <td>0.0</td>\n",
       "      <td>...</td>\n",
       "      <td>0</td>\n",
       "      <td>0</td>\n",
       "      <td>0</td>\n",
       "      <td>0</td>\n",
       "      <td>0</td>\n",
       "      <td>0</td>\n",
       "      <td>1</td>\n",
       "      <td>0</td>\n",
       "      <td>0</td>\n",
       "      <td>0.086264</td>\n",
       "    </tr>\n",
       "    <tr>\n",
       "      <th>67</th>\n",
       "      <td>0</td>\n",
       "      <td>8195</td>\n",
       "      <td>141.206851</td>\n",
       "      <td>0.041437</td>\n",
       "      <td>0.0</td>\n",
       "      <td>0.0</td>\n",
       "      <td>10</td>\n",
       "      <td>15</td>\n",
       "      <td>31</td>\n",
       "      <td>0.0</td>\n",
       "      <td>...</td>\n",
       "      <td>0</td>\n",
       "      <td>0</td>\n",
       "      <td>0</td>\n",
       "      <td>0</td>\n",
       "      <td>0</td>\n",
       "      <td>0</td>\n",
       "      <td>1</td>\n",
       "      <td>0</td>\n",
       "      <td>0</td>\n",
       "      <td>0.086264</td>\n",
       "    </tr>\n",
       "  </tbody>\n",
       "</table>\n",
       "<p>2 rows × 61 columns</p>\n",
       "</div>"
      ],
      "text/plain": [
       "    shop_id  item_id  mean_item_price  std_item_price  item_cnt_month  \\\n",
       "33        0    16385       310.568627        0.000000             0.0   \n",
       "67        0     8195       141.206851        0.041437             0.0   \n",
       "\n",
       "    days_with_sell  month  year  nb_days  std_item_price_lag1  ...  \\\n",
       "33             0.0     10    15       31                  0.0  ...   \n",
       "67             0.0     10    15       31                  0.0  ...   \n",
       "\n",
       "    city_name_Tomsk  city_name_Tyumen  city_name_Ufa  city_name_Vologda  \\\n",
       "33                0                 0              0                  0   \n",
       "67                0                 0              0                  0   \n",
       "\n",
       "    city_name_Volzhsky  city_name_Voronezh  city_name_Yakutsk  \\\n",
       "33                   0                   0                  1   \n",
       "67                   0                   0                  1   \n",
       "\n",
       "    city_name_Yaroslavl  city_name_Zhukovsky  item_cnt_month_pred  \n",
       "33                    0                    0             0.086264  \n",
       "67                    0                    0             0.086264  \n",
       "\n",
       "[2 rows x 61 columns]"
      ]
     },
     "execution_count": 61,
     "metadata": {},
     "output_type": "execute_result"
    }
   ],
   "source": [
    "y_pred = xgbr.predict(X_test)\n",
    "X_test[\"item_cnt_month_pred\"] = y_pred\n",
    "\n",
    "X_test.head(2)"
   ]
  },
  {
   "cell_type": "markdown",
   "metadata": {},
   "source": [
    "# Format to submission"
   ]
  },
  {
   "cell_type": "code",
   "execution_count": 62,
   "metadata": {},
   "outputs": [
    {
     "data": {
      "text/html": [
       "<div>\n",
       "<style scoped>\n",
       "    .dataframe tbody tr th:only-of-type {\n",
       "        vertical-align: middle;\n",
       "    }\n",
       "\n",
       "    .dataframe tbody tr th {\n",
       "        vertical-align: top;\n",
       "    }\n",
       "\n",
       "    .dataframe thead th {\n",
       "        text-align: right;\n",
       "    }\n",
       "</style>\n",
       "<table border=\"1\" class=\"dataframe\">\n",
       "  <thead>\n",
       "    <tr style=\"text-align: right;\">\n",
       "      <th></th>\n",
       "      <th>ID</th>\n",
       "      <th>shop_id</th>\n",
       "      <th>item_id</th>\n",
       "    </tr>\n",
       "  </thead>\n",
       "  <tbody>\n",
       "    <tr>\n",
       "      <th>0</th>\n",
       "      <td>0</td>\n",
       "      <td>5</td>\n",
       "      <td>5037</td>\n",
       "    </tr>\n",
       "    <tr>\n",
       "      <th>1</th>\n",
       "      <td>1</td>\n",
       "      <td>5</td>\n",
       "      <td>5320</td>\n",
       "    </tr>\n",
       "  </tbody>\n",
       "</table>\n",
       "</div>"
      ],
      "text/plain": [
       "   ID  shop_id  item_id\n",
       "0   0        5     5037\n",
       "1   1        5     5320"
      ]
     },
     "execution_count": 62,
     "metadata": {},
     "output_type": "execute_result"
    }
   ],
   "source": [
    "to_pred = pd.read_csv(cfg.FILENAMES['TEST_SALES'])\n",
    "to_pred.head(2)"
   ]
  },
  {
   "cell_type": "code",
   "execution_count": 63,
   "metadata": {},
   "outputs": [
    {
     "name": "stdout",
     "output_type": "stream",
     "text": [
      "ID                          0\n",
      "shop_id                     0\n",
      "item_id                     0\n",
      "item_cnt_month_pred    102796\n",
      "dtype: int64\n"
     ]
    },
    {
     "data": {
      "text/html": [
       "<div>\n",
       "<style scoped>\n",
       "    .dataframe tbody tr th:only-of-type {\n",
       "        vertical-align: middle;\n",
       "    }\n",
       "\n",
       "    .dataframe tbody tr th {\n",
       "        vertical-align: top;\n",
       "    }\n",
       "\n",
       "    .dataframe thead th {\n",
       "        text-align: right;\n",
       "    }\n",
       "</style>\n",
       "<table border=\"1\" class=\"dataframe\">\n",
       "  <thead>\n",
       "    <tr style=\"text-align: right;\">\n",
       "      <th></th>\n",
       "      <th>ID</th>\n",
       "      <th>shop_id</th>\n",
       "      <th>item_id</th>\n",
       "      <th>item_cnt_month_pred</th>\n",
       "    </tr>\n",
       "  </thead>\n",
       "  <tbody>\n",
       "    <tr>\n",
       "      <th>0</th>\n",
       "      <td>0</td>\n",
       "      <td>5</td>\n",
       "      <td>5037</td>\n",
       "      <td>0.620287</td>\n",
       "    </tr>\n",
       "    <tr>\n",
       "      <th>1</th>\n",
       "      <td>1</td>\n",
       "      <td>5</td>\n",
       "      <td>5320</td>\n",
       "      <td>0.000000</td>\n",
       "    </tr>\n",
       "  </tbody>\n",
       "</table>\n",
       "</div>"
      ],
      "text/plain": [
       "   ID  shop_id  item_id  item_cnt_month_pred\n",
       "0   0        5     5037             0.620287\n",
       "1   1        5     5320             0.000000"
      ]
     },
     "execution_count": 63,
     "metadata": {},
     "output_type": "execute_result"
    }
   ],
   "source": [
    "submission = pd.merge(to_pred, X_test[[\"item_id\",\"shop_id\",\"item_cnt_month_pred\"]],\n",
    "                      how=\"left\", on=[\"item_id\",\"shop_id\"])\n",
    "print(submission.isnull().sum())\n",
    "submission = submission.fillna(0)\n",
    "submission.head(2)"
   ]
  },
  {
   "cell_type": "code",
   "execution_count": 68,
   "metadata": {},
   "outputs": [],
   "source": [
    "submission.loc[submission[\"item_cnt_month_pred\"]>20,\"item_cnt_month_pred\"]=20\n",
    "submission.loc[submission[\"item_cnt_month_pred\"]<0, \"item_cnt_month_pred\"]=0"
   ]
  },
  {
   "cell_type": "code",
   "execution_count": 69,
   "metadata": {},
   "outputs": [
    {
     "data": {
      "text/html": [
       "<div>\n",
       "<style scoped>\n",
       "    .dataframe tbody tr th:only-of-type {\n",
       "        vertical-align: middle;\n",
       "    }\n",
       "\n",
       "    .dataframe tbody tr th {\n",
       "        vertical-align: top;\n",
       "    }\n",
       "\n",
       "    .dataframe thead th {\n",
       "        text-align: right;\n",
       "    }\n",
       "</style>\n",
       "<table border=\"1\" class=\"dataframe\">\n",
       "  <thead>\n",
       "    <tr style=\"text-align: right;\">\n",
       "      <th></th>\n",
       "      <th>ID</th>\n",
       "      <th>item_cnt_month</th>\n",
       "    </tr>\n",
       "  </thead>\n",
       "  <tbody>\n",
       "    <tr>\n",
       "      <th>0</th>\n",
       "      <td>0</td>\n",
       "      <td>0.5</td>\n",
       "    </tr>\n",
       "    <tr>\n",
       "      <th>1</th>\n",
       "      <td>1</td>\n",
       "      <td>0.5</td>\n",
       "    </tr>\n",
       "  </tbody>\n",
       "</table>\n",
       "</div>"
      ],
      "text/plain": [
       "   ID  item_cnt_month\n",
       "0   0             0.5\n",
       "1   1             0.5"
      ]
     },
     "execution_count": 69,
     "metadata": {},
     "output_type": "execute_result"
    }
   ],
   "source": [
    "sub_example = pd.read_csv(cfg.FILENAMES[\"SAMPLE_SUBM\"])\n",
    "sub_example.head(2)"
   ]
  },
  {
   "cell_type": "code",
   "execution_count": 70,
   "metadata": {},
   "outputs": [
    {
     "data": {
      "text/html": [
       "<div>\n",
       "<style scoped>\n",
       "    .dataframe tbody tr th:only-of-type {\n",
       "        vertical-align: middle;\n",
       "    }\n",
       "\n",
       "    .dataframe tbody tr th {\n",
       "        vertical-align: top;\n",
       "    }\n",
       "\n",
       "    .dataframe thead th {\n",
       "        text-align: right;\n",
       "    }\n",
       "</style>\n",
       "<table border=\"1\" class=\"dataframe\">\n",
       "  <thead>\n",
       "    <tr style=\"text-align: right;\">\n",
       "      <th></th>\n",
       "      <th>ID</th>\n",
       "      <th>item_cnt_month</th>\n",
       "    </tr>\n",
       "  </thead>\n",
       "  <tbody>\n",
       "    <tr>\n",
       "      <th>0</th>\n",
       "      <td>0</td>\n",
       "      <td>0.620287</td>\n",
       "    </tr>\n",
       "    <tr>\n",
       "      <th>1</th>\n",
       "      <td>1</td>\n",
       "      <td>0.000000</td>\n",
       "    </tr>\n",
       "  </tbody>\n",
       "</table>\n",
       "</div>"
      ],
      "text/plain": [
       "   ID  item_cnt_month\n",
       "0   0        0.620287\n",
       "1   1        0.000000"
      ]
     },
     "execution_count": 70,
     "metadata": {},
     "output_type": "execute_result"
    }
   ],
   "source": [
    "submission_formated = (submission[[\"ID\", \"item_cnt_month_pred\"]]\n",
    "                       .rename({\"item_cnt_month_pred\":\"item_cnt_month\"}, axis=1))\n",
    "submission_formated.head(2)"
   ]
  },
  {
   "cell_type": "code",
   "execution_count": 71,
   "metadata": {},
   "outputs": [],
   "source": [
    "submission_formated.to_csv(os.path.join(\"submissions\", \"sub_04.csv\"), index=False)"
   ]
  },
  {
   "cell_type": "code",
   "execution_count": null,
   "metadata": {},
   "outputs": [],
   "source": []
  }
 ],
 "metadata": {
  "kernelspec": {
   "display_name": "Python 3",
   "language": "python",
   "name": "python3"
  },
  "language_info": {
   "codemirror_mode": {
    "name": "ipython",
    "version": 3
   },
   "file_extension": ".py",
   "mimetype": "text/x-python",
   "name": "python",
   "nbconvert_exporter": "python",
   "pygments_lexer": "ipython3",
   "version": "3.7.3"
  }
 },
 "nbformat": 4,
 "nbformat_minor": 2
}
