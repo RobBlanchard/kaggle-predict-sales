{
 "cells": [
  {
   "cell_type": "markdown",
   "metadata": {},
   "source": [
    "# Imports and config"
   ]
  },
  {
   "cell_type": "code",
   "execution_count": 2,
   "metadata": {},
   "outputs": [],
   "source": [
    "import os\n",
    "import pickle\n",
    "import warnings\n",
    "import random\n",
    "import pickle\n",
    "import time\n",
    "\n",
    "import numpy as np\n",
    "import pandas as pd\n",
    "import seaborn as sns\n",
    "import matplotlib.pyplot as plt\n",
    "from cycler import cycler\n",
    "\n",
    "import xgboost as xgb\n",
    "from xgboost import plot_importance, plot_tree\n",
    "from sklearn.metrics import mean_squared_error, mean_absolute_error\n",
    "from sklearn.model_selection import RandomizedSearchCV, GridSearchCV\n",
    "\n",
    "import config as cfg\n",
    "import data_processing as dp\n",
    "\n",
    "\n",
    "warnings.filterwarnings('ignore')\n",
    "plt.style.use('seaborn-dark-palette')"
   ]
  },
  {
   "cell_type": "code",
   "execution_count": 2,
   "metadata": {},
   "outputs": [],
   "source": [
    "df_fs=pd.read_pickle(\"cleaned_sets/df_features.pkl\")"
   ]
  },
  {
   "cell_type": "markdown",
   "metadata": {},
   "source": [
    "# Feature Selection"
   ]
  },
  {
   "cell_type": "code",
   "execution_count": 3,
   "metadata": {},
   "outputs": [
    {
     "data": {
      "text/html": [
       "<div>\n",
       "<style scoped>\n",
       "    .dataframe tbody tr th:only-of-type {\n",
       "        vertical-align: middle;\n",
       "    }\n",
       "\n",
       "    .dataframe tbody tr th {\n",
       "        vertical-align: top;\n",
       "    }\n",
       "\n",
       "    .dataframe thead th {\n",
       "        text-align: right;\n",
       "    }\n",
       "</style>\n",
       "<table border=\"1\" class=\"dataframe\">\n",
       "  <thead>\n",
       "    <tr style=\"text-align: right;\">\n",
       "      <th></th>\n",
       "      <th>shop_id</th>\n",
       "      <th>item_id</th>\n",
       "      <th>date_block_num</th>\n",
       "      <th>random_date</th>\n",
       "      <th>mean_item_price</th>\n",
       "      <th>std_item_price</th>\n",
       "      <th>item_cnt_month</th>\n",
       "      <th>days_with_sell</th>\n",
       "      <th>item_name</th>\n",
       "      <th>item_category_id</th>\n",
       "      <th>...</th>\n",
       "      <th>mean_city_cnt_month</th>\n",
       "      <th>mean_city_item_price</th>\n",
       "      <th>std_city_item_price</th>\n",
       "      <th>mean_category_cnt_month_lag1</th>\n",
       "      <th>mean_category_item_price_lag1</th>\n",
       "      <th>std_category_item_price_lag1</th>\n",
       "      <th>mean_city_cnt_month_lag1</th>\n",
       "      <th>mean_city_item_price_lag1</th>\n",
       "      <th>std_city_item_price_lag1</th>\n",
       "      <th>is_lowest_price</th>\n",
       "    </tr>\n",
       "  </thead>\n",
       "  <tbody>\n",
       "    <tr>\n",
       "      <th>0</th>\n",
       "      <td>0</td>\n",
       "      <td>16385</td>\n",
       "      <td>0</td>\n",
       "      <td>20.01.2013</td>\n",
       "      <td>200.0</td>\n",
       "      <td>0.0</td>\n",
       "      <td>2.0</td>\n",
       "      <td>2.0</td>\n",
       "      <td>Нэнси Дрю. Сгоревшее алиби [PC, Jewel]</td>\n",
       "      <td>30</td>\n",
       "      <td>...</td>\n",
       "      <td>0.581237</td>\n",
       "      <td>513.799861</td>\n",
       "      <td>2.299256</td>\n",
       "      <td>NaN</td>\n",
       "      <td>NaN</td>\n",
       "      <td>NaN</td>\n",
       "      <td>NaN</td>\n",
       "      <td>NaN</td>\n",
       "      <td>NaN</td>\n",
       "      <td>True</td>\n",
       "    </tr>\n",
       "  </tbody>\n",
       "</table>\n",
       "<p>1 rows × 37 columns</p>\n",
       "</div>"
      ],
      "text/plain": [
       "   shop_id  item_id  date_block_num random_date  mean_item_price  \\\n",
       "0        0    16385               0  20.01.2013            200.0   \n",
       "\n",
       "   std_item_price  item_cnt_month  days_with_sell  \\\n",
       "0             0.0             2.0             2.0   \n",
       "\n",
       "                                item_name  item_category_id  ...  \\\n",
       "0  Нэнси Дрю. Сгоревшее алиби [PC, Jewel]                30  ...   \n",
       "\n",
       "  mean_city_cnt_month mean_city_item_price std_city_item_price  \\\n",
       "0            0.581237           513.799861            2.299256   \n",
       "\n",
       "   mean_category_cnt_month_lag1  mean_category_item_price_lag1  \\\n",
       "0                           NaN                            NaN   \n",
       "\n",
       "   std_category_item_price_lag1  mean_city_cnt_month_lag1  \\\n",
       "0                           NaN                       NaN   \n",
       "\n",
       "   mean_city_item_price_lag1  std_city_item_price_lag1  is_lowest_price  \n",
       "0                        NaN                       NaN             True  \n",
       "\n",
       "[1 rows x 37 columns]"
      ]
     },
     "execution_count": 3,
     "metadata": {},
     "output_type": "execute_result"
    }
   ],
   "source": [
    "df_fs.head(1)"
   ]
  },
  {
   "cell_type": "code",
   "execution_count": 4,
   "metadata": {},
   "outputs": [
    {
     "data": {
      "text/plain": [
       "Index(['shop_id', 'item_id', 'date_block_num', 'random_date',\n",
       "       'mean_item_price', 'std_item_price', 'item_cnt_month', 'days_with_sell',\n",
       "       'item_name', 'item_category_id', 'main_category_name',\n",
       "       'sub_category_name', 'city_name', 'item_cnt_next_month', 'month',\n",
       "       'year', 'nb_days', 'mean_item_price_lag1', 'mean_item_price_lag2',\n",
       "       'std_item_price_lag1', 'std_item_price_lag2', 'item_cnt_month_lag1',\n",
       "       'item_cnt_month_lag2', 'item_cnt_month_lag12',\n",
       "       'mean_category_cnt_month', 'mean_category_item_price',\n",
       "       'std_category_item_price', 'mean_city_cnt_month',\n",
       "       'mean_city_item_price', 'std_city_item_price',\n",
       "       'mean_category_cnt_month_lag1', 'mean_category_item_price_lag1',\n",
       "       'std_category_item_price_lag1', 'mean_city_cnt_month_lag1',\n",
       "       'mean_city_item_price_lag1', 'std_city_item_price_lag1',\n",
       "       'is_lowest_price'],\n",
       "      dtype='object')"
      ]
     },
     "execution_count": 4,
     "metadata": {},
     "output_type": "execute_result"
    }
   ],
   "source": [
    "df_fs.columns"
   ]
  },
  {
   "cell_type": "code",
   "execution_count": 5,
   "metadata": {},
   "outputs": [],
   "source": [
    "col_to_remove = [\"random_date\",\"item_name\",\"item_category_id\", \n",
    "                 \"item_cnt_month_lag12\",\"sub_category_name\"]\n",
    "df_fs = df_fs.drop(col_to_remove, axis=1)"
   ]
  },
  {
   "cell_type": "code",
   "execution_count": 6,
   "metadata": {},
   "outputs": [],
   "source": [
    "col_id = [\"shop_id\",\"item_id\",\"date_block_num\"]\n",
    "df_fs_predictors = df_fs.loc[:,[col for col in df_fs.columns if col not in col_id]]"
   ]
  },
  {
   "cell_type": "markdown",
   "metadata": {},
   "source": [
    "#### Collinearity"
   ]
  },
  {
   "cell_type": "raw",
   "metadata": {},
   "source": [
    "#Using Pearson Correlation\n",
    "plt.figure(figsize=(12,10))\n",
    "cor = df_fs_predictors.corr()\n",
    "sns.heatmap(cor, annot=True, cmap=plt.cm.Reds)\n",
    "plt.show()"
   ]
  },
  {
   "cell_type": "markdown",
   "metadata": {},
   "source": [
    "![caption](images/feature_heatmap.png)"
   ]
  },
  {
   "cell_type": "code",
   "execution_count": 7,
   "metadata": {},
   "outputs": [],
   "source": [
    "col_to_remove = [\"mean_item_price_lag1\", \"mean_item_price_lag2\",\"mean_category_cnt_month_lag1\",\n",
    "                 \"mean_category_item_price_lag1\",\"mean_category_item_price_lag1\",\n",
    "                 \"mean_city_cnt_month_lag1\", \"mean_city_item_price_lag1\",\"std_city_item_price_lag1\"]\n",
    "df_fs = df_fs.drop(col_to_remove, axis=1)"
   ]
  },
  {
   "cell_type": "markdown",
   "metadata": {},
   "source": [
    "##### String features to dummies"
   ]
  },
  {
   "cell_type": "code",
   "execution_count": 8,
   "metadata": {},
   "outputs": [
    {
     "data": {
      "text/html": [
       "<div>\n",
       "<style scoped>\n",
       "    .dataframe tbody tr th:only-of-type {\n",
       "        vertical-align: middle;\n",
       "    }\n",
       "\n",
       "    .dataframe tbody tr th {\n",
       "        vertical-align: top;\n",
       "    }\n",
       "\n",
       "    .dataframe thead th {\n",
       "        text-align: right;\n",
       "    }\n",
       "</style>\n",
       "<table border=\"1\" class=\"dataframe\">\n",
       "  <thead>\n",
       "    <tr style=\"text-align: right;\">\n",
       "      <th></th>\n",
       "      <th>shop_id</th>\n",
       "      <th>item_id</th>\n",
       "      <th>date_block_num</th>\n",
       "      <th>mean_item_price</th>\n",
       "      <th>std_item_price</th>\n",
       "      <th>item_cnt_month</th>\n",
       "      <th>days_with_sell</th>\n",
       "      <th>item_cnt_next_month</th>\n",
       "      <th>month</th>\n",
       "      <th>year</th>\n",
       "      <th>...</th>\n",
       "      <th>city_name_Surgut</th>\n",
       "      <th>city_name_Tomsk</th>\n",
       "      <th>city_name_Tyumen</th>\n",
       "      <th>city_name_Ufa</th>\n",
       "      <th>city_name_Vologda</th>\n",
       "      <th>city_name_Volzhsky</th>\n",
       "      <th>city_name_Voronezh</th>\n",
       "      <th>city_name_Yakutsk</th>\n",
       "      <th>city_name_Yaroslavl</th>\n",
       "      <th>city_name_Zhukovsky</th>\n",
       "    </tr>\n",
       "  </thead>\n",
       "  <tbody>\n",
       "    <tr>\n",
       "      <th>0</th>\n",
       "      <td>0</td>\n",
       "      <td>16385</td>\n",
       "      <td>0</td>\n",
       "      <td>200.0</td>\n",
       "      <td>0.0</td>\n",
       "      <td>2.0</td>\n",
       "      <td>2.0</td>\n",
       "      <td>2.0</td>\n",
       "      <td>1</td>\n",
       "      <td>13</td>\n",
       "      <td>...</td>\n",
       "      <td>0</td>\n",
       "      <td>0</td>\n",
       "      <td>0</td>\n",
       "      <td>0</td>\n",
       "      <td>0</td>\n",
       "      <td>0</td>\n",
       "      <td>0</td>\n",
       "      <td>1</td>\n",
       "      <td>0</td>\n",
       "      <td>0</td>\n",
       "    </tr>\n",
       "    <tr>\n",
       "      <th>1</th>\n",
       "      <td>0</td>\n",
       "      <td>16385</td>\n",
       "      <td>1</td>\n",
       "      <td>200.0</td>\n",
       "      <td>0.0</td>\n",
       "      <td>2.0</td>\n",
       "      <td>2.0</td>\n",
       "      <td>0.0</td>\n",
       "      <td>2</td>\n",
       "      <td>13</td>\n",
       "      <td>...</td>\n",
       "      <td>0</td>\n",
       "      <td>0</td>\n",
       "      <td>0</td>\n",
       "      <td>0</td>\n",
       "      <td>0</td>\n",
       "      <td>0</td>\n",
       "      <td>0</td>\n",
       "      <td>1</td>\n",
       "      <td>0</td>\n",
       "      <td>0</td>\n",
       "    </tr>\n",
       "  </tbody>\n",
       "</table>\n",
       "<p>2 rows × 62 columns</p>\n",
       "</div>"
      ],
      "text/plain": [
       "   shop_id  item_id  date_block_num  mean_item_price  std_item_price  \\\n",
       "0        0    16385               0            200.0             0.0   \n",
       "1        0    16385               1            200.0             0.0   \n",
       "\n",
       "   item_cnt_month  days_with_sell  item_cnt_next_month  month  year  ...  \\\n",
       "0             2.0             2.0                  2.0      1    13  ...   \n",
       "1             2.0             2.0                  0.0      2    13  ...   \n",
       "\n",
       "   city_name_Surgut  city_name_Tomsk  city_name_Tyumen  city_name_Ufa  \\\n",
       "0                 0                0                 0              0   \n",
       "1                 0                0                 0              0   \n",
       "\n",
       "   city_name_Vologda  city_name_Volzhsky  city_name_Voronezh  \\\n",
       "0                  0                   0                   0   \n",
       "1                  0                   0                   0   \n",
       "\n",
       "   city_name_Yakutsk  city_name_Yaroslavl  city_name_Zhukovsky  \n",
       "0                  1                    0                    0  \n",
       "1                  1                    0                    0  \n",
       "\n",
       "[2 rows x 62 columns]"
      ]
     },
     "execution_count": 8,
     "metadata": {},
     "output_type": "execute_result"
    }
   ],
   "source": [
    "col_to_dummies = [\"main_category_name\",\"city_name\"]\n",
    "df_fs = pd.concat([df_fs.drop(col_to_dummies, axis=1), pd.get_dummies(df_fs[col_to_dummies])], axis=1)\n",
    "df_fs.head(2)"
   ]
  },
  {
   "cell_type": "markdown",
   "metadata": {},
   "source": [
    "##### Model based feature selection"
   ]
  },
  {
   "cell_type": "markdown",
   "metadata": {},
   "source": [
    "First, we need to build a train and a validation set. We'll also build the test set.  "
   ]
  },
  {
   "cell_type": "code",
   "execution_count": 9,
   "metadata": {},
   "outputs": [],
   "source": [
    "train = df_fs.loc[(df_fs[\"date_block_num\"]>=2) & (df_fs[\"date_block_num\"]<=27)]\n",
    "valid = df_fs.loc[(df_fs[\"date_block_num\"]>=28) & (df_fs[\"date_block_num\"]<=32)]\n",
    "test = df_fs.loc[(df_fs[\"date_block_num\"]>=33)]"
   ]
  },
  {
   "cell_type": "code",
   "execution_count": 10,
   "metadata": {},
   "outputs": [],
   "source": [
    "X_train_fs = train.drop([\"date_block_num\",\"item_cnt_next_month\",\"item_id\",\"shop_id\"], axis=1)\n",
    "y_train_fs = train.loc[train.index.isin(X_train_fs.index),\"item_cnt_next_month\"]\n",
    "X_val_fs = valid.drop([\"date_block_num\",\"item_cnt_next_month\",\"item_id\",\"shop_id\"], axis=1)\n",
    "y_val_fs = valid.loc[valid.index.isin(X_val_fs.index),\"item_cnt_next_month\"]"
   ]
  },
  {
   "cell_type": "code",
   "execution_count": 11,
   "metadata": {},
   "outputs": [
    {
     "name": "stdout",
     "output_type": "stream",
     "text": [
      "[17:09:41] WARNING: src/objective/regression_obj.cu:152: reg:linear is now deprecated in favor of reg:squarederror.\n",
      "[17:09:41] WARNING: src/learner.cc:686: Tree method is automatically selected to be 'approx' for faster speed. To use old behavior (exact greedy algorithm on single machine), set tree_method to 'exact'.\n",
      "[0]\tvalidation_0-rmse:2.83787\tvalidation_1-rmse:1.8989\n",
      "Multiple eval metrics have been passed: 'validation_1-rmse' will be used for early stopping.\n",
      "\n",
      "Will train until validation_1-rmse hasn't improved in 20 rounds.\n",
      "[20]\tvalidation_0-rmse:1.93695\tvalidation_1-rmse:1.41145\n",
      "[40]\tvalidation_0-rmse:1.84671\tvalidation_1-rmse:1.39601\n",
      "[60]\tvalidation_0-rmse:1.81407\tvalidation_1-rmse:1.39497\n",
      "[80]\tvalidation_0-rmse:1.79449\tvalidation_1-rmse:1.39376\n",
      "[99]\tvalidation_0-rmse:1.77371\tvalidation_1-rmse:1.39064\n"
     ]
    },
    {
     "data": {
      "text/plain": [
       "XGBRegressor(base_score=0.5, booster='gbtree', colsample_bylevel=1,\n",
       "             colsample_bynode=1, colsample_bytree=1, gamma=0,\n",
       "             importance_type='gain', learning_rate=0.1, max_delta_step=0,\n",
       "             max_depth=3, min_child_weight=1, missing=None, n_estimators=100,\n",
       "             n_jobs=1, nthread=None, objective='reg:linear', random_state=0,\n",
       "             reg_alpha=0, reg_lambda=1, scale_pos_weight=1, seed=0, silent=None,\n",
       "             subsample=1, verbosity=1)"
      ]
     },
     "execution_count": 11,
     "metadata": {},
     "output_type": "execute_result"
    }
   ],
   "source": [
    "xgbr = xgb.XGBRegressor(seed=0)\n",
    "xgbr.fit(X_train_fs, y_train_fs,\n",
    "        eval_metric=\"rmse\", \n",
    "              eval_set=[(X_train_fs, y_train_fs), (X_val_fs, y_val_fs)], \n",
    "              verbose=20, \n",
    "              early_stopping_rounds=20)"
   ]
  },
  {
   "cell_type": "code",
   "execution_count": 19,
   "metadata": {},
   "outputs": [
    {
     "data": {
      "text/plain": [
       "[('days_with_sell', 0.2573476),\n",
       " ('city_name_Moscow', 0.10368011),\n",
       " ('city_name_Khimki', 0.099290125),\n",
       " ('item_cnt_month', 0.070304416),\n",
       " ('std_item_price_lag2', 0.060795363),\n",
       " ('mean_item_price', 0.060523406),\n",
       " ('mean_category_item_price', 0.044028115),\n",
       " ('mean_city_cnt_month', 0.043333657),\n",
       " ('std_category_item_price_lag1', 0.035584435),\n",
       " ('nb_days', 0.034289084),\n",
       " ('main_category_name_Others', 0.031003052),\n",
       " ('std_item_price_lag1', 0.027426241),\n",
       " ('city_name_SPb', 0.017428607),\n",
       " ('city_name_Other', 0.017253457),\n",
       " ('std_city_item_price', 0.017120935),\n",
       " ('month', 0.015207431),\n",
       " ('item_cnt_month_lag2', 0.01519397),\n",
       " ('mean_city_item_price', 0.014522049),\n",
       " ('item_cnt_month_lag1', 0.0111323),\n",
       " ('mean_category_cnt_month', 0.008358764),\n",
       " ('city_name_Yakutsk', 0.005214255),\n",
       " ('std_category_item_price', 0.004348342),\n",
       " ('main_category_name_Movies', 0.003333525),\n",
       " ('is_lowest_price', 0.001925058),\n",
       " ('main_category_name_Payment card', 0.0008298387),\n",
       " ('year', 0.00052589865),\n",
       " ('std_item_price', 0.0),\n",
       " ('main_category_name_Accessories', 0.0),\n",
       " ('main_category_name_Books', 0.0),\n",
       " ('main_category_name_Game consoles', 0.0),\n",
       " ('main_category_name_Games', 0.0),\n",
       " ('main_category_name_Gifts', 0.0),\n",
       " ('main_category_name_Music', 0.0),\n",
       " ('main_category_name_Program', 0.0),\n",
       " ('city_name_Adygea', 0.0),\n",
       " ('city_name_Balashikha', 0.0),\n",
       " ('city_name_Czechs', 0.0),\n",
       " ('city_name_Kaluga', 0.0),\n",
       " ('city_name_Kazan', 0.0),\n",
       " ('city_name_Kolomna', 0.0),\n",
       " ('city_name_Krasnoyarsk', 0.0),\n",
       " ('city_name_Kursk', 0.0),\n",
       " ('city_name_Mytishchi', 0.0),\n",
       " ('city_name_Nizhny Novgorod', 0.0),\n",
       " ('city_name_Novosibirsk', 0.0),\n",
       " ('city_name_Omsk', 0.0),\n",
       " ('city_name_Rostov-on-Don', 0.0),\n",
       " ('city_name_Samara', 0.0),\n",
       " ('city_name_Sergiev', 0.0),\n",
       " ('city_name_Surgut', 0.0),\n",
       " ('city_name_Tomsk', 0.0),\n",
       " ('city_name_Tyumen', 0.0),\n",
       " ('city_name_Ufa', 0.0),\n",
       " ('city_name_Vologda', 0.0),\n",
       " ('city_name_Volzhsky', 0.0),\n",
       " ('city_name_Voronezh', 0.0),\n",
       " ('city_name_Yaroslavl', 0.0),\n",
       " ('city_name_Zhukovsky', 0.0)]"
      ]
     },
     "execution_count": 19,
     "metadata": {},
     "output_type": "execute_result"
    }
   ],
   "source": [
    "ft_imp ={}\n",
    "for i in range(len(X_train_fs.columns)):\n",
    "    ft_imp[X_train_fs.columns[i]] = xgbr.feature_importances_[i]\n",
    "sorted_ft_imp=sorted(ft_imp.items(), key=lambda kv: kv[1], reverse=True)\n",
    "sorted_ft_imp"
   ]
  },
  {
   "cell_type": "code",
   "execution_count": 14,
   "metadata": {},
   "outputs": [],
   "source": [
    "xgbr.save_model(\"model_feature_selection\")"
   ]
  },
  {
   "cell_type": "markdown",
   "metadata": {},
   "source": [
    "##### Zero importance features"
   ]
  },
  {
   "cell_type": "code",
   "execution_count": 20,
   "metadata": {},
   "outputs": [
    {
     "data": {
      "text/plain": [
       "['days_with_sell',\n",
       " 'city_name_Moscow',\n",
       " 'city_name_Khimki',\n",
       " 'item_cnt_month',\n",
       " 'std_item_price_lag2',\n",
       " 'mean_item_price',\n",
       " 'mean_category_item_price',\n",
       " 'mean_city_cnt_month',\n",
       " 'std_category_item_price_lag1',\n",
       " 'nb_days',\n",
       " 'main_category_name_Others',\n",
       " 'std_item_price_lag1',\n",
       " 'city_name_SPb',\n",
       " 'city_name_Other',\n",
       " 'std_city_item_price',\n",
       " 'month',\n",
       " 'item_cnt_month_lag2',\n",
       " 'mean_city_item_price',\n",
       " 'item_cnt_month_lag1',\n",
       " 'mean_category_cnt_month',\n",
       " 'city_name_Yakutsk',\n",
       " 'std_category_item_price',\n",
       " 'main_category_name_Movies',\n",
       " 'is_lowest_price',\n",
       " 'main_category_name_Payment card',\n",
       " 'year']"
      ]
     },
     "execution_count": 20,
     "metadata": {},
     "output_type": "execute_result"
    }
   ],
   "source": [
    "non_zero_features=[x[0] for x in sorted_ft_imp if x[1]>0]\n",
    "non_zero_features"
   ]
  },
  {
   "cell_type": "markdown",
   "metadata": {},
   "source": [
    "##### Keep only features such as cumulated importance > threshold - NOT DONE"
   ]
  },
  {
   "cell_type": "code",
   "execution_count": 22,
   "metadata": {},
   "outputs": [
    {
     "name": "stdout",
     "output_type": "stream",
     "text": [
      "0.9643320674076676\n",
      "['days_with_sell', 'city_name_Moscow', 'city_name_Khimki', 'item_cnt_month', 'std_item_price_lag2', 'mean_item_price', 'mean_category_item_price', 'mean_city_cnt_month', 'std_category_item_price_lag1', 'nb_days', 'main_category_name_Others', 'std_item_price_lag1', 'city_name_SPb', 'city_name_Other', 'std_city_item_price', 'month', 'item_cnt_month_lag2', 'mean_city_item_price']\n",
      "['item_cnt_month_lag1', 'mean_category_cnt_month', 'city_name_Yakutsk', 'std_category_item_price', 'main_category_name_Movies', 'is_lowest_price', 'main_category_name_Payment card', 'year']\n"
     ]
    }
   ],
   "source": [
    "cumul_imp_ft=[]\n",
    "threshold = 0.95\n",
    "cumul_imp=0\n",
    "i=0\n",
    "while cumul_imp<threshold:\n",
    "    cumul_imp_ft.append(sorted_ft_imp[i][0])\n",
    "    cumul_imp+=sorted_ft_imp[i][1]\n",
    "    i+=1\n",
    "print(cumul_imp)\n",
    "print(cumul_imp_ft)\n",
    "print([x for x in non_zero_features if x not in cumul_imp_ft])"
   ]
  },
  {
   "cell_type": "markdown",
   "metadata": {},
   "source": [
    "#### Feature selection"
   ]
  },
  {
   "cell_type": "code",
   "execution_count": 23,
   "metadata": {},
   "outputs": [
    {
     "data": {
      "text/plain": [
       "['days_with_sell',\n",
       " 'city_name_Moscow',\n",
       " 'city_name_Khimki',\n",
       " 'item_cnt_month',\n",
       " 'std_item_price_lag2',\n",
       " 'mean_item_price',\n",
       " 'mean_category_item_price',\n",
       " 'mean_city_cnt_month',\n",
       " 'std_category_item_price_lag1',\n",
       " 'nb_days',\n",
       " 'main_category_name_Others',\n",
       " 'std_item_price_lag1',\n",
       " 'city_name_SPb',\n",
       " 'city_name_Other',\n",
       " 'std_city_item_price',\n",
       " 'month',\n",
       " 'item_cnt_month_lag2',\n",
       " 'mean_city_item_price']"
      ]
     },
     "execution_count": 23,
     "metadata": {},
     "output_type": "execute_result"
    }
   ],
   "source": [
    "not_predictors = [\"shop_id\",\"item_id\",\"date_block_num\",\"item_cnt_next_month\"]\n",
    "\n",
    "predictors = cumul_imp_ft\n",
    "predictors"
   ]
  },
  {
   "cell_type": "code",
   "execution_count": 27,
   "metadata": {},
   "outputs": [
    {
     "data": {
      "text/plain": [
       "Index(['shop_id', 'item_id', 'date_block_num', 'item_cnt_next_month',\n",
       "       'days_with_sell', 'city_name_Moscow', 'city_name_Khimki',\n",
       "       'item_cnt_month', 'std_item_price_lag2', 'mean_item_price',\n",
       "       'mean_category_item_price', 'mean_city_cnt_month',\n",
       "       'std_category_item_price_lag1', 'nb_days', 'main_category_name_Others',\n",
       "       'std_item_price_lag1', 'city_name_SPb', 'city_name_Other',\n",
       "       'std_city_item_price', 'month', 'item_cnt_month_lag2',\n",
       "       'mean_city_item_price'],\n",
       "      dtype='object')"
      ]
     },
     "execution_count": 27,
     "metadata": {},
     "output_type": "execute_result"
    }
   ],
   "source": [
    "df_fs_done = df_fs[not_predictors+predictors]\n",
    "df_fs_done.columns"
   ]
  },
  {
   "cell_type": "code",
   "execution_count": 28,
   "metadata": {},
   "outputs": [],
   "source": [
    "df_fs_done.to_pickle(\"cleaned_sets/df_fs_done.pkl\")"
   ]
  },
  {
   "cell_type": "markdown",
   "metadata": {},
   "source": [
    "# Model Selection"
   ]
  },
  {
   "cell_type": "markdown",
   "metadata": {},
   "source": [
    "Results on the feature selection model."
   ]
  },
  {
   "cell_type": "code",
   "execution_count": 4,
   "metadata": {},
   "outputs": [],
   "source": [
    "df_fs_done= pd.read_pickle(\"cleaned_sets/df_fs_done.pkl\")"
   ]
  },
  {
   "cell_type": "markdown",
   "metadata": {},
   "source": [
    "##### 1st test"
   ]
  },
  {
   "cell_type": "code",
   "execution_count": 13,
   "metadata": {},
   "outputs": [],
   "source": [
    "train = df_fs_done.loc[(df_fs_done[\"date_block_num\"]>=2) & (df_fs_done[\"date_block_num\"]<=27)]\n",
    "valid = df_fs_done.loc[(df_fs_done[\"date_block_num\"]>=28) & (df_fs_done[\"date_block_num\"]<=32)]\n",
    "test = df_fs_done.loc[(df_fs_done[\"date_block_num\"]>=33)]"
   ]
  },
  {
   "cell_type": "code",
   "execution_count": 15,
   "metadata": {},
   "outputs": [],
   "source": [
    "identificators = [\"shop_id\",\"item_id\",\"date_block_num\"]\n",
    "predictors = [x for x in train.columns if x not in identificators]\n",
    "label = \"item_cnt_next_month\"\n",
    "\n",
    "X_train = train[predictors]\n",
    "y_train = train[label]\n",
    "X_valid = valid[predictors]\n",
    "y_valid = valid[label]\n",
    "\n",
    "X_test = test[predictors+identificators]"
   ]
  },
  {
   "cell_type": "code",
   "execution_count": 16,
   "metadata": {},
   "outputs": [],
   "source": [
    "dtrain = xgb.DMatrix(X_train, label=y_train)\n",
    "dvalid = xgb.DMatrix(X_valid, label=y_valid)"
   ]
  },
  {
   "cell_type": "code",
   "execution_count": 11,
   "metadata": {},
   "outputs": [],
   "source": [
    "params = {\n",
    "    # Parameters that we are going to tune.\n",
    "    'max_depth':6,\n",
    "    'min_child_weight': 1,\n",
    "    'eta':.3,\n",
    "    'subsample': 1,\n",
    "    'colsample_bytree': 1,\n",
    "    # Other parameters\n",
    "    'objective':'reg:linear',\n",
    "}"
   ]
  },
  {
   "cell_type": "code",
   "execution_count": 18,
   "metadata": {},
   "outputs": [],
   "source": [
    "params['eval_metric'] = \"rmse\"\n",
    "num_boost_round = 999"
   ]
  },
  {
   "cell_type": "code",
   "execution_count": 19,
   "metadata": {},
   "outputs": [
    {
     "name": "stdout",
     "output_type": "stream",
     "text": [
      "[11:10:51] WARNING: src/objective/regression_obj.cu:152: reg:linear is now deprecated in favor of reg:squarederror.\n",
      "[11:10:51] WARNING: src/learner.cc:686: Tree method is automatically selected to be 'approx' for faster speed. To use old behavior (exact greedy algorithm on single machine), set tree_method to 'exact'.\n",
      "[0]\tTest-rmse:1.53574\n",
      "Will train until Test-rmse hasn't improved in 10 rounds.\n",
      "[1]\tTest-rmse:1.30968\n",
      "[2]\tTest-rmse:1.15222\n",
      "[3]\tTest-rmse:1.09587\n",
      "[4]\tTest-rmse:1.05875\n",
      "[5]\tTest-rmse:1.04354\n",
      "[6]\tTest-rmse:1.02912\n",
      "[7]\tTest-rmse:1.02182\n"
     ]
    },
    {
     "name": "stderr",
     "output_type": "stream",
     "text": [
      "ERROR:root:Internal Python error in the inspect module.\n",
      "Below is the traceback from this internal error.\n",
      "\n"
     ]
    },
    {
     "name": "stdout",
     "output_type": "stream",
     "text": [
      "Traceback (most recent call last):\n",
      "  File \"/Users/robinblanchard/Desktop/training/kaggle-predict-future-sales/venv/lib/python3.7/site-packages/IPython/core/interactiveshell.py\", line 3319, in run_code\n",
      "    exec(code_obj, self.user_global_ns, self.user_ns)\n",
      "  File \"<ipython-input-19-64089c68b389>\", line 6, in <module>\n",
      "    early_stopping_rounds=10\n",
      "  File \"/Users/robinblanchard/Desktop/training/kaggle-predict-future-sales/venv/lib/python3.7/site-packages/xgboost/training.py\", line 216, in train\n",
      "    xgb_model=xgb_model, callbacks=callbacks)\n",
      "  File \"/Users/robinblanchard/Desktop/training/kaggle-predict-future-sales/venv/lib/python3.7/site-packages/xgboost/training.py\", line 74, in _train_internal\n",
      "    bst.update(dtrain, i, obj)\n",
      "  File \"/Users/robinblanchard/Desktop/training/kaggle-predict-future-sales/venv/lib/python3.7/site-packages/xgboost/core.py\", line 1109, in update\n",
      "    dtrain.handle))\n",
      "KeyboardInterrupt\n",
      "\n",
      "During handling of the above exception, another exception occurred:\n",
      "\n",
      "Traceback (most recent call last):\n",
      "  File \"/Users/robinblanchard/Desktop/training/kaggle-predict-future-sales/venv/lib/python3.7/site-packages/IPython/core/interactiveshell.py\", line 2034, in showtraceback\n",
      "    stb = value._render_traceback_()\n",
      "AttributeError: 'KeyboardInterrupt' object has no attribute '_render_traceback_'\n",
      "\n",
      "During handling of the above exception, another exception occurred:\n",
      "\n",
      "Traceback (most recent call last):\n",
      "  File \"/Users/robinblanchard/Desktop/training/kaggle-predict-future-sales/venv/lib/python3.7/site-packages/IPython/core/ultratb.py\", line 1101, in get_records\n",
      "    return _fixed_getinnerframes(etb, number_of_lines_of_context, tb_offset)\n",
      "  File \"/Users/robinblanchard/Desktop/training/kaggle-predict-future-sales/venv/lib/python3.7/site-packages/IPython/core/ultratb.py\", line 319, in wrapped\n",
      "    return f(*args, **kwargs)\n",
      "  File \"/Users/robinblanchard/Desktop/training/kaggle-predict-future-sales/venv/lib/python3.7/site-packages/IPython/core/ultratb.py\", line 353, in _fixed_getinnerframes\n",
      "    records = fix_frame_records_filenames(inspect.getinnerframes(etb, context))\n",
      "  File \"/Users/robinblanchard/anaconda3/lib/python3.7/inspect.py\", line 1502, in getinnerframes\n",
      "    frameinfo = (tb.tb_frame,) + getframeinfo(tb, context)\n",
      "  File \"/Users/robinblanchard/anaconda3/lib/python3.7/inspect.py\", line 1464, in getframeinfo\n",
      "    lines, lnum = findsource(frame)\n",
      "  File \"/Users/robinblanchard/Desktop/training/kaggle-predict-future-sales/venv/lib/python3.7/site-packages/IPython/core/ultratb.py\", line 185, in findsource\n",
      "    lines = linecache.getlines(file, globals_dict)\n",
      "  File \"/Users/robinblanchard/Desktop/training/kaggle-predict-future-sales/venv/lib/python3.7/linecache.py\", line 47, in getlines\n",
      "    return updatecache(filename, module_globals)\n",
      "  File \"/Users/robinblanchard/Desktop/training/kaggle-predict-future-sales/venv/lib/python3.7/linecache.py\", line 137, in updatecache\n",
      "    lines = fp.readlines()\n",
      "  File \"/Users/robinblanchard/Desktop/training/kaggle-predict-future-sales/venv/lib/python3.7/codecs.py\", line 319, in decode\n",
      "    def decode(self, input, final=False):\n",
      "KeyboardInterrupt\n"
     ]
    },
    {
     "ename": "KeyboardInterrupt",
     "evalue": "",
     "output_type": "error",
     "traceback": [
      "\u001b[0;31m---------------------------------------------------------------------------\u001b[0m"
     ]
    }
   ],
   "source": [
    "model = xgb.train(\n",
    "    params,\n",
    "    dtrain,\n",
    "    num_boost_round=num_boost_round,\n",
    "    evals=[(dvalid, \"Test\")],\n",
    "    early_stopping_rounds=10\n",
    ")"
   ]
  },
  {
   "cell_type": "markdown",
   "metadata": {},
   "source": [
    "#### Test using XGBoost’s CV"
   ]
  },
  {
   "cell_type": "code",
   "execution_count": 20,
   "metadata": {},
   "outputs": [],
   "source": [
    "train = df_fs_done.loc[(df_fs_done[\"date_block_num\"]>=2) & (df_fs_done[\"date_block_num\"]<=32)]\n",
    "test = df_fs_done.loc[(df_fs_done[\"date_block_num\"]>=33)]"
   ]
  },
  {
   "cell_type": "code",
   "execution_count": 21,
   "metadata": {},
   "outputs": [],
   "source": [
    "identificators = [\"shop_id\",\"item_id\",\"date_block_num\"]\n",
    "predictors = [x for x in train.columns if x not in identificators]\n",
    "label = \"item_cnt_next_month\"\n",
    "\n",
    "X_train = train[predictors]\n",
    "y_train = train[label]\n",
    "X_valid = valid[predictors]\n",
    "y_valid = valid[label]\n",
    "\n",
    "X_test = test[predictors+identificators]"
   ]
  },
  {
   "cell_type": "code",
   "execution_count": 24,
   "metadata": {},
   "outputs": [],
   "source": [
    "dtrain = xgb.DMatrix(X_train, label=y_train)"
   ]
  },
  {
   "cell_type": "code",
   "execution_count": null,
   "metadata": {},
   "outputs": [
    {
     "name": "stdout",
     "output_type": "stream",
     "text": [
      "[11:19:21] WARNING: src/objective/regression_obj.cu:152: reg:linear is now deprecated in favor of reg:squarederror.\n",
      "[11:19:21] WARNING: src/learner.cc:686: Tree method is automatically selected to be 'approx' for faster speed. To use old behavior (exact greedy algorithm on single machine), set tree_method to 'exact'.\n",
      "[11:20:27] WARNING: src/objective/regression_obj.cu:152: reg:linear is now deprecated in favor of reg:squarederror.\n",
      "[11:20:27] WARNING: src/learner.cc:686: Tree method is automatically selected to be 'approx' for faster speed. To use old behavior (exact greedy algorithm on single machine), set tree_method to 'exact'.\n",
      "[11:21:36] WARNING: src/objective/regression_obj.cu:152: reg:linear is now deprecated in favor of reg:squarederror.\n",
      "[11:21:36] WARNING: src/learner.cc:686: Tree method is automatically selected to be 'approx' for faster speed. To use old behavior (exact greedy algorithm on single machine), set tree_method to 'exact'.\n"
     ]
    }
   ],
   "source": [
    "cv_results = xgb.cv(\n",
    "    params,\n",
    "    dtrain,\n",
    "    num_boost_round=999,\n",
    "    seed=42,\n",
    "    nfold=5,\n",
    "    metrics={'rmse'},\n",
    "    early_stopping_rounds=2\n",
    ")\n",
    "cv_results"
   ]
  },
  {
   "cell_type": "markdown",
   "metadata": {},
   "source": [
    "#### CV Parameters max_depth and min_child_weight"
   ]
  },
  {
   "cell_type": "code",
   "execution_count": 23,
   "metadata": {},
   "outputs": [
    {
     "data": {
      "text/plain": [
       "[(6, 5),\n",
       " (6, 6),\n",
       " (6, 7),\n",
       " (8, 5),\n",
       " (8, 6),\n",
       " (8, 7),\n",
       " (10, 5),\n",
       " (10, 6),\n",
       " (10, 7),\n",
       " (12, 5),\n",
       " (12, 6),\n",
       " (12, 7)]"
      ]
     },
     "execution_count": 23,
     "metadata": {},
     "output_type": "execute_result"
    }
   ],
   "source": [
    "gridsearch_params = [\n",
    "    (max_depth, min_child_weight)\n",
    "    for max_depth in [6,8,10,12]\n",
    "    for min_child_weight in range(5,8)\n",
    "]"
   ]
  },
  {
   "cell_type": "code",
   "execution_count": null,
   "metadata": {},
   "outputs": [],
   "source": [
    "params = {\n",
    "    # Parameters that we are going to tune.\n",
    "    'max_depth':6,\n",
    "    'min_child_weight': 1,\n",
    "    'eta':.3,\n",
    "    'subsample': 1,\n",
    "    'colsample_bytree': 1,\n",
    "    # Other parameters\n",
    "    'objective':'reg:linear',\n",
    "    'eval_metric':'rmse'\n",
    "}"
   ]
  },
  {
   "cell_type": "code",
   "execution_count": null,
   "metadata": {},
   "outputs": [],
   "source": [
    "min_rmse = float(\"Inf\")\n",
    "best_params = None\n",
    "for max_depth, min_child_weight in gridsearch_params:\n",
    "    start_time=time.time()\n",
    "    print(\"CV with max_depth={}, min_child_weight={}\".format(\n",
    "                             max_depth,\n",
    "                             min_child_weight))\n",
    "    # Update our parameters\n",
    "    params['max_depth'] = max_depth\n",
    "    params['min_child_weight'] = min_child_weight\n",
    "    # Run CV\n",
    "    cv_results = xgb.cv(\n",
    "        params,\n",
    "        dtrain,\n",
    "        num_boost_round=999,\n",
    "        seed=42,\n",
    "        nfold=5,\n",
    "        metrics={'rmse'},\n",
    "        early_stopping_rounds=10\n",
    "    )\n",
    "    # Update best MAE\n",
    "    mean_rmse = cv_results['test-rmse-mean'].min()\n",
    "    boost_rounds = cv_results['test-rmse-mean'].argmin()\n",
    "    print(\"\\tRMSE {} for {} rounds\".format(mean_mae, boost_rounds))\n",
    "    print(\"Time taken for this round {}\".format(time.time()-start_time))\n",
    "    if mean_rmse < min_rmse:\n",
    "        min_rmse = mean_rmse\n",
    "        best_params = (max_depth,min_child_weight)\n",
    "print(\"Best params: {}, {}, MAE: {}\".format(best_params[0], best_params[1], min_rmse))"
   ]
  },
  {
   "cell_type": "markdown",
   "metadata": {},
   "source": [
    "# Prediction"
   ]
  },
  {
   "cell_type": "code",
   "execution_count": 92,
   "metadata": {},
   "outputs": [
    {
     "name": "stdout",
     "output_type": "stream",
     "text": [
      "shop_id                             0\n",
      "item_id                             0\n",
      "date_block_num                      0\n",
      "mean_item_price                     0\n",
      "std_item_price                      0\n",
      "item_cnt_month                      0\n",
      "days_with_sell                      0\n",
      "month                               0\n",
      "year                                0\n",
      "nb_days                             0\n",
      "std_item_price_lag1                 0\n",
      "std_item_price_lag2                 0\n",
      "item_cnt_month_lag1                 0\n",
      "item_cnt_month_lag2                 0\n",
      "mean_category_cnt_month             0\n",
      "mean_category_item_price            0\n",
      "std_category_item_price             0\n",
      "mean_city_cnt_month                 0\n",
      "mean_city_item_price                0\n",
      "std_city_item_price                 0\n",
      "std_category_item_price_lag1        0\n",
      "is_lowest_price                     0\n",
      "main_category_name_Accessories      0\n",
      "main_category_name_Books            0\n",
      "main_category_name_Game consoles    0\n",
      "main_category_name_Games            0\n",
      "main_category_name_Gifts            0\n",
      "main_category_name_Movies           0\n",
      "main_category_name_Music            0\n",
      "main_category_name_Others           0\n",
      "main_category_name_Payment card     0\n",
      "main_category_name_Program          0\n",
      "dtype: int64\n"
     ]
    },
    {
     "data": {
      "text/html": [
       "<div>\n",
       "<style scoped>\n",
       "    .dataframe tbody tr th:only-of-type {\n",
       "        vertical-align: middle;\n",
       "    }\n",
       "\n",
       "    .dataframe tbody tr th {\n",
       "        vertical-align: top;\n",
       "    }\n",
       "\n",
       "    .dataframe thead th {\n",
       "        text-align: right;\n",
       "    }\n",
       "</style>\n",
       "<table border=\"1\" class=\"dataframe\">\n",
       "  <thead>\n",
       "    <tr style=\"text-align: right;\">\n",
       "      <th></th>\n",
       "      <th>shop_id</th>\n",
       "      <th>item_id</th>\n",
       "      <th>date_block_num</th>\n",
       "      <th>mean_item_price</th>\n",
       "      <th>std_item_price</th>\n",
       "      <th>item_cnt_month</th>\n",
       "      <th>days_with_sell</th>\n",
       "      <th>month</th>\n",
       "      <th>year</th>\n",
       "      <th>nb_days</th>\n",
       "      <th>...</th>\n",
       "      <th>main_category_name_Accessories</th>\n",
       "      <th>main_category_name_Books</th>\n",
       "      <th>main_category_name_Game consoles</th>\n",
       "      <th>main_category_name_Games</th>\n",
       "      <th>main_category_name_Gifts</th>\n",
       "      <th>main_category_name_Movies</th>\n",
       "      <th>main_category_name_Music</th>\n",
       "      <th>main_category_name_Others</th>\n",
       "      <th>main_category_name_Payment card</th>\n",
       "      <th>main_category_name_Program</th>\n",
       "    </tr>\n",
       "  </thead>\n",
       "  <tbody>\n",
       "    <tr>\n",
       "      <th>33</th>\n",
       "      <td>0</td>\n",
       "      <td>16385</td>\n",
       "      <td>33</td>\n",
       "      <td>310.568627</td>\n",
       "      <td>0.000000</td>\n",
       "      <td>0.0</td>\n",
       "      <td>0.0</td>\n",
       "      <td>10</td>\n",
       "      <td>15</td>\n",
       "      <td>31</td>\n",
       "      <td>...</td>\n",
       "      <td>0</td>\n",
       "      <td>0</td>\n",
       "      <td>0</td>\n",
       "      <td>1</td>\n",
       "      <td>0</td>\n",
       "      <td>0</td>\n",
       "      <td>0</td>\n",
       "      <td>0</td>\n",
       "      <td>0</td>\n",
       "      <td>0</td>\n",
       "    </tr>\n",
       "    <tr>\n",
       "      <th>67</th>\n",
       "      <td>0</td>\n",
       "      <td>8195</td>\n",
       "      <td>33</td>\n",
       "      <td>141.206851</td>\n",
       "      <td>0.041437</td>\n",
       "      <td>0.0</td>\n",
       "      <td>0.0</td>\n",
       "      <td>10</td>\n",
       "      <td>15</td>\n",
       "      <td>31</td>\n",
       "      <td>...</td>\n",
       "      <td>0</td>\n",
       "      <td>0</td>\n",
       "      <td>0</td>\n",
       "      <td>0</td>\n",
       "      <td>0</td>\n",
       "      <td>1</td>\n",
       "      <td>0</td>\n",
       "      <td>0</td>\n",
       "      <td>0</td>\n",
       "      <td>0</td>\n",
       "    </tr>\n",
       "  </tbody>\n",
       "</table>\n",
       "<p>2 rows × 32 columns</p>\n",
       "</div>"
      ],
      "text/plain": [
       "    shop_id  item_id  date_block_num  mean_item_price  std_item_price  \\\n",
       "33        0    16385              33       310.568627        0.000000   \n",
       "67        0     8195              33       141.206851        0.041437   \n",
       "\n",
       "    item_cnt_month  days_with_sell  month  year  nb_days  ...  \\\n",
       "33             0.0             0.0     10    15       31  ...   \n",
       "67             0.0             0.0     10    15       31  ...   \n",
       "\n",
       "    main_category_name_Accessories  main_category_name_Books  \\\n",
       "33                               0                         0   \n",
       "67                               0                         0   \n",
       "\n",
       "    main_category_name_Game consoles  main_category_name_Games  \\\n",
       "33                                 0                         1   \n",
       "67                                 0                         0   \n",
       "\n",
       "    main_category_name_Gifts  main_category_name_Movies  \\\n",
       "33                         0                          0   \n",
       "67                         0                          1   \n",
       "\n",
       "    main_category_name_Music  main_category_name_Others  \\\n",
       "33                         0                          0   \n",
       "67                         0                          0   \n",
       "\n",
       "    main_category_name_Payment card  main_category_name_Program  \n",
       "33                                0                           0  \n",
       "67                                0                           0  \n",
       "\n",
       "[2 rows x 32 columns]"
      ]
     },
     "execution_count": 92,
     "metadata": {},
     "output_type": "execute_result"
    }
   ],
   "source": [
    "X_test = test[[\"shop_id\",\"item_id\",\"date_block_num\"]+predictors]\n",
    "print(X_test.isnull().sum())\n",
    "X_test.head(2)"
   ]
  },
  {
   "cell_type": "code",
   "execution_count": 93,
   "metadata": {},
   "outputs": [
    {
     "ename": "ValueError",
     "evalue": "feature_names mismatch: ['mean_item_price', 'std_item_price', 'item_cnt_month', 'days_with_sell', 'month', 'year', 'nb_days', 'std_item_price_lag1', 'std_item_price_lag2', 'item_cnt_month_lag1', 'item_cnt_month_lag2', 'mean_category_cnt_month', 'mean_category_item_price', 'std_category_item_price', 'mean_city_cnt_month', 'mean_city_item_price', 'std_city_item_price', 'std_category_item_price_lag1', 'is_lowest_price', 'main_category_name_Accessories', 'main_category_name_Books', 'main_category_name_Game consoles', 'main_category_name_Games', 'main_category_name_Gifts', 'main_category_name_Movies', 'main_category_name_Music', 'main_category_name_Others', 'main_category_name_Payment card', 'main_category_name_Program', 'city_name_Adygea', 'city_name_Balashikha', 'city_name_Czechs', 'city_name_Kaluga', 'city_name_Kazan', 'city_name_Khimki', 'city_name_Kolomna', 'city_name_Krasnoyarsk', 'city_name_Kursk', 'city_name_Moscow', 'city_name_Mytishchi', 'city_name_Nizhny Novgorod', 'city_name_Novosibirsk', 'city_name_Omsk', 'city_name_Other', 'city_name_Rostov-on-Don', 'city_name_SPb', 'city_name_Samara', 'city_name_Sergiev', 'city_name_Surgut', 'city_name_Tomsk', 'city_name_Tyumen', 'city_name_Ufa', 'city_name_Vologda', 'city_name_Volzhsky', 'city_name_Voronezh', 'city_name_Yakutsk', 'city_name_Yaroslavl', 'city_name_Zhukovsky'] ['mean_item_price', 'std_item_price', 'item_cnt_month', 'days_with_sell', 'month', 'year', 'nb_days', 'std_item_price_lag1', 'std_item_price_lag2', 'item_cnt_month_lag1', 'item_cnt_month_lag2', 'mean_category_cnt_month', 'mean_category_item_price', 'std_category_item_price', 'mean_city_cnt_month', 'mean_city_item_price', 'std_city_item_price', 'std_category_item_price_lag1', 'is_lowest_price', 'main_category_name_Accessories', 'main_category_name_Books', 'main_category_name_Game consoles', 'main_category_name_Games', 'main_category_name_Gifts', 'main_category_name_Movies', 'main_category_name_Music', 'main_category_name_Others', 'main_category_name_Payment card', 'main_category_name_Program']\nexpected city_name_Other, city_name_Samara, city_name_Sergiev, city_name_Krasnoyarsk, city_name_Tomsk, city_name_Yakutsk, city_name_Rostov-on-Don, city_name_SPb, city_name_Omsk, city_name_Voronezh, city_name_Surgut, city_name_Kolomna, city_name_Ufa, city_name_Czechs, city_name_Moscow, city_name_Zhukovsky, city_name_Balashikha, city_name_Volzhsky, city_name_Mytishchi, city_name_Nizhny Novgorod, city_name_Novosibirsk, city_name_Kazan, city_name_Yaroslavl, city_name_Kursk, city_name_Tyumen, city_name_Khimki, city_name_Kaluga, city_name_Adygea, city_name_Vologda in input data",
     "output_type": "error",
     "traceback": [
      "\u001b[0;31m---------------------------------------------------------------------------\u001b[0m",
      "\u001b[0;31mValueError\u001b[0m                                Traceback (most recent call last)",
      "\u001b[0;32m<ipython-input-93-513ecfc490ed>\u001b[0m in \u001b[0;36m<module>\u001b[0;34m\u001b[0m\n\u001b[0;32m----> 1\u001b[0;31m \u001b[0my_pred\u001b[0m \u001b[0;34m=\u001b[0m \u001b[0mxgbr\u001b[0m\u001b[0;34m.\u001b[0m\u001b[0mpredict\u001b[0m\u001b[0;34m(\u001b[0m\u001b[0mX_test\u001b[0m\u001b[0;34m[\u001b[0m\u001b[0mpredictors\u001b[0m\u001b[0;34m]\u001b[0m\u001b[0;34m)\u001b[0m\u001b[0;34m\u001b[0m\u001b[0;34m\u001b[0m\u001b[0m\n\u001b[0m\u001b[1;32m      2\u001b[0m \u001b[0mX_test\u001b[0m\u001b[0;34m[\u001b[0m\u001b[0;34m\"item_cnt_month_pred\"\u001b[0m\u001b[0;34m]\u001b[0m \u001b[0;34m=\u001b[0m \u001b[0my_pred\u001b[0m\u001b[0;34m\u001b[0m\u001b[0;34m\u001b[0m\u001b[0m\n\u001b[1;32m      3\u001b[0m \u001b[0;34m\u001b[0m\u001b[0m\n\u001b[1;32m      4\u001b[0m \u001b[0mX_test\u001b[0m\u001b[0;34m.\u001b[0m\u001b[0mhead\u001b[0m\u001b[0;34m(\u001b[0m\u001b[0;36m2\u001b[0m\u001b[0;34m)\u001b[0m\u001b[0;34m\u001b[0m\u001b[0;34m\u001b[0m\u001b[0m\n",
      "\u001b[0;32m~/Desktop/training/kaggle-predict-future-sales/venv/lib/python3.7/site-packages/xgboost/sklearn.py\u001b[0m in \u001b[0;36mpredict\u001b[0;34m(self, data, output_margin, ntree_limit, validate_features)\u001b[0m\n\u001b[1;32m    454\u001b[0m                                           \u001b[0moutput_margin\u001b[0m\u001b[0;34m=\u001b[0m\u001b[0moutput_margin\u001b[0m\u001b[0;34m,\u001b[0m\u001b[0;34m\u001b[0m\u001b[0;34m\u001b[0m\u001b[0m\n\u001b[1;32m    455\u001b[0m                                           \u001b[0mntree_limit\u001b[0m\u001b[0;34m=\u001b[0m\u001b[0mntree_limit\u001b[0m\u001b[0;34m,\u001b[0m\u001b[0;34m\u001b[0m\u001b[0;34m\u001b[0m\u001b[0m\n\u001b[0;32m--> 456\u001b[0;31m                                           validate_features=validate_features)\n\u001b[0m\u001b[1;32m    457\u001b[0m \u001b[0;34m\u001b[0m\u001b[0m\n\u001b[1;32m    458\u001b[0m     \u001b[0;32mdef\u001b[0m \u001b[0mapply\u001b[0m\u001b[0;34m(\u001b[0m\u001b[0mself\u001b[0m\u001b[0;34m,\u001b[0m \u001b[0mX\u001b[0m\u001b[0;34m,\u001b[0m \u001b[0mntree_limit\u001b[0m\u001b[0;34m=\u001b[0m\u001b[0;36m0\u001b[0m\u001b[0;34m)\u001b[0m\u001b[0;34m:\u001b[0m\u001b[0;34m\u001b[0m\u001b[0;34m\u001b[0m\u001b[0m\n",
      "\u001b[0;32m~/Desktop/training/kaggle-predict-future-sales/venv/lib/python3.7/site-packages/xgboost/core.py\u001b[0m in \u001b[0;36mpredict\u001b[0;34m(self, data, output_margin, ntree_limit, pred_leaf, pred_contribs, approx_contribs, pred_interactions, validate_features)\u001b[0m\n\u001b[1;32m   1282\u001b[0m \u001b[0;34m\u001b[0m\u001b[0m\n\u001b[1;32m   1283\u001b[0m         \u001b[0;32mif\u001b[0m \u001b[0mvalidate_features\u001b[0m\u001b[0;34m:\u001b[0m\u001b[0;34m\u001b[0m\u001b[0;34m\u001b[0m\u001b[0m\n\u001b[0;32m-> 1284\u001b[0;31m             \u001b[0mself\u001b[0m\u001b[0;34m.\u001b[0m\u001b[0m_validate_features\u001b[0m\u001b[0;34m(\u001b[0m\u001b[0mdata\u001b[0m\u001b[0;34m)\u001b[0m\u001b[0;34m\u001b[0m\u001b[0;34m\u001b[0m\u001b[0m\n\u001b[0m\u001b[1;32m   1285\u001b[0m \u001b[0;34m\u001b[0m\u001b[0m\n\u001b[1;32m   1286\u001b[0m         \u001b[0mlength\u001b[0m \u001b[0;34m=\u001b[0m \u001b[0mc_bst_ulong\u001b[0m\u001b[0;34m(\u001b[0m\u001b[0;34m)\u001b[0m\u001b[0;34m\u001b[0m\u001b[0;34m\u001b[0m\u001b[0m\n",
      "\u001b[0;32m~/Desktop/training/kaggle-predict-future-sales/venv/lib/python3.7/site-packages/xgboost/core.py\u001b[0m in \u001b[0;36m_validate_features\u001b[0;34m(self, data)\u001b[0m\n\u001b[1;32m   1688\u001b[0m \u001b[0;34m\u001b[0m\u001b[0m\n\u001b[1;32m   1689\u001b[0m                 raise ValueError(msg.format(self.feature_names,\n\u001b[0;32m-> 1690\u001b[0;31m                                             data.feature_names))\n\u001b[0m\u001b[1;32m   1691\u001b[0m \u001b[0;34m\u001b[0m\u001b[0m\n\u001b[1;32m   1692\u001b[0m     \u001b[0;32mdef\u001b[0m \u001b[0mget_split_value_histogram\u001b[0m\u001b[0;34m(\u001b[0m\u001b[0mself\u001b[0m\u001b[0;34m,\u001b[0m \u001b[0mfeature\u001b[0m\u001b[0;34m,\u001b[0m \u001b[0mfmap\u001b[0m\u001b[0;34m=\u001b[0m\u001b[0;34m''\u001b[0m\u001b[0;34m,\u001b[0m \u001b[0mbins\u001b[0m\u001b[0;34m=\u001b[0m\u001b[0;32mNone\u001b[0m\u001b[0;34m,\u001b[0m \u001b[0mas_pandas\u001b[0m\u001b[0;34m=\u001b[0m\u001b[0;32mTrue\u001b[0m\u001b[0;34m)\u001b[0m\u001b[0;34m:\u001b[0m\u001b[0;34m\u001b[0m\u001b[0;34m\u001b[0m\u001b[0m\n",
      "\u001b[0;31mValueError\u001b[0m: feature_names mismatch: ['mean_item_price', 'std_item_price', 'item_cnt_month', 'days_with_sell', 'month', 'year', 'nb_days', 'std_item_price_lag1', 'std_item_price_lag2', 'item_cnt_month_lag1', 'item_cnt_month_lag2', 'mean_category_cnt_month', 'mean_category_item_price', 'std_category_item_price', 'mean_city_cnt_month', 'mean_city_item_price', 'std_city_item_price', 'std_category_item_price_lag1', 'is_lowest_price', 'main_category_name_Accessories', 'main_category_name_Books', 'main_category_name_Game consoles', 'main_category_name_Games', 'main_category_name_Gifts', 'main_category_name_Movies', 'main_category_name_Music', 'main_category_name_Others', 'main_category_name_Payment card', 'main_category_name_Program', 'city_name_Adygea', 'city_name_Balashikha', 'city_name_Czechs', 'city_name_Kaluga', 'city_name_Kazan', 'city_name_Khimki', 'city_name_Kolomna', 'city_name_Krasnoyarsk', 'city_name_Kursk', 'city_name_Moscow', 'city_name_Mytishchi', 'city_name_Nizhny Novgorod', 'city_name_Novosibirsk', 'city_name_Omsk', 'city_name_Other', 'city_name_Rostov-on-Don', 'city_name_SPb', 'city_name_Samara', 'city_name_Sergiev', 'city_name_Surgut', 'city_name_Tomsk', 'city_name_Tyumen', 'city_name_Ufa', 'city_name_Vologda', 'city_name_Volzhsky', 'city_name_Voronezh', 'city_name_Yakutsk', 'city_name_Yaroslavl', 'city_name_Zhukovsky'] ['mean_item_price', 'std_item_price', 'item_cnt_month', 'days_with_sell', 'month', 'year', 'nb_days', 'std_item_price_lag1', 'std_item_price_lag2', 'item_cnt_month_lag1', 'item_cnt_month_lag2', 'mean_category_cnt_month', 'mean_category_item_price', 'std_category_item_price', 'mean_city_cnt_month', 'mean_city_item_price', 'std_city_item_price', 'std_category_item_price_lag1', 'is_lowest_price', 'main_category_name_Accessories', 'main_category_name_Books', 'main_category_name_Game consoles', 'main_category_name_Games', 'main_category_name_Gifts', 'main_category_name_Movies', 'main_category_name_Music', 'main_category_name_Others', 'main_category_name_Payment card', 'main_category_name_Program']\nexpected city_name_Other, city_name_Samara, city_name_Sergiev, city_name_Krasnoyarsk, city_name_Tomsk, city_name_Yakutsk, city_name_Rostov-on-Don, city_name_SPb, city_name_Omsk, city_name_Voronezh, city_name_Surgut, city_name_Kolomna, city_name_Ufa, city_name_Czechs, city_name_Moscow, city_name_Zhukovsky, city_name_Balashikha, city_name_Volzhsky, city_name_Mytishchi, city_name_Nizhny Novgorod, city_name_Novosibirsk, city_name_Kazan, city_name_Yaroslavl, city_name_Kursk, city_name_Tyumen, city_name_Khimki, city_name_Kaluga, city_name_Adygea, city_name_Vologda in input data"
     ]
    }
   ],
   "source": [
    "y_pred = xgbr.predict(X_test[predictors])\n",
    "X_test[\"item_cnt_month_pred\"] = y_pred\n",
    "\n",
    "X_test.head(2)"
   ]
  },
  {
   "cell_type": "markdown",
   "metadata": {},
   "source": [
    "# Format to submission"
   ]
  },
  {
   "cell_type": "code",
   "execution_count": 62,
   "metadata": {},
   "outputs": [
    {
     "data": {
      "text/html": [
       "<div>\n",
       "<style scoped>\n",
       "    .dataframe tbody tr th:only-of-type {\n",
       "        vertical-align: middle;\n",
       "    }\n",
       "\n",
       "    .dataframe tbody tr th {\n",
       "        vertical-align: top;\n",
       "    }\n",
       "\n",
       "    .dataframe thead th {\n",
       "        text-align: right;\n",
       "    }\n",
       "</style>\n",
       "<table border=\"1\" class=\"dataframe\">\n",
       "  <thead>\n",
       "    <tr style=\"text-align: right;\">\n",
       "      <th></th>\n",
       "      <th>ID</th>\n",
       "      <th>shop_id</th>\n",
       "      <th>item_id</th>\n",
       "    </tr>\n",
       "  </thead>\n",
       "  <tbody>\n",
       "    <tr>\n",
       "      <th>0</th>\n",
       "      <td>0</td>\n",
       "      <td>5</td>\n",
       "      <td>5037</td>\n",
       "    </tr>\n",
       "    <tr>\n",
       "      <th>1</th>\n",
       "      <td>1</td>\n",
       "      <td>5</td>\n",
       "      <td>5320</td>\n",
       "    </tr>\n",
       "  </tbody>\n",
       "</table>\n",
       "</div>"
      ],
      "text/plain": [
       "   ID  shop_id  item_id\n",
       "0   0        5     5037\n",
       "1   1        5     5320"
      ]
     },
     "execution_count": 62,
     "metadata": {},
     "output_type": "execute_result"
    }
   ],
   "source": [
    "to_pred = pd.read_csv(cfg.FILENAMES['TEST_SALES'])\n",
    "to_pred.head(2)"
   ]
  },
  {
   "cell_type": "code",
   "execution_count": 63,
   "metadata": {},
   "outputs": [
    {
     "name": "stdout",
     "output_type": "stream",
     "text": [
      "ID                          0\n",
      "shop_id                     0\n",
      "item_id                     0\n",
      "item_cnt_month_pred    102796\n",
      "dtype: int64\n"
     ]
    },
    {
     "data": {
      "text/html": [
       "<div>\n",
       "<style scoped>\n",
       "    .dataframe tbody tr th:only-of-type {\n",
       "        vertical-align: middle;\n",
       "    }\n",
       "\n",
       "    .dataframe tbody tr th {\n",
       "        vertical-align: top;\n",
       "    }\n",
       "\n",
       "    .dataframe thead th {\n",
       "        text-align: right;\n",
       "    }\n",
       "</style>\n",
       "<table border=\"1\" class=\"dataframe\">\n",
       "  <thead>\n",
       "    <tr style=\"text-align: right;\">\n",
       "      <th></th>\n",
       "      <th>ID</th>\n",
       "      <th>shop_id</th>\n",
       "      <th>item_id</th>\n",
       "      <th>item_cnt_month_pred</th>\n",
       "    </tr>\n",
       "  </thead>\n",
       "  <tbody>\n",
       "    <tr>\n",
       "      <th>0</th>\n",
       "      <td>0</td>\n",
       "      <td>5</td>\n",
       "      <td>5037</td>\n",
       "      <td>0.620287</td>\n",
       "    </tr>\n",
       "    <tr>\n",
       "      <th>1</th>\n",
       "      <td>1</td>\n",
       "      <td>5</td>\n",
       "      <td>5320</td>\n",
       "      <td>0.000000</td>\n",
       "    </tr>\n",
       "  </tbody>\n",
       "</table>\n",
       "</div>"
      ],
      "text/plain": [
       "   ID  shop_id  item_id  item_cnt_month_pred\n",
       "0   0        5     5037             0.620287\n",
       "1   1        5     5320             0.000000"
      ]
     },
     "execution_count": 63,
     "metadata": {},
     "output_type": "execute_result"
    }
   ],
   "source": [
    "submission = pd.merge(to_pred, X_test[[\"item_id\",\"shop_id\",\"item_cnt_month_pred\"]],\n",
    "                      how=\"left\", on=[\"item_id\",\"shop_id\"])\n",
    "print(submission.isnull().sum())\n",
    "submission = submission.fillna(0)\n",
    "submission.head(2)"
   ]
  },
  {
   "cell_type": "code",
   "execution_count": 68,
   "metadata": {},
   "outputs": [],
   "source": [
    "submission.loc[submission[\"item_cnt_month_pred\"]>20,\"item_cnt_month_pred\"]=20\n",
    "submission.loc[submission[\"item_cnt_month_pred\"]<0, \"item_cnt_month_pred\"]=0"
   ]
  },
  {
   "cell_type": "code",
   "execution_count": 69,
   "metadata": {},
   "outputs": [
    {
     "data": {
      "text/html": [
       "<div>\n",
       "<style scoped>\n",
       "    .dataframe tbody tr th:only-of-type {\n",
       "        vertical-align: middle;\n",
       "    }\n",
       "\n",
       "    .dataframe tbody tr th {\n",
       "        vertical-align: top;\n",
       "    }\n",
       "\n",
       "    .dataframe thead th {\n",
       "        text-align: right;\n",
       "    }\n",
       "</style>\n",
       "<table border=\"1\" class=\"dataframe\">\n",
       "  <thead>\n",
       "    <tr style=\"text-align: right;\">\n",
       "      <th></th>\n",
       "      <th>ID</th>\n",
       "      <th>item_cnt_month</th>\n",
       "    </tr>\n",
       "  </thead>\n",
       "  <tbody>\n",
       "    <tr>\n",
       "      <th>0</th>\n",
       "      <td>0</td>\n",
       "      <td>0.5</td>\n",
       "    </tr>\n",
       "    <tr>\n",
       "      <th>1</th>\n",
       "      <td>1</td>\n",
       "      <td>0.5</td>\n",
       "    </tr>\n",
       "  </tbody>\n",
       "</table>\n",
       "</div>"
      ],
      "text/plain": [
       "   ID  item_cnt_month\n",
       "0   0             0.5\n",
       "1   1             0.5"
      ]
     },
     "execution_count": 69,
     "metadata": {},
     "output_type": "execute_result"
    }
   ],
   "source": [
    "sub_example = pd.read_csv(cfg.FILENAMES[\"SAMPLE_SUBM\"])\n",
    "sub_example.head(2)"
   ]
  },
  {
   "cell_type": "code",
   "execution_count": 70,
   "metadata": {},
   "outputs": [
    {
     "data": {
      "text/html": [
       "<div>\n",
       "<style scoped>\n",
       "    .dataframe tbody tr th:only-of-type {\n",
       "        vertical-align: middle;\n",
       "    }\n",
       "\n",
       "    .dataframe tbody tr th {\n",
       "        vertical-align: top;\n",
       "    }\n",
       "\n",
       "    .dataframe thead th {\n",
       "        text-align: right;\n",
       "    }\n",
       "</style>\n",
       "<table border=\"1\" class=\"dataframe\">\n",
       "  <thead>\n",
       "    <tr style=\"text-align: right;\">\n",
       "      <th></th>\n",
       "      <th>ID</th>\n",
       "      <th>item_cnt_month</th>\n",
       "    </tr>\n",
       "  </thead>\n",
       "  <tbody>\n",
       "    <tr>\n",
       "      <th>0</th>\n",
       "      <td>0</td>\n",
       "      <td>0.620287</td>\n",
       "    </tr>\n",
       "    <tr>\n",
       "      <th>1</th>\n",
       "      <td>1</td>\n",
       "      <td>0.000000</td>\n",
       "    </tr>\n",
       "  </tbody>\n",
       "</table>\n",
       "</div>"
      ],
      "text/plain": [
       "   ID  item_cnt_month\n",
       "0   0        0.620287\n",
       "1   1        0.000000"
      ]
     },
     "execution_count": 70,
     "metadata": {},
     "output_type": "execute_result"
    }
   ],
   "source": [
    "submission_formated = (submission[[\"ID\", \"item_cnt_month_pred\"]]\n",
    "                       .rename({\"item_cnt_month_pred\":\"item_cnt_month\"}, axis=1))\n",
    "submission_formated.head(2)"
   ]
  },
  {
   "cell_type": "code",
   "execution_count": 71,
   "metadata": {},
   "outputs": [],
   "source": [
    "submission_formated.to_csv(os.path.join(\"submissions\", \"sub_04.csv\"), index=False)"
   ]
  },
  {
   "cell_type": "code",
   "execution_count": null,
   "metadata": {},
   "outputs": [],
   "source": []
  }
 ],
 "metadata": {
  "kernelspec": {
   "display_name": "Python 3",
   "language": "python",
   "name": "python3"
  },
  "language_info": {
   "codemirror_mode": {
    "name": "ipython",
    "version": 3
   },
   "file_extension": ".py",
   "mimetype": "text/x-python",
   "name": "python",
   "nbconvert_exporter": "python",
   "pygments_lexer": "ipython3",
   "version": "3.7.3"
  }
 },
 "nbformat": 4,
 "nbformat_minor": 2
}
