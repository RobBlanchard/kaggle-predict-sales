{
 "cells": [
  {
   "cell_type": "code",
   "execution_count": 1,
   "metadata": {},
   "outputs": [],
   "source": [
    "import numpy as np # linear algebra\n",
    "import pandas as pd # data processing, CSV file I/O (e.g. pd.read_csv)\n",
    "import seaborn as sns\n",
    "import matplotlib.pyplot as plt\n",
    "import xgboost as xgb\n",
    "from xgboost import plot_importance, plot_tree\n",
    "from sklearn.metrics import mean_squared_error, mean_absolute_error\n",
    "import os\n",
    "plt.style.use('fivethirtyeight')\n",
    "\n",
    "import warnings\n",
    "warnings.filterwarnings('ignore')\n",
    "\n",
    "import config as cfg"
   ]
  },
  {
   "cell_type": "markdown",
   "metadata": {},
   "source": [
    "## Load train data"
   ]
  },
  {
   "cell_type": "code",
   "execution_count": 2,
   "metadata": {
    "scrolled": true
   },
   "outputs": [
    {
     "name": "stdout",
     "output_type": "stream",
     "text": [
      "2935849\n"
     ]
    },
    {
     "data": {
      "text/html": [
       "<div>\n",
       "<style scoped>\n",
       "    .dataframe tbody tr th:only-of-type {\n",
       "        vertical-align: middle;\n",
       "    }\n",
       "\n",
       "    .dataframe tbody tr th {\n",
       "        vertical-align: top;\n",
       "    }\n",
       "\n",
       "    .dataframe thead th {\n",
       "        text-align: right;\n",
       "    }\n",
       "</style>\n",
       "<table border=\"1\" class=\"dataframe\">\n",
       "  <thead>\n",
       "    <tr style=\"text-align: right;\">\n",
       "      <th></th>\n",
       "      <th>date</th>\n",
       "      <th>date_block_num</th>\n",
       "      <th>shop_id</th>\n",
       "      <th>item_id</th>\n",
       "      <th>item_price</th>\n",
       "      <th>item_cnt_day</th>\n",
       "    </tr>\n",
       "  </thead>\n",
       "  <tbody>\n",
       "    <tr>\n",
       "      <th>0</th>\n",
       "      <td>02.01.2013</td>\n",
       "      <td>0</td>\n",
       "      <td>59</td>\n",
       "      <td>22154</td>\n",
       "      <td>999.0</td>\n",
       "      <td>1.0</td>\n",
       "    </tr>\n",
       "    <tr>\n",
       "      <th>1</th>\n",
       "      <td>03.01.2013</td>\n",
       "      <td>0</td>\n",
       "      <td>25</td>\n",
       "      <td>2552</td>\n",
       "      <td>899.0</td>\n",
       "      <td>1.0</td>\n",
       "    </tr>\n",
       "  </tbody>\n",
       "</table>\n",
       "</div>"
      ],
      "text/plain": [
       "         date  date_block_num  shop_id  item_id  item_price  item_cnt_day\n",
       "0  02.01.2013               0       59    22154       999.0           1.0\n",
       "1  03.01.2013               0       25     2552       899.0           1.0"
      ]
     },
     "execution_count": 2,
     "metadata": {},
     "output_type": "execute_result"
    }
   ],
   "source": [
    "sales = pd.read_csv(cfg.FILENAMES['TRAIN_SALES'])\n",
    "print(len(sales))\n",
    "sales.head(2)"
   ]
  },
  {
   "cell_type": "code",
   "execution_count": 3,
   "metadata": {},
   "outputs": [
    {
     "data": {
      "text/html": [
       "<div>\n",
       "<style scoped>\n",
       "    .dataframe tbody tr th:only-of-type {\n",
       "        vertical-align: middle;\n",
       "    }\n",
       "\n",
       "    .dataframe tbody tr th {\n",
       "        vertical-align: top;\n",
       "    }\n",
       "\n",
       "    .dataframe thead th {\n",
       "        text-align: right;\n",
       "    }\n",
       "</style>\n",
       "<table border=\"1\" class=\"dataframe\">\n",
       "  <thead>\n",
       "    <tr style=\"text-align: right;\">\n",
       "      <th></th>\n",
       "      <th>date</th>\n",
       "      <th>date_block_num</th>\n",
       "      <th>shop_id</th>\n",
       "      <th>item_id</th>\n",
       "      <th>item_price</th>\n",
       "      <th>item_cnt_day</th>\n",
       "      <th>item_name</th>\n",
       "      <th>item_category_id</th>\n",
       "    </tr>\n",
       "  </thead>\n",
       "  <tbody>\n",
       "    <tr>\n",
       "      <th>0</th>\n",
       "      <td>02.01.2013</td>\n",
       "      <td>0</td>\n",
       "      <td>59</td>\n",
       "      <td>22154</td>\n",
       "      <td>999.0</td>\n",
       "      <td>1.0</td>\n",
       "      <td>ЯВЛЕНИЕ 2012 (BD)</td>\n",
       "      <td>37</td>\n",
       "    </tr>\n",
       "    <tr>\n",
       "      <th>1</th>\n",
       "      <td>03.01.2013</td>\n",
       "      <td>0</td>\n",
       "      <td>25</td>\n",
       "      <td>2552</td>\n",
       "      <td>899.0</td>\n",
       "      <td>1.0</td>\n",
       "      <td>DEEP PURPLE  The House Of Blue Light  LP</td>\n",
       "      <td>58</td>\n",
       "    </tr>\n",
       "  </tbody>\n",
       "</table>\n",
       "</div>"
      ],
      "text/plain": [
       "         date  date_block_num  shop_id  item_id  item_price  item_cnt_day  \\\n",
       "0  02.01.2013               0       59    22154       999.0           1.0   \n",
       "1  03.01.2013               0       25     2552       899.0           1.0   \n",
       "\n",
       "                                  item_name  item_category_id  \n",
       "0                         ЯВЛЕНИЕ 2012 (BD)                37  \n",
       "1  DEEP PURPLE  The House Of Blue Light  LP                58  "
      ]
     },
     "execution_count": 3,
     "metadata": {},
     "output_type": "execute_result"
    }
   ],
   "source": [
    "items = pd.read_csv(cfg.FILENAMES[\"ITEMS\"])\n",
    "train = pd.merge(sales, items, how=\"left\", on=\"item_id\")\n",
    "train.head(2)"
   ]
  },
  {
   "cell_type": "code",
   "execution_count": 4,
   "metadata": {},
   "outputs": [
    {
     "data": {
      "text/html": [
       "<div>\n",
       "<style scoped>\n",
       "    .dataframe tbody tr th:only-of-type {\n",
       "        vertical-align: middle;\n",
       "    }\n",
       "\n",
       "    .dataframe tbody tr th {\n",
       "        vertical-align: top;\n",
       "    }\n",
       "\n",
       "    .dataframe thead th {\n",
       "        text-align: right;\n",
       "    }\n",
       "</style>\n",
       "<table border=\"1\" class=\"dataframe\">\n",
       "  <thead>\n",
       "    <tr style=\"text-align: right;\">\n",
       "      <th></th>\n",
       "      <th>date</th>\n",
       "      <th>date_block_num</th>\n",
       "      <th>shop_id</th>\n",
       "      <th>item_id</th>\n",
       "      <th>item_price</th>\n",
       "      <th>item_cnt_day</th>\n",
       "      <th>item_name</th>\n",
       "      <th>item_category_id</th>\n",
       "      <th>item_category_name</th>\n",
       "    </tr>\n",
       "  </thead>\n",
       "  <tbody>\n",
       "    <tr>\n",
       "      <th>0</th>\n",
       "      <td>02.01.2013</td>\n",
       "      <td>0</td>\n",
       "      <td>59</td>\n",
       "      <td>22154</td>\n",
       "      <td>999.0</td>\n",
       "      <td>1.0</td>\n",
       "      <td>ЯВЛЕНИЕ 2012 (BD)</td>\n",
       "      <td>37</td>\n",
       "      <td>Кино - Blu-Ray</td>\n",
       "    </tr>\n",
       "    <tr>\n",
       "      <th>1</th>\n",
       "      <td>03.01.2013</td>\n",
       "      <td>0</td>\n",
       "      <td>25</td>\n",
       "      <td>2552</td>\n",
       "      <td>899.0</td>\n",
       "      <td>1.0</td>\n",
       "      <td>DEEP PURPLE  The House Of Blue Light  LP</td>\n",
       "      <td>58</td>\n",
       "      <td>Музыка - Винил</td>\n",
       "    </tr>\n",
       "  </tbody>\n",
       "</table>\n",
       "</div>"
      ],
      "text/plain": [
       "         date  date_block_num  shop_id  item_id  item_price  item_cnt_day  \\\n",
       "0  02.01.2013               0       59    22154       999.0           1.0   \n",
       "1  03.01.2013               0       25     2552       899.0           1.0   \n",
       "\n",
       "                                  item_name  item_category_id  \\\n",
       "0                         ЯВЛЕНИЕ 2012 (BD)                37   \n",
       "1  DEEP PURPLE  The House Of Blue Light  LP                58   \n",
       "\n",
       "  item_category_name  \n",
       "0     Кино - Blu-Ray  \n",
       "1     Музыка - Винил  "
      ]
     },
     "execution_count": 4,
     "metadata": {},
     "output_type": "execute_result"
    }
   ],
   "source": [
    "categories = pd.read_csv(cfg.FILENAMES[\"ITEM_CATEGORIES\"])\n",
    "train = pd.merge(train, categories, how=\"left\", on=\"item_category_id\")\n",
    "train.head(2)"
   ]
  },
  {
   "cell_type": "code",
   "execution_count": 5,
   "metadata": {},
   "outputs": [
    {
     "data": {
      "text/html": [
       "<div>\n",
       "<style scoped>\n",
       "    .dataframe tbody tr th:only-of-type {\n",
       "        vertical-align: middle;\n",
       "    }\n",
       "\n",
       "    .dataframe tbody tr th {\n",
       "        vertical-align: top;\n",
       "    }\n",
       "\n",
       "    .dataframe thead th {\n",
       "        text-align: right;\n",
       "    }\n",
       "</style>\n",
       "<table border=\"1\" class=\"dataframe\">\n",
       "  <thead>\n",
       "    <tr style=\"text-align: right;\">\n",
       "      <th></th>\n",
       "      <th>date</th>\n",
       "      <th>date_block_num</th>\n",
       "      <th>shop_id</th>\n",
       "      <th>item_id</th>\n",
       "      <th>item_price</th>\n",
       "      <th>item_cnt_day</th>\n",
       "      <th>item_name</th>\n",
       "      <th>item_category_id</th>\n",
       "      <th>item_category_name</th>\n",
       "      <th>shop_name</th>\n",
       "    </tr>\n",
       "  </thead>\n",
       "  <tbody>\n",
       "    <tr>\n",
       "      <th>0</th>\n",
       "      <td>02.01.2013</td>\n",
       "      <td>0</td>\n",
       "      <td>59</td>\n",
       "      <td>22154</td>\n",
       "      <td>999.0</td>\n",
       "      <td>1.0</td>\n",
       "      <td>ЯВЛЕНИЕ 2012 (BD)</td>\n",
       "      <td>37</td>\n",
       "      <td>Кино - Blu-Ray</td>\n",
       "      <td>Ярославль ТЦ \"Альтаир\"</td>\n",
       "    </tr>\n",
       "    <tr>\n",
       "      <th>1</th>\n",
       "      <td>03.01.2013</td>\n",
       "      <td>0</td>\n",
       "      <td>25</td>\n",
       "      <td>2552</td>\n",
       "      <td>899.0</td>\n",
       "      <td>1.0</td>\n",
       "      <td>DEEP PURPLE  The House Of Blue Light  LP</td>\n",
       "      <td>58</td>\n",
       "      <td>Музыка - Винил</td>\n",
       "      <td>Москва ТРК \"Атриум\"</td>\n",
       "    </tr>\n",
       "  </tbody>\n",
       "</table>\n",
       "</div>"
      ],
      "text/plain": [
       "         date  date_block_num  shop_id  item_id  item_price  item_cnt_day  \\\n",
       "0  02.01.2013               0       59    22154       999.0           1.0   \n",
       "1  03.01.2013               0       25     2552       899.0           1.0   \n",
       "\n",
       "                                  item_name  item_category_id  \\\n",
       "0                         ЯВЛЕНИЕ 2012 (BD)                37   \n",
       "1  DEEP PURPLE  The House Of Blue Light  LP                58   \n",
       "\n",
       "  item_category_name               shop_name  \n",
       "0     Кино - Blu-Ray  Ярославль ТЦ \"Альтаир\"  \n",
       "1     Музыка - Винил     Москва ТРК \"Атриум\"  "
      ]
     },
     "execution_count": 5,
     "metadata": {},
     "output_type": "execute_result"
    }
   ],
   "source": [
    "shops = pd.read_csv(cfg.FILENAMES[\"SHOPS\"])\n",
    "train = pd.merge(train, shops, how=\"left\", on=\"shop_id\")\n",
    "train.head(2)"
   ]
  },
  {
   "cell_type": "markdown",
   "metadata": {},
   "source": [
    "Keep only relevant columns"
   ]
  },
  {
   "cell_type": "code",
   "execution_count": 6,
   "metadata": {},
   "outputs": [
    {
     "data": {
      "text/html": [
       "<div>\n",
       "<style scoped>\n",
       "    .dataframe tbody tr th:only-of-type {\n",
       "        vertical-align: middle;\n",
       "    }\n",
       "\n",
       "    .dataframe tbody tr th {\n",
       "        vertical-align: top;\n",
       "    }\n",
       "\n",
       "    .dataframe thead th {\n",
       "        text-align: right;\n",
       "    }\n",
       "</style>\n",
       "<table border=\"1\" class=\"dataframe\">\n",
       "  <thead>\n",
       "    <tr style=\"text-align: right;\">\n",
       "      <th></th>\n",
       "      <th>date_block_num</th>\n",
       "      <th>shop_id</th>\n",
       "      <th>item_id</th>\n",
       "      <th>item_price</th>\n",
       "      <th>item_cnt_day</th>\n",
       "      <th>item_category_id</th>\n",
       "    </tr>\n",
       "  </thead>\n",
       "  <tbody>\n",
       "    <tr>\n",
       "      <th>0</th>\n",
       "      <td>0</td>\n",
       "      <td>59</td>\n",
       "      <td>22154</td>\n",
       "      <td>999.00</td>\n",
       "      <td>1.0</td>\n",
       "      <td>37</td>\n",
       "    </tr>\n",
       "    <tr>\n",
       "      <th>1</th>\n",
       "      <td>0</td>\n",
       "      <td>25</td>\n",
       "      <td>2552</td>\n",
       "      <td>899.00</td>\n",
       "      <td>1.0</td>\n",
       "      <td>58</td>\n",
       "    </tr>\n",
       "    <tr>\n",
       "      <th>2</th>\n",
       "      <td>0</td>\n",
       "      <td>25</td>\n",
       "      <td>2552</td>\n",
       "      <td>899.00</td>\n",
       "      <td>-1.0</td>\n",
       "      <td>58</td>\n",
       "    </tr>\n",
       "    <tr>\n",
       "      <th>3</th>\n",
       "      <td>0</td>\n",
       "      <td>25</td>\n",
       "      <td>2554</td>\n",
       "      <td>1709.05</td>\n",
       "      <td>1.0</td>\n",
       "      <td>58</td>\n",
       "    </tr>\n",
       "    <tr>\n",
       "      <th>4</th>\n",
       "      <td>0</td>\n",
       "      <td>25</td>\n",
       "      <td>2555</td>\n",
       "      <td>1099.00</td>\n",
       "      <td>1.0</td>\n",
       "      <td>56</td>\n",
       "    </tr>\n",
       "  </tbody>\n",
       "</table>\n",
       "</div>"
      ],
      "text/plain": [
       "   date_block_num  shop_id  item_id  item_price  item_cnt_day  \\\n",
       "0               0       59    22154      999.00           1.0   \n",
       "1               0       25     2552      899.00           1.0   \n",
       "2               0       25     2552      899.00          -1.0   \n",
       "3               0       25     2554     1709.05           1.0   \n",
       "4               0       25     2555     1099.00           1.0   \n",
       "\n",
       "   item_category_id  \n",
       "0                37  \n",
       "1                58  \n",
       "2                58  \n",
       "3                58  \n",
       "4                56  "
      ]
     },
     "execution_count": 6,
     "metadata": {},
     "output_type": "execute_result"
    }
   ],
   "source": [
    "train = train[[\"date_block_num\",\"shop_id\",\"item_id\",\"item_price\",\"item_cnt_day\",\"item_category_id\"]]\n",
    "train.head()"
   ]
  },
  {
   "cell_type": "markdown",
   "metadata": {},
   "source": [
    "#### Remove shops and items not in predict_set"
   ]
  },
  {
   "cell_type": "code",
   "execution_count": 8,
   "metadata": {},
   "outputs": [
    {
     "data": {
      "text/html": [
       "<div>\n",
       "<style scoped>\n",
       "    .dataframe tbody tr th:only-of-type {\n",
       "        vertical-align: middle;\n",
       "    }\n",
       "\n",
       "    .dataframe tbody tr th {\n",
       "        vertical-align: top;\n",
       "    }\n",
       "\n",
       "    .dataframe thead th {\n",
       "        text-align: right;\n",
       "    }\n",
       "</style>\n",
       "<table border=\"1\" class=\"dataframe\">\n",
       "  <thead>\n",
       "    <tr style=\"text-align: right;\">\n",
       "      <th></th>\n",
       "      <th>ID</th>\n",
       "      <th>shop_id</th>\n",
       "      <th>item_id</th>\n",
       "    </tr>\n",
       "  </thead>\n",
       "  <tbody>\n",
       "    <tr>\n",
       "      <th>0</th>\n",
       "      <td>0</td>\n",
       "      <td>5</td>\n",
       "      <td>5037</td>\n",
       "    </tr>\n",
       "    <tr>\n",
       "      <th>1</th>\n",
       "      <td>1</td>\n",
       "      <td>5</td>\n",
       "      <td>5320</td>\n",
       "    </tr>\n",
       "  </tbody>\n",
       "</table>\n",
       "</div>"
      ],
      "text/plain": [
       "   ID  shop_id  item_id\n",
       "0   0        5     5037\n",
       "1   1        5     5320"
      ]
     },
     "execution_count": 8,
     "metadata": {},
     "output_type": "execute_result"
    }
   ],
   "source": [
    "to_pred = pd.read_csv(cfg.FILENAMES['TEST_SALES'])\n",
    "to_pred.head(2)"
   ]
  },
  {
   "cell_type": "code",
   "execution_count": 9,
   "metadata": {},
   "outputs": [
    {
     "name": "stdout",
     "output_type": "stream",
     "text": [
      "From 2935849 to 1224439\n"
     ]
    }
   ],
   "source": [
    "to_pred_items = set(to_pred[\"item_id\"])\n",
    "to_pred_shops = set(to_pred[\"shop_id\"])\n",
    "train_filtered = train.loc[(train[\"item_id\"].isin(to_pred_items)) & (train[\"shop_id\"].isin(to_pred_shops))]\n",
    "print(f\"From {len(train)} to {len(train_filtered)}\")"
   ]
  },
  {
   "cell_type": "markdown",
   "metadata": {},
   "source": [
    "#### Remove not positive days"
   ]
  },
  {
   "cell_type": "code",
   "execution_count": 12,
   "metadata": {},
   "outputs": [],
   "source": [
    "train_filtered = train_filtered.loc[(train_filtered[\"item_cnt_day\"]>0)]"
   ]
  },
  {
   "cell_type": "markdown",
   "metadata": {},
   "source": [
    "## Aggregate by month"
   ]
  },
  {
   "cell_type": "code",
   "execution_count": 13,
   "metadata": {},
   "outputs": [
    {
     "name": "stdout",
     "output_type": "stream",
     "text": [
      "599912\n"
     ]
    },
    {
     "data": {
      "text/html": [
       "<div>\n",
       "<style scoped>\n",
       "    .dataframe tbody tr th:only-of-type {\n",
       "        vertical-align: middle;\n",
       "    }\n",
       "\n",
       "    .dataframe tbody tr th {\n",
       "        vertical-align: top;\n",
       "    }\n",
       "\n",
       "    .dataframe thead th {\n",
       "        text-align: right;\n",
       "    }\n",
       "</style>\n",
       "<table border=\"1\" class=\"dataframe\">\n",
       "  <thead>\n",
       "    <tr style=\"text-align: right;\">\n",
       "      <th></th>\n",
       "      <th>date_block_num</th>\n",
       "      <th>shop_id</th>\n",
       "      <th>item_id</th>\n",
       "      <th>item_category_id</th>\n",
       "      <th>item_mean_price</th>\n",
       "      <th>item_total_sold</th>\n",
       "      <th>item_cnt_month</th>\n",
       "      <th>item_cnt_mean</th>\n",
       "      <th>transactions</th>\n",
       "    </tr>\n",
       "  </thead>\n",
       "  <tbody>\n",
       "    <tr>\n",
       "      <th>0</th>\n",
       "      <td>0</td>\n",
       "      <td>2</td>\n",
       "      <td>33</td>\n",
       "      <td>37</td>\n",
       "      <td>499.0</td>\n",
       "      <td>499.0</td>\n",
       "      <td>1.0</td>\n",
       "      <td>1.0</td>\n",
       "      <td>1</td>\n",
       "    </tr>\n",
       "    <tr>\n",
       "      <th>1</th>\n",
       "      <td>0</td>\n",
       "      <td>2</td>\n",
       "      <td>482</td>\n",
       "      <td>73</td>\n",
       "      <td>3300.0</td>\n",
       "      <td>3300.0</td>\n",
       "      <td>1.0</td>\n",
       "      <td>1.0</td>\n",
       "      <td>1</td>\n",
       "    </tr>\n",
       "  </tbody>\n",
       "</table>\n",
       "</div>"
      ],
      "text/plain": [
       "   date_block_num  shop_id  item_id  item_category_id  item_mean_price  \\\n",
       "0               0        2       33                37            499.0   \n",
       "1               0        2      482                73           3300.0   \n",
       "\n",
       "   item_total_sold  item_cnt_month  item_cnt_mean  transactions  \n",
       "0            499.0             1.0            1.0             1  \n",
       "1           3300.0             1.0            1.0             1  "
      ]
     },
     "execution_count": 13,
     "metadata": {},
     "output_type": "execute_result"
    }
   ],
   "source": [
    "train_monthly = (train_filtered.groupby([\"date_block_num\",\"shop_id\",\"item_id\",\"item_category_id\"])\n",
    "                .agg({\"item_price\":[\"mean\",\"sum\"], \"item_cnt_day\":[\"sum\",\"mean\",\"count\"]})\n",
    "                .reset_index())\n",
    "train_monthly.columns = [\"date_block_num\",\"shop_id\", \"item_id\", \"item_category_id\",\n",
    "                        \"item_mean_price\", \"item_total_sold\", \"item_cnt_month\", \"item_cnt_mean\", \"transactions\"]\n",
    "print(len(train_monthly))\n",
    "train_monthly.head(2)"
   ]
  },
  {
   "cell_type": "markdown",
   "metadata": {},
   "source": [
    "## Create missing combinations"
   ]
  },
  {
   "cell_type": "markdown",
   "metadata": {},
   "source": [
    "### Missing combinations in train set"
   ]
  },
  {
   "cell_type": "code",
   "execution_count": 14,
   "metadata": {},
   "outputs": [
    {
     "name": "stdout",
     "output_type": "stream",
     "text": [
      "6734448\n"
     ]
    },
    {
     "data": {
      "text/html": [
       "<div>\n",
       "<style scoped>\n",
       "    .dataframe tbody tr th:only-of-type {\n",
       "        vertical-align: middle;\n",
       "    }\n",
       "\n",
       "    .dataframe tbody tr th {\n",
       "        vertical-align: top;\n",
       "    }\n",
       "\n",
       "    .dataframe thead th {\n",
       "        text-align: right;\n",
       "    }\n",
       "</style>\n",
       "<table border=\"1\" class=\"dataframe\">\n",
       "  <thead>\n",
       "    <tr style=\"text-align: right;\">\n",
       "      <th></th>\n",
       "      <th>date_block_num</th>\n",
       "      <th>item_id</th>\n",
       "      <th>shop_id</th>\n",
       "    </tr>\n",
       "  </thead>\n",
       "  <tbody>\n",
       "    <tr>\n",
       "      <th>0</th>\n",
       "      <td>0</td>\n",
       "      <td>8192</td>\n",
       "      <td>2</td>\n",
       "    </tr>\n",
       "    <tr>\n",
       "      <th>1</th>\n",
       "      <td>0</td>\n",
       "      <td>8192</td>\n",
       "      <td>3</td>\n",
       "    </tr>\n",
       "    <tr>\n",
       "      <th>2</th>\n",
       "      <td>0</td>\n",
       "      <td>8192</td>\n",
       "      <td>4</td>\n",
       "    </tr>\n",
       "    <tr>\n",
       "      <th>3</th>\n",
       "      <td>0</td>\n",
       "      <td>8192</td>\n",
       "      <td>5</td>\n",
       "    </tr>\n",
       "    <tr>\n",
       "      <th>4</th>\n",
       "      <td>0</td>\n",
       "      <td>8192</td>\n",
       "      <td>6</td>\n",
       "    </tr>\n",
       "  </tbody>\n",
       "</table>\n",
       "</div>"
      ],
      "text/plain": [
       "   date_block_num  item_id  shop_id\n",
       "0               0     8192        2\n",
       "1               0     8192        3\n",
       "2               0     8192        4\n",
       "3               0     8192        5\n",
       "4               0     8192        6"
      ]
     },
     "execution_count": 14,
     "metadata": {},
     "output_type": "execute_result"
    }
   ],
   "source": [
    "items_set = set(train_monthly[\"item_id\"])\n",
    "shops_set = set(train_monthly[\"shop_id\"])\n",
    "\n",
    "empty = []\n",
    "for date in range(34):\n",
    "    for item in items_set:\n",
    "        for shop in shops_set:\n",
    "            empty.append({\"date_block_num\":date,\"item_id\":item, \"shop_id\":shop})\n",
    "\n",
    "empty_df = pd.DataFrame.from_dict(empty)\n",
    "print(len(empty_df))\n",
    "empty_df.head()"
   ]
  },
  {
   "cell_type": "code",
   "execution_count": 20,
   "metadata": {},
   "outputs": [
    {
     "name": "stdout",
     "output_type": "stream",
     "text": [
      "6734448\n"
     ]
    },
    {
     "data": {
      "text/html": [
       "<div>\n",
       "<style scoped>\n",
       "    .dataframe tbody tr th:only-of-type {\n",
       "        vertical-align: middle;\n",
       "    }\n",
       "\n",
       "    .dataframe tbody tr th {\n",
       "        vertical-align: top;\n",
       "    }\n",
       "\n",
       "    .dataframe thead th {\n",
       "        text-align: right;\n",
       "    }\n",
       "</style>\n",
       "<table border=\"1\" class=\"dataframe\">\n",
       "  <thead>\n",
       "    <tr style=\"text-align: right;\">\n",
       "      <th></th>\n",
       "      <th>date_block_num</th>\n",
       "      <th>item_id</th>\n",
       "      <th>shop_id</th>\n",
       "      <th>item_category_id</th>\n",
       "      <th>item_mean_price</th>\n",
       "      <th>item_total_sold</th>\n",
       "      <th>item_cnt_month</th>\n",
       "      <th>item_cnt_mean</th>\n",
       "      <th>transactions</th>\n",
       "    </tr>\n",
       "  </thead>\n",
       "  <tbody>\n",
       "    <tr>\n",
       "      <th>0</th>\n",
       "      <td>0</td>\n",
       "      <td>8192</td>\n",
       "      <td>2</td>\n",
       "      <td>NaN</td>\n",
       "      <td>NaN</td>\n",
       "      <td>NaN</td>\n",
       "      <td>NaN</td>\n",
       "      <td>NaN</td>\n",
       "      <td>NaN</td>\n",
       "    </tr>\n",
       "    <tr>\n",
       "      <th>1</th>\n",
       "      <td>0</td>\n",
       "      <td>8192</td>\n",
       "      <td>3</td>\n",
       "      <td>NaN</td>\n",
       "      <td>NaN</td>\n",
       "      <td>NaN</td>\n",
       "      <td>NaN</td>\n",
       "      <td>NaN</td>\n",
       "      <td>NaN</td>\n",
       "    </tr>\n",
       "    <tr>\n",
       "      <th>2</th>\n",
       "      <td>0</td>\n",
       "      <td>8192</td>\n",
       "      <td>4</td>\n",
       "      <td>NaN</td>\n",
       "      <td>NaN</td>\n",
       "      <td>NaN</td>\n",
       "      <td>NaN</td>\n",
       "      <td>NaN</td>\n",
       "      <td>NaN</td>\n",
       "    </tr>\n",
       "    <tr>\n",
       "      <th>3</th>\n",
       "      <td>0</td>\n",
       "      <td>8192</td>\n",
       "      <td>5</td>\n",
       "      <td>NaN</td>\n",
       "      <td>NaN</td>\n",
       "      <td>NaN</td>\n",
       "      <td>NaN</td>\n",
       "      <td>NaN</td>\n",
       "      <td>NaN</td>\n",
       "    </tr>\n",
       "    <tr>\n",
       "      <th>4</th>\n",
       "      <td>0</td>\n",
       "      <td>8192</td>\n",
       "      <td>6</td>\n",
       "      <td>NaN</td>\n",
       "      <td>NaN</td>\n",
       "      <td>NaN</td>\n",
       "      <td>NaN</td>\n",
       "      <td>NaN</td>\n",
       "      <td>NaN</td>\n",
       "    </tr>\n",
       "  </tbody>\n",
       "</table>\n",
       "</div>"
      ],
      "text/plain": [
       "   date_block_num  item_id  shop_id  item_category_id  item_mean_price  \\\n",
       "0               0     8192        2               NaN              NaN   \n",
       "1               0     8192        3               NaN              NaN   \n",
       "2               0     8192        4               NaN              NaN   \n",
       "3               0     8192        5               NaN              NaN   \n",
       "4               0     8192        6               NaN              NaN   \n",
       "\n",
       "   item_total_sold  item_cnt_month  item_cnt_mean  transactions  \n",
       "0              NaN             NaN            NaN           NaN  \n",
       "1              NaN             NaN            NaN           NaN  \n",
       "2              NaN             NaN            NaN           NaN  \n",
       "3              NaN             NaN            NaN           NaN  \n",
       "4              NaN             NaN            NaN           NaN  "
      ]
     },
     "execution_count": 20,
     "metadata": {},
     "output_type": "execute_result"
    }
   ],
   "source": [
    "sales_complete = pd.merge(empty_df, train_monthly, on=[\"date_block_num\",\"item_id\",\"shop_id\"], how=\"left\")\n",
    "print(len(sales_complete))\n",
    "sales_complete.head()"
   ]
  },
  {
   "cell_type": "code",
   "execution_count": 21,
   "metadata": {},
   "outputs": [
    {
     "data": {
      "text/plain": [
       "True"
      ]
     },
     "execution_count": 21,
     "metadata": {},
     "output_type": "execute_result"
    }
   ],
   "source": [
    "sales_complete.loc[(sales_complete[\"date_block_num\"]==0) &\n",
    "                  (sales_complete[\"shop_id\"]==59) &\n",
    "                  (sales_complete[\"item_id\"]==22154),'item_mean_price'].values[0]==999"
   ]
  },
  {
   "cell_type": "code",
   "execution_count": 22,
   "metadata": {},
   "outputs": [
    {
     "data": {
      "text/plain": [
       "date_block_num            0\n",
       "item_id                   0\n",
       "shop_id                   0\n",
       "item_category_id    6134536\n",
       "item_mean_price     6134536\n",
       "item_total_sold     6134536\n",
       "item_cnt_month      6134536\n",
       "item_cnt_mean       6134536\n",
       "transactions        6134536\n",
       "dtype: int64"
      ]
     },
     "execution_count": 22,
     "metadata": {},
     "output_type": "execute_result"
    }
   ],
   "source": [
    "sales_complete.isnull().sum()"
   ]
  },
  {
   "cell_type": "markdown",
   "metadata": {},
   "source": [
    "## Fill NA values"
   ]
  },
  {
   "cell_type": "code",
   "execution_count": 29,
   "metadata": {},
   "outputs": [],
   "source": [
    "itemxshop_infos = (sales_complete.groupby([\"item_id\",\"shop_id\"])\n",
    "                  .agg({\"item_category_id\":\"first\", \"item_mean_price\":\"mean\"})\n",
    "                  .reset_index())\n",
    "sales_complete.update(sales_complete.drop([\"item_category_id\",\"item_mean_price\"], axis=1)\n",
    "                      .merge(itemxshop_infos,\"left\"))\n"
   ]
  },
  {
   "cell_type": "code",
   "execution_count": 30,
   "metadata": {},
   "outputs": [
    {
     "data": {
      "text/plain": [
       "date_block_num            0\n",
       "item_id                   0\n",
       "shop_id                   0\n",
       "item_category_id    2946712\n",
       "item_mean_price     2946712\n",
       "item_total_sold     6134536\n",
       "item_cnt_month      6134536\n",
       "item_cnt_mean       6134536\n",
       "transactions        6134536\n",
       "dtype: int64"
      ]
     },
     "execution_count": 30,
     "metadata": {},
     "output_type": "execute_result"
    }
   ],
   "source": [
    "sales_complete.isnull().sum()"
   ]
  },
  {
   "cell_type": "code",
   "execution_count": 33,
   "metadata": {},
   "outputs": [],
   "source": [
    "item_infos = (sales_complete.groupby([\"item_id\"])\n",
    "                  .agg({\"item_category_id\":\"first\", \"item_mean_price\":\"mean\"})\n",
    "                  .reset_index())\n",
    "sales_complete.update(sales_complete.drop([\"item_category_id\",\"item_mean_price\"], axis=1)\n",
    "                      .merge(item_infos,\"left\"))"
   ]
  },
  {
   "cell_type": "code",
   "execution_count": 34,
   "metadata": {},
   "outputs": [
    {
     "data": {
      "text/plain": [
       "date_block_num            0\n",
       "item_id                   0\n",
       "shop_id                   0\n",
       "item_category_id          0\n",
       "item_mean_price           0\n",
       "item_total_sold     6134536\n",
       "item_cnt_month      6134536\n",
       "item_cnt_mean       6134536\n",
       "transactions        6134536\n",
       "dtype: int64"
      ]
     },
     "execution_count": 34,
     "metadata": {},
     "output_type": "execute_result"
    }
   ],
   "source": [
    "sales_complete.isnull().sum()"
   ]
  },
  {
   "cell_type": "code",
   "execution_count": 35,
   "metadata": {},
   "outputs": [],
   "source": [
    "sales_complete_fill = sales_complete.fillna(0)"
   ]
  },
  {
   "cell_type": "code",
   "execution_count": 37,
   "metadata": {},
   "outputs": [
    {
     "data": {
      "text/plain": [
       "date_block_num      0\n",
       "item_id             0\n",
       "shop_id             0\n",
       "item_category_id    0\n",
       "item_mean_price     0\n",
       "item_total_sold     0\n",
       "item_cnt_month      0\n",
       "item_cnt_mean       0\n",
       "transactions        0\n",
       "dtype: int64"
      ]
     },
     "execution_count": 37,
     "metadata": {},
     "output_type": "execute_result"
    }
   ],
   "source": [
    "sales_complete_fill.isnull().sum()"
   ]
  },
  {
   "cell_type": "code",
   "execution_count": 38,
   "metadata": {},
   "outputs": [],
   "source": [
    "# Extract time based features.\n",
    "sales_complete_fill['year'] = sales_complete_fill['date_block_num'].apply(lambda x: ((x//12) + 2013))\n",
    "sales_complete_fill['month'] = sales_complete_fill['date_block_num'].apply(lambda x: (x % 12))"
   ]
  },
  {
   "cell_type": "markdown",
   "metadata": {},
   "source": [
    "## Simple EDA"
   ]
  },
  {
   "cell_type": "code",
   "execution_count": 40,
   "metadata": {},
   "outputs": [
    {
     "data": {
      "image/png": "[encoded data removed]",
      "text/plain": [
       "<Figure size 432x288 with 1 Axes>"
      ]
     },
     "metadata": {},
     "output_type": "display_data"
    }
   ],
   "source": [
    "total_sales_monthly=sales_complete_fill.groupby(\"date_block_num\").agg({\"item_cnt_month\":\"sum\"}).reset_index()\n",
    "plt.plot(total_sales_monthly[\"date_block_num\"], total_sales_monthly[\"item_cnt_month\"])\n",
    "plt.show()"
   ]
  },
  {
   "cell_type": "code",
   "execution_count": 41,
   "metadata": {},
   "outputs": [
    {
     "data": {
      "image/png": "[encoded data removed]",
      "text/plain": [
       "<Figure size 432x288 with 1 Axes>"
      ]
     },
     "metadata": {},
     "output_type": "display_data"
    }
   ],
   "source": [
    "mean_sales_monthly = sales_complete_fill.groupby(\"month\").agg({\"item_cnt_month\":\"mean\"}).reset_index()\n",
    "plt.plot(mean_sales_monthly[\"month\"], mean_sales_monthly[\"item_cnt_month\"])\n",
    "plt.show()"
   ]
  },
  {
   "cell_type": "code",
   "execution_count": 44,
   "metadata": {},
   "outputs": [
    {
     "data": {
      "image/png": "[encoded data removed]",
      "text/plain": [
       "<Figure size 432x288 with 1 Axes>"
      ]
     },
     "metadata": {},
     "output_type": "display_data"
    }
   ],
   "source": [
    "sum_sales_monthly = sales_complete_fill.groupby(\"month\").agg({\"item_cnt_month\":\"sum\"}).reset_index()\n",
    "plt.plot(sum_sales_monthly[\"month\"], sum_sales_monthly[\"item_cnt_month\"])\n",
    "plt.show()"
   ]
  },
  {
   "cell_type": "code",
   "execution_count": 46,
   "metadata": {},
   "outputs": [
    {
     "data": {
      "image/png": "[encoded data removed]",
      "text/plain": [
       "<Figure size 432x288 with 1 Axes>"
      ]
     },
     "metadata": {},
     "output_type": "display_data"
    }
   ],
   "source": [
    "category_sales_mean = sales_complete_fill.groupby(\"item_category_id\").agg({\"item_cnt_month\":\"sum\"}).reset_index()\n",
    "plt.bar(category_sales_mean[\"item_category_id\"], category_sales_mean[\"item_cnt_month\"])\n",
    "plt.show()"
   ]
  },
  {
   "cell_type": "markdown",
   "metadata": {},
   "source": [
    "## EDA to remove outliers"
   ]
  },
  {
   "cell_type": "code",
   "execution_count": 48,
   "metadata": {},
   "outputs": [
    {
     "data": {
      "image/png": "[encoded data removed]",
      "text/plain": [
       "<Figure size 1584x576 with 1 Axes>"
      ]
     },
     "metadata": {},
     "output_type": "display_data"
    }
   ],
   "source": [
    "plt.subplots(figsize=(22, 8))\n",
    "sns.boxplot(sales_complete_fill['item_cnt_month'])\n",
    "plt.show()\n"
   ]
  },
  {
   "cell_type": "code",
   "execution_count": 50,
   "metadata": {},
   "outputs": [
    {
     "data": {
      "image/png": "[encoded data removed]",
      "text/plain": [
       "<Figure size 576x576 with 3 Axes>"
      ]
     },
     "metadata": {},
     "output_type": "display_data"
    }
   ],
   "source": [
    "sns.jointplot(x=\"item_cnt_month\", y=\"item_total_sold\", data=sales_complete_fill, height=8)\n",
    "plt.show()"
   ]
  },
  {
   "cell_type": "markdown",
   "metadata": {},
   "source": [
    "Decided not to remove any outliers"
   ]
  },
  {
   "cell_type": "markdown",
   "metadata": {},
   "source": [
    "## Create label"
   ]
  },
  {
   "cell_type": "markdown",
   "metadata": {},
   "source": [
    "Label = next month sellings"
   ]
  },
  {
   "cell_type": "code",
   "execution_count": 62,
   "metadata": {},
   "outputs": [],
   "source": [
    "sales_complete_fill['item_cnt_next_month'] = (sales_complete_fill.sort_values(\"date_block_num\")\n",
    "                                   .groupby([\"item_id\",\"shop_id\"])[\"item_cnt_month\"].shift(-1))"
   ]
  },
  {
   "cell_type": "code",
   "execution_count": 67,
   "metadata": {},
   "outputs": [
    {
     "data": {
      "text/html": [
       "<div>\n",
       "<style scoped>\n",
       "    .dataframe tbody tr th:only-of-type {\n",
       "        vertical-align: middle;\n",
       "    }\n",
       "\n",
       "    .dataframe tbody tr th {\n",
       "        vertical-align: top;\n",
       "    }\n",
       "\n",
       "    .dataframe thead th {\n",
       "        text-align: right;\n",
       "    }\n",
       "</style>\n",
       "<table border=\"1\" class=\"dataframe\">\n",
       "  <thead>\n",
       "    <tr style=\"text-align: right;\">\n",
       "      <th></th>\n",
       "      <th>date_block_num</th>\n",
       "      <th>item_id</th>\n",
       "      <th>shop_id</th>\n",
       "      <th>item_category_id</th>\n",
       "      <th>item_mean_price</th>\n",
       "      <th>item_total_sold</th>\n",
       "      <th>item_cnt_month</th>\n",
       "      <th>item_cnt_mean</th>\n",
       "      <th>transactions</th>\n",
       "      <th>year</th>\n",
       "      <th>month</th>\n",
       "      <th>item_cnt_next_month</th>\n",
       "    </tr>\n",
       "  </thead>\n",
       "  <tbody>\n",
       "    <tr>\n",
       "      <th>421</th>\n",
       "      <td>0</td>\n",
       "      <td>30</td>\n",
       "      <td>3</td>\n",
       "      <td>40.0</td>\n",
       "      <td>274.210695</td>\n",
       "      <td>0.0</td>\n",
       "      <td>0.0</td>\n",
       "      <td>0.00</td>\n",
       "      <td>0.0</td>\n",
       "      <td>2013</td>\n",
       "      <td>0</td>\n",
       "      <td>4.0</td>\n",
       "    </tr>\n",
       "    <tr>\n",
       "      <th>198493</th>\n",
       "      <td>1</td>\n",
       "      <td>30</td>\n",
       "      <td>3</td>\n",
       "      <td>40.0</td>\n",
       "      <td>274.210695</td>\n",
       "      <td>1596.0</td>\n",
       "      <td>4.0</td>\n",
       "      <td>1.00</td>\n",
       "      <td>4.0</td>\n",
       "      <td>2013</td>\n",
       "      <td>1</td>\n",
       "      <td>5.0</td>\n",
       "    </tr>\n",
       "    <tr>\n",
       "      <th>396565</th>\n",
       "      <td>2</td>\n",
       "      <td>30</td>\n",
       "      <td>3</td>\n",
       "      <td>40.0</td>\n",
       "      <td>274.210695</td>\n",
       "      <td>1596.0</td>\n",
       "      <td>5.0</td>\n",
       "      <td>1.25</td>\n",
       "      <td>4.0</td>\n",
       "      <td>2013</td>\n",
       "      <td>2</td>\n",
       "      <td>2.0</td>\n",
       "    </tr>\n",
       "  </tbody>\n",
       "</table>\n",
       "</div>"
      ],
      "text/plain": [
       "        date_block_num  item_id  shop_id  item_category_id  item_mean_price  \\\n",
       "421                  0       30        3              40.0       274.210695   \n",
       "198493               1       30        3              40.0       274.210695   \n",
       "396565               2       30        3              40.0       274.210695   \n",
       "\n",
       "        item_total_sold  item_cnt_month  item_cnt_mean  transactions  year  \\\n",
       "421                 0.0             0.0           0.00           0.0  2013   \n",
       "198493           1596.0             4.0           1.00           4.0  2013   \n",
       "396565           1596.0             5.0           1.25           4.0  2013   \n",
       "\n",
       "        month  item_cnt_next_month  \n",
       "421         0                  4.0  \n",
       "198493      1                  5.0  \n",
       "396565      2                  2.0  "
      ]
     },
     "execution_count": 67,
     "metadata": {},
     "output_type": "execute_result"
    }
   ],
   "source": [
    "sales_complete_fill.loc[(sales_complete_fill[\"shop_id\"]==3) & (sales_complete_fill[\"item_id\"]==30),].head(3)"
   ]
  },
  {
   "cell_type": "code",
   "execution_count": 72,
   "metadata": {},
   "outputs": [
    {
     "name": "stdout",
     "output_type": "stream",
     "text": [
      "198072\n"
     ]
    },
    {
     "data": {
      "text/plain": [
       "date_block_num              0\n",
       "item_id                     0\n",
       "shop_id                     0\n",
       "item_category_id            0\n",
       "item_mean_price             0\n",
       "item_total_sold             0\n",
       "item_cnt_month              0\n",
       "item_cnt_mean               0\n",
       "transactions                0\n",
       "year                        0\n",
       "month                       0\n",
       "item_cnt_next_month    198072\n",
       "dtype: int64"
      ]
     },
     "execution_count": 72,
     "metadata": {},
     "output_type": "execute_result"
    }
   ],
   "source": [
    "print(len(sales_complete_fill.loc[sales_complete_fill[\"date_block_num\"]==33]))\n",
    "sales_complete_fill.isnull().sum()"
   ]
  },
  {
   "cell_type": "markdown",
   "metadata": {},
   "source": [
    "# Feature engineering"
   ]
  },
  {
   "cell_type": "markdown",
   "metadata": {},
   "source": [
    "- no longer exists -> boolean True if product not sold for 6 months\n",
    "- mean category sold over month OK\n",
    "- total category sold over month OK\n",
    "- mean shop sold over month OK\n",
    "- total category sold over month OK\n",
    "- trend? over 3/\n",
    "- Time-based mean for categories/shops"
   ]
  },
  {
   "cell_type": "markdown",
   "metadata": {},
   "source": [
    "#### Category based features"
   ]
  },
  {
   "cell_type": "code",
   "execution_count": 75,
   "metadata": {},
   "outputs": [
    {
     "data": {
      "text/html": [
       "<div>\n",
       "<style scoped>\n",
       "    .dataframe tbody tr th:only-of-type {\n",
       "        vertical-align: middle;\n",
       "    }\n",
       "\n",
       "    .dataframe tbody tr th {\n",
       "        vertical-align: top;\n",
       "    }\n",
       "\n",
       "    .dataframe thead th {\n",
       "        text-align: right;\n",
       "    }\n",
       "</style>\n",
       "<table border=\"1\" class=\"dataframe\">\n",
       "  <thead>\n",
       "    <tr style=\"text-align: right;\">\n",
       "      <th></th>\n",
       "      <th>date_block_num</th>\n",
       "      <th>item_category_id</th>\n",
       "      <th>cat_total_sold</th>\n",
       "      <th>cat_mean_sold</th>\n",
       "      <th>cat_mean_price</th>\n",
       "    </tr>\n",
       "  </thead>\n",
       "  <tbody>\n",
       "    <tr>\n",
       "      <th>0</th>\n",
       "      <td>0</td>\n",
       "      <td>2.0</td>\n",
       "      <td>296.0</td>\n",
       "      <td>0.704762</td>\n",
       "      <td>2004.917482</td>\n",
       "    </tr>\n",
       "    <tr>\n",
       "      <th>1</th>\n",
       "      <td>0</td>\n",
       "      <td>3.0</td>\n",
       "      <td>0.0</td>\n",
       "      <td>0.000000</td>\n",
       "      <td>2045.854253</td>\n",
       "    </tr>\n",
       "    <tr>\n",
       "      <th>2</th>\n",
       "      <td>0</td>\n",
       "      <td>5.0</td>\n",
       "      <td>90.0</td>\n",
       "      <td>0.535714</td>\n",
       "      <td>599.593221</td>\n",
       "    </tr>\n",
       "    <tr>\n",
       "      <th>3</th>\n",
       "      <td>0</td>\n",
       "      <td>6.0</td>\n",
       "      <td>435.0</td>\n",
       "      <td>1.150794</td>\n",
       "      <td>2387.060418</td>\n",
       "    </tr>\n",
       "    <tr>\n",
       "      <th>4</th>\n",
       "      <td>0</td>\n",
       "      <td>7.0</td>\n",
       "      <td>0.0</td>\n",
       "      <td>0.000000</td>\n",
       "      <td>2705.906307</td>\n",
       "    </tr>\n",
       "  </tbody>\n",
       "</table>\n",
       "</div>"
      ],
      "text/plain": [
       "   date_block_num  item_category_id  cat_total_sold  cat_mean_sold  \\\n",
       "0               0               2.0           296.0       0.704762   \n",
       "1               0               3.0             0.0       0.000000   \n",
       "2               0               5.0            90.0       0.535714   \n",
       "3               0               6.0           435.0       1.150794   \n",
       "4               0               7.0             0.0       0.000000   \n",
       "\n",
       "   cat_mean_price  \n",
       "0     2004.917482  \n",
       "1     2045.854253  \n",
       "2      599.593221  \n",
       "3     2387.060418  \n",
       "4     2705.906307  "
      ]
     },
     "execution_count": 75,
     "metadata": {},
     "output_type": "execute_result"
    }
   ],
   "source": [
    "gp_cat = (sales_complete_fill.groupby([\"date_block_num\",\"item_category_id\"])\n",
    "          .agg({\"item_cnt_month\":[\"sum\",\"mean\"], \"item_mean_price\":\"mean\"})\n",
    "         .reset_index())\n",
    "gp_cat.columns = [\"date_block_num\", \"item_category_id\", \"cat_total_sold\", \"cat_mean_sold\", \"cat_mean_price\"]\n",
    "gp_cat.head()"
   ]
  },
  {
   "cell_type": "code",
   "execution_count": 76,
   "metadata": {},
   "outputs": [
    {
     "data": {
      "text/html": [
       "<div>\n",
       "<style scoped>\n",
       "    .dataframe tbody tr th:only-of-type {\n",
       "        vertical-align: middle;\n",
       "    }\n",
       "\n",
       "    .dataframe tbody tr th {\n",
       "        vertical-align: top;\n",
       "    }\n",
       "\n",
       "    .dataframe thead th {\n",
       "        text-align: right;\n",
       "    }\n",
       "</style>\n",
       "<table border=\"1\" class=\"dataframe\">\n",
       "  <thead>\n",
       "    <tr style=\"text-align: right;\">\n",
       "      <th></th>\n",
       "      <th>date_block_num</th>\n",
       "      <th>item_id</th>\n",
       "      <th>shop_id</th>\n",
       "      <th>item_category_id</th>\n",
       "      <th>item_mean_price</th>\n",
       "      <th>item_total_sold</th>\n",
       "      <th>item_cnt_month</th>\n",
       "      <th>item_cnt_mean</th>\n",
       "      <th>transactions</th>\n",
       "      <th>year</th>\n",
       "      <th>month</th>\n",
       "      <th>item_cnt_next_month</th>\n",
       "      <th>cat_total_sold</th>\n",
       "      <th>cat_mean_sold</th>\n",
       "      <th>cat_mean_price</th>\n",
       "    </tr>\n",
       "  </thead>\n",
       "  <tbody>\n",
       "    <tr>\n",
       "      <th>0</th>\n",
       "      <td>0</td>\n",
       "      <td>8192</td>\n",
       "      <td>2</td>\n",
       "      <td>38.0</td>\n",
       "      <td>391.37405</td>\n",
       "      <td>0.0</td>\n",
       "      <td>0.0</td>\n",
       "      <td>0.0</td>\n",
       "      <td>0.0</td>\n",
       "      <td>2013</td>\n",
       "      <td>0</td>\n",
       "      <td>0.0</td>\n",
       "      <td>374.0</td>\n",
       "      <td>0.081695</td>\n",
       "      <td>743.872316</td>\n",
       "    </tr>\n",
       "    <tr>\n",
       "      <th>1</th>\n",
       "      <td>0</td>\n",
       "      <td>8192</td>\n",
       "      <td>3</td>\n",
       "      <td>38.0</td>\n",
       "      <td>391.37405</td>\n",
       "      <td>0.0</td>\n",
       "      <td>0.0</td>\n",
       "      <td>0.0</td>\n",
       "      <td>0.0</td>\n",
       "      <td>2013</td>\n",
       "      <td>0</td>\n",
       "      <td>0.0</td>\n",
       "      <td>374.0</td>\n",
       "      <td>0.081695</td>\n",
       "      <td>743.872316</td>\n",
       "    </tr>\n",
       "  </tbody>\n",
       "</table>\n",
       "</div>"
      ],
      "text/plain": [
       "   date_block_num  item_id  shop_id  item_category_id  item_mean_price  \\\n",
       "0               0     8192        2              38.0        391.37405   \n",
       "1               0     8192        3              38.0        391.37405   \n",
       "\n",
       "   item_total_sold  item_cnt_month  item_cnt_mean  transactions  year  month  \\\n",
       "0              0.0             0.0            0.0           0.0  2013      0   \n",
       "1              0.0             0.0            0.0           0.0  2013      0   \n",
       "\n",
       "   item_cnt_next_month  cat_total_sold  cat_mean_sold  cat_mean_price  \n",
       "0                  0.0           374.0       0.081695      743.872316  \n",
       "1                  0.0           374.0       0.081695      743.872316  "
      ]
     },
     "execution_count": 76,
     "metadata": {},
     "output_type": "execute_result"
    }
   ],
   "source": [
    "train_features = pd.merge(sales_complete_fill, gp_cat, how=\"left\", on=[\"date_block_num\",\"item_category_id\"])\n",
    "train_features.head(2)"
   ]
  },
  {
   "cell_type": "markdown",
   "metadata": {},
   "source": [
    "## Shop based features"
   ]
  },
  {
   "cell_type": "code",
   "execution_count": 80,
   "metadata": {},
   "outputs": [
    {
     "data": {
      "text/html": [
       "<div>\n",
       "<style scoped>\n",
       "    .dataframe tbody tr th:only-of-type {\n",
       "        vertical-align: middle;\n",
       "    }\n",
       "\n",
       "    .dataframe tbody tr th {\n",
       "        vertical-align: top;\n",
       "    }\n",
       "\n",
       "    .dataframe thead th {\n",
       "        text-align: right;\n",
       "    }\n",
       "</style>\n",
       "<table border=\"1\" class=\"dataframe\">\n",
       "  <thead>\n",
       "    <tr style=\"text-align: right;\">\n",
       "      <th></th>\n",
       "      <th>date_block_num</th>\n",
       "      <th>shop_id</th>\n",
       "      <th>shop_total_sold</th>\n",
       "      <th>shop_mean_sold</th>\n",
       "      <th>shop_mean_price</th>\n",
       "    </tr>\n",
       "  </thead>\n",
       "  <tbody>\n",
       "    <tr>\n",
       "      <th>0</th>\n",
       "      <td>0</td>\n",
       "      <td>2</td>\n",
       "      <td>250.0</td>\n",
       "      <td>0.053011</td>\n",
       "      <td>1019.611393</td>\n",
       "    </tr>\n",
       "    <tr>\n",
       "      <th>1</th>\n",
       "      <td>0</td>\n",
       "      <td>3</td>\n",
       "      <td>187.0</td>\n",
       "      <td>0.039652</td>\n",
       "      <td>1019.611393</td>\n",
       "    </tr>\n",
       "    <tr>\n",
       "      <th>2</th>\n",
       "      <td>0</td>\n",
       "      <td>4</td>\n",
       "      <td>459.0</td>\n",
       "      <td>0.097328</td>\n",
       "      <td>1019.611393</td>\n",
       "    </tr>\n",
       "    <tr>\n",
       "      <th>3</th>\n",
       "      <td>0</td>\n",
       "      <td>5</td>\n",
       "      <td>0.0</td>\n",
       "      <td>0.000000</td>\n",
       "      <td>1019.611393</td>\n",
       "    </tr>\n",
       "    <tr>\n",
       "      <th>4</th>\n",
       "      <td>0</td>\n",
       "      <td>6</td>\n",
       "      <td>872.0</td>\n",
       "      <td>0.184902</td>\n",
       "      <td>1019.611393</td>\n",
       "    </tr>\n",
       "  </tbody>\n",
       "</table>\n",
       "</div>"
      ],
      "text/plain": [
       "   date_block_num  shop_id  shop_total_sold  shop_mean_sold  shop_mean_price\n",
       "0               0        2            250.0        0.053011      1019.611393\n",
       "1               0        3            187.0        0.039652      1019.611393\n",
       "2               0        4            459.0        0.097328      1019.611393\n",
       "3               0        5              0.0        0.000000      1019.611393\n",
       "4               0        6            872.0        0.184902      1019.611393"
      ]
     },
     "execution_count": 80,
     "metadata": {},
     "output_type": "execute_result"
    }
   ],
   "source": [
    "gp_shop = (train_features.groupby([\"date_block_num\",\"shop_id\"])\n",
    "          .agg({\"item_cnt_month\":[\"sum\",\"mean\"], \"item_mean_price\":\"mean\"})\n",
    "         .reset_index())\n",
    "gp_shop.columns = [\"date_block_num\", \"shop_id\", \"shop_total_sold\", \"shop_mean_sold\", \"shop_mean_price\"]\n",
    "gp_shop.head()"
   ]
  },
  {
   "cell_type": "code",
   "execution_count": 81,
   "metadata": {},
   "outputs": [
    {
     "data": {
      "text/html": [
       "<div>\n",
       "<style scoped>\n",
       "    .dataframe tbody tr th:only-of-type {\n",
       "        vertical-align: middle;\n",
       "    }\n",
       "\n",
       "    .dataframe tbody tr th {\n",
       "        vertical-align: top;\n",
       "    }\n",
       "\n",
       "    .dataframe thead th {\n",
       "        text-align: right;\n",
       "    }\n",
       "</style>\n",
       "<table border=\"1\" class=\"dataframe\">\n",
       "  <thead>\n",
       "    <tr style=\"text-align: right;\">\n",
       "      <th></th>\n",
       "      <th>date_block_num</th>\n",
       "      <th>item_id</th>\n",
       "      <th>shop_id</th>\n",
       "      <th>item_category_id</th>\n",
       "      <th>item_mean_price</th>\n",
       "      <th>item_total_sold</th>\n",
       "      <th>item_cnt_month</th>\n",
       "      <th>item_cnt_mean</th>\n",
       "      <th>transactions</th>\n",
       "      <th>year</th>\n",
       "      <th>month</th>\n",
       "      <th>item_cnt_next_month</th>\n",
       "      <th>cat_total_sold</th>\n",
       "      <th>cat_mean_sold</th>\n",
       "      <th>cat_mean_price</th>\n",
       "      <th>shop_total_sold</th>\n",
       "      <th>shop_mean_sold</th>\n",
       "      <th>shop_mean_price</th>\n",
       "    </tr>\n",
       "  </thead>\n",
       "  <tbody>\n",
       "    <tr>\n",
       "      <th>0</th>\n",
       "      <td>0</td>\n",
       "      <td>8192</td>\n",
       "      <td>2</td>\n",
       "      <td>38.0</td>\n",
       "      <td>391.37405</td>\n",
       "      <td>0.0</td>\n",
       "      <td>0.0</td>\n",
       "      <td>0.0</td>\n",
       "      <td>0.0</td>\n",
       "      <td>2013</td>\n",
       "      <td>0</td>\n",
       "      <td>0.0</td>\n",
       "      <td>374.0</td>\n",
       "      <td>0.081695</td>\n",
       "      <td>743.872316</td>\n",
       "      <td>250.0</td>\n",
       "      <td>0.053011</td>\n",
       "      <td>1019.611393</td>\n",
       "    </tr>\n",
       "    <tr>\n",
       "      <th>1</th>\n",
       "      <td>0</td>\n",
       "      <td>8192</td>\n",
       "      <td>3</td>\n",
       "      <td>38.0</td>\n",
       "      <td>391.37405</td>\n",
       "      <td>0.0</td>\n",
       "      <td>0.0</td>\n",
       "      <td>0.0</td>\n",
       "      <td>0.0</td>\n",
       "      <td>2013</td>\n",
       "      <td>0</td>\n",
       "      <td>0.0</td>\n",
       "      <td>374.0</td>\n",
       "      <td>0.081695</td>\n",
       "      <td>743.872316</td>\n",
       "      <td>187.0</td>\n",
       "      <td>0.039652</td>\n",
       "      <td>1019.611393</td>\n",
       "    </tr>\n",
       "  </tbody>\n",
       "</table>\n",
       "</div>"
      ],
      "text/plain": [
       "   date_block_num  item_id  shop_id  item_category_id  item_mean_price  \\\n",
       "0               0     8192        2              38.0        391.37405   \n",
       "1               0     8192        3              38.0        391.37405   \n",
       "\n",
       "   item_total_sold  item_cnt_month  item_cnt_mean  transactions  year  month  \\\n",
       "0              0.0             0.0            0.0           0.0  2013      0   \n",
       "1              0.0             0.0            0.0           0.0  2013      0   \n",
       "\n",
       "   item_cnt_next_month  cat_total_sold  cat_mean_sold  cat_mean_price  \\\n",
       "0                  0.0           374.0       0.081695      743.872316   \n",
       "1                  0.0           374.0       0.081695      743.872316   \n",
       "\n",
       "   shop_total_sold  shop_mean_sold  shop_mean_price  \n",
       "0            250.0        0.053011      1019.611393  \n",
       "1            187.0        0.039652      1019.611393  "
      ]
     },
     "execution_count": 81,
     "metadata": {},
     "output_type": "execute_result"
    }
   ],
   "source": [
    "train_features = pd.merge(train_features, gp_shop, how=\"left\", on=[\"date_block_num\",\"shop_id\"])\n",
    "train_features.head(2)"
   ]
  },
  {
   "cell_type": "markdown",
   "metadata": {},
   "source": [
    "## Item based features"
   ]
  },
  {
   "cell_type": "code",
   "execution_count": 85,
   "metadata": {},
   "outputs": [
    {
     "data": {
      "text/html": [
       "<div>\n",
       "<style scoped>\n",
       "    .dataframe tbody tr th:only-of-type {\n",
       "        vertical-align: middle;\n",
       "    }\n",
       "\n",
       "    .dataframe tbody tr th {\n",
       "        vertical-align: top;\n",
       "    }\n",
       "\n",
       "    .dataframe thead th {\n",
       "        text-align: right;\n",
       "    }\n",
       "</style>\n",
       "<table border=\"1\" class=\"dataframe\">\n",
       "  <thead>\n",
       "    <tr style=\"text-align: right;\">\n",
       "      <th></th>\n",
       "      <th>item_id</th>\n",
       "      <th>item_min_price</th>\n",
       "      <th>item_max_price</th>\n",
       "    </tr>\n",
       "  </thead>\n",
       "  <tbody>\n",
       "    <tr>\n",
       "      <th>0</th>\n",
       "      <td>30</td>\n",
       "      <td>274.210695</td>\n",
       "      <td>274.210695</td>\n",
       "    </tr>\n",
       "    <tr>\n",
       "      <th>1</th>\n",
       "      <td>31</td>\n",
       "      <td>507.062443</td>\n",
       "      <td>507.062443</td>\n",
       "    </tr>\n",
       "    <tr>\n",
       "      <th>2</th>\n",
       "      <td>32</td>\n",
       "      <td>223.382717</td>\n",
       "      <td>223.382717</td>\n",
       "    </tr>\n",
       "    <tr>\n",
       "      <th>3</th>\n",
       "      <td>33</td>\n",
       "      <td>237.420978</td>\n",
       "      <td>237.420978</td>\n",
       "    </tr>\n",
       "    <tr>\n",
       "      <th>4</th>\n",
       "      <td>38</td>\n",
       "      <td>2325.513333</td>\n",
       "      <td>2325.513333</td>\n",
       "    </tr>\n",
       "  </tbody>\n",
       "</table>\n",
       "</div>"
      ],
      "text/plain": [
       "   item_id  item_min_price  item_max_price\n",
       "0       30      274.210695      274.210695\n",
       "1       31      507.062443      507.062443\n",
       "2       32      223.382717      223.382717\n",
       "3       33      237.420978      237.420978\n",
       "4       38     2325.513333     2325.513333"
      ]
     },
     "execution_count": 85,
     "metadata": {},
     "output_type": "execute_result"
    }
   ],
   "source": [
    "gp_item = (train_features.groupby([\"item_id\"])\n",
    "          .agg({\"item_mean_price\":[\"min\",\"max\"]})\n",
    "         .reset_index())\n",
    "gp_item.columns = [\"item_id\", \"item_min_price\", \"item_max_price\"]\n",
    "gp_item.head()"
   ]
  },
  {
   "cell_type": "code",
   "execution_count": 86,
   "metadata": {},
   "outputs": [
    {
     "data": {
      "text/html": [
       "<div>\n",
       "<style scoped>\n",
       "    .dataframe tbody tr th:only-of-type {\n",
       "        vertical-align: middle;\n",
       "    }\n",
       "\n",
       "    .dataframe tbody tr th {\n",
       "        vertical-align: top;\n",
       "    }\n",
       "\n",
       "    .dataframe thead th {\n",
       "        text-align: right;\n",
       "    }\n",
       "</style>\n",
       "<table border=\"1\" class=\"dataframe\">\n",
       "  <thead>\n",
       "    <tr style=\"text-align: right;\">\n",
       "      <th></th>\n",
       "      <th>date_block_num</th>\n",
       "      <th>item_id</th>\n",
       "      <th>shop_id</th>\n",
       "      <th>item_category_id</th>\n",
       "      <th>item_mean_price</th>\n",
       "      <th>item_total_sold</th>\n",
       "      <th>item_cnt_month</th>\n",
       "      <th>item_cnt_mean</th>\n",
       "      <th>transactions</th>\n",
       "      <th>year</th>\n",
       "      <th>month</th>\n",
       "      <th>item_cnt_next_month</th>\n",
       "      <th>cat_total_sold</th>\n",
       "      <th>cat_mean_sold</th>\n",
       "      <th>cat_mean_price</th>\n",
       "      <th>shop_total_sold</th>\n",
       "      <th>shop_mean_sold</th>\n",
       "      <th>shop_mean_price</th>\n",
       "      <th>item_min_price</th>\n",
       "      <th>item_max_price</th>\n",
       "    </tr>\n",
       "  </thead>\n",
       "  <tbody>\n",
       "    <tr>\n",
       "      <th>0</th>\n",
       "      <td>0</td>\n",
       "      <td>8192</td>\n",
       "      <td>2</td>\n",
       "      <td>38.0</td>\n",
       "      <td>391.37405</td>\n",
       "      <td>0.0</td>\n",
       "      <td>0.0</td>\n",
       "      <td>0.0</td>\n",
       "      <td>0.0</td>\n",
       "      <td>2013</td>\n",
       "      <td>0</td>\n",
       "      <td>0.0</td>\n",
       "      <td>374.0</td>\n",
       "      <td>0.081695</td>\n",
       "      <td>743.872316</td>\n",
       "      <td>250.0</td>\n",
       "      <td>0.053011</td>\n",
       "      <td>1019.611393</td>\n",
       "      <td>391.37405</td>\n",
       "      <td>391.37405</td>\n",
       "    </tr>\n",
       "    <tr>\n",
       "      <th>1</th>\n",
       "      <td>0</td>\n",
       "      <td>8192</td>\n",
       "      <td>3</td>\n",
       "      <td>38.0</td>\n",
       "      <td>391.37405</td>\n",
       "      <td>0.0</td>\n",
       "      <td>0.0</td>\n",
       "      <td>0.0</td>\n",
       "      <td>0.0</td>\n",
       "      <td>2013</td>\n",
       "      <td>0</td>\n",
       "      <td>0.0</td>\n",
       "      <td>374.0</td>\n",
       "      <td>0.081695</td>\n",
       "      <td>743.872316</td>\n",
       "      <td>187.0</td>\n",
       "      <td>0.039652</td>\n",
       "      <td>1019.611393</td>\n",
       "      <td>391.37405</td>\n",
       "      <td>391.37405</td>\n",
       "    </tr>\n",
       "  </tbody>\n",
       "</table>\n",
       "</div>"
      ],
      "text/plain": [
       "   date_block_num  item_id  shop_id  item_category_id  item_mean_price  \\\n",
       "0               0     8192        2              38.0        391.37405   \n",
       "1               0     8192        3              38.0        391.37405   \n",
       "\n",
       "   item_total_sold  item_cnt_month  item_cnt_mean  transactions  year  month  \\\n",
       "0              0.0             0.0            0.0           0.0  2013      0   \n",
       "1              0.0             0.0            0.0           0.0  2013      0   \n",
       "\n",
       "   item_cnt_next_month  cat_total_sold  cat_mean_sold  cat_mean_price  \\\n",
       "0                  0.0           374.0       0.081695      743.872316   \n",
       "1                  0.0           374.0       0.081695      743.872316   \n",
       "\n",
       "   shop_total_sold  shop_mean_sold  shop_mean_price  item_min_price  \\\n",
       "0            250.0        0.053011      1019.611393       391.37405   \n",
       "1            187.0        0.039652      1019.611393       391.37405   \n",
       "\n",
       "   item_max_price  \n",
       "0       391.37405  \n",
       "1       391.37405  "
      ]
     },
     "execution_count": 86,
     "metadata": {},
     "output_type": "execute_result"
    }
   ],
   "source": [
    "train_features = pd.merge(train_features, gp_item, how=\"left\", on=[\"item_id\"])\n",
    "train_features.head(2)"
   ]
  },
  {
   "cell_type": "code",
   "execution_count": 87,
   "metadata": {},
   "outputs": [
    {
     "data": {
      "text/html": [
       "<div>\n",
       "<style scoped>\n",
       "    .dataframe tbody tr th:only-of-type {\n",
       "        vertical-align: middle;\n",
       "    }\n",
       "\n",
       "    .dataframe tbody tr th {\n",
       "        vertical-align: top;\n",
       "    }\n",
       "\n",
       "    .dataframe thead th {\n",
       "        text-align: right;\n",
       "    }\n",
       "</style>\n",
       "<table border=\"1\" class=\"dataframe\">\n",
       "  <thead>\n",
       "    <tr style=\"text-align: right;\">\n",
       "      <th></th>\n",
       "      <th>date_block_num</th>\n",
       "      <th>item_id</th>\n",
       "      <th>shop_id</th>\n",
       "      <th>item_category_id</th>\n",
       "      <th>item_mean_price</th>\n",
       "      <th>item_total_sold</th>\n",
       "      <th>item_cnt_month</th>\n",
       "      <th>item_cnt_mean</th>\n",
       "      <th>transactions</th>\n",
       "      <th>year</th>\n",
       "      <th>...</th>\n",
       "      <th>cat_total_sold</th>\n",
       "      <th>cat_mean_sold</th>\n",
       "      <th>cat_mean_price</th>\n",
       "      <th>shop_total_sold</th>\n",
       "      <th>shop_mean_sold</th>\n",
       "      <th>shop_mean_price</th>\n",
       "      <th>item_min_price</th>\n",
       "      <th>item_max_price</th>\n",
       "      <th>item_price_increase</th>\n",
       "      <th>item_price_decrease</th>\n",
       "    </tr>\n",
       "  </thead>\n",
       "  <tbody>\n",
       "    <tr>\n",
       "      <th>0</th>\n",
       "      <td>0</td>\n",
       "      <td>8192</td>\n",
       "      <td>2</td>\n",
       "      <td>38.0</td>\n",
       "      <td>391.37405</td>\n",
       "      <td>0.0</td>\n",
       "      <td>0.0</td>\n",
       "      <td>0.0</td>\n",
       "      <td>0.0</td>\n",
       "      <td>2013</td>\n",
       "      <td>...</td>\n",
       "      <td>374.0</td>\n",
       "      <td>0.081695</td>\n",
       "      <td>743.872316</td>\n",
       "      <td>250.0</td>\n",
       "      <td>0.053011</td>\n",
       "      <td>1019.611393</td>\n",
       "      <td>391.37405</td>\n",
       "      <td>391.37405</td>\n",
       "      <td>0.0</td>\n",
       "      <td>0.0</td>\n",
       "    </tr>\n",
       "    <tr>\n",
       "      <th>1</th>\n",
       "      <td>0</td>\n",
       "      <td>8192</td>\n",
       "      <td>3</td>\n",
       "      <td>38.0</td>\n",
       "      <td>391.37405</td>\n",
       "      <td>0.0</td>\n",
       "      <td>0.0</td>\n",
       "      <td>0.0</td>\n",
       "      <td>0.0</td>\n",
       "      <td>2013</td>\n",
       "      <td>...</td>\n",
       "      <td>374.0</td>\n",
       "      <td>0.081695</td>\n",
       "      <td>743.872316</td>\n",
       "      <td>187.0</td>\n",
       "      <td>0.039652</td>\n",
       "      <td>1019.611393</td>\n",
       "      <td>391.37405</td>\n",
       "      <td>391.37405</td>\n",
       "      <td>0.0</td>\n",
       "      <td>0.0</td>\n",
       "    </tr>\n",
       "  </tbody>\n",
       "</table>\n",
       "<p>2 rows × 22 columns</p>\n",
       "</div>"
      ],
      "text/plain": [
       "   date_block_num  item_id  shop_id  item_category_id  item_mean_price  \\\n",
       "0               0     8192        2              38.0        391.37405   \n",
       "1               0     8192        3              38.0        391.37405   \n",
       "\n",
       "   item_total_sold  item_cnt_month  item_cnt_mean  transactions  year  ...  \\\n",
       "0              0.0             0.0            0.0           0.0  2013  ...   \n",
       "1              0.0             0.0            0.0           0.0  2013  ...   \n",
       "\n",
       "   cat_total_sold  cat_mean_sold  cat_mean_price  shop_total_sold  \\\n",
       "0           374.0       0.081695      743.872316            250.0   \n",
       "1           374.0       0.081695      743.872316            187.0   \n",
       "\n",
       "   shop_mean_sold  shop_mean_price  item_min_price  item_max_price  \\\n",
       "0        0.053011      1019.611393       391.37405       391.37405   \n",
       "1        0.039652      1019.611393       391.37405       391.37405   \n",
       "\n",
       "   item_price_increase  item_price_decrease  \n",
       "0                  0.0                  0.0  \n",
       "1                  0.0                  0.0  \n",
       "\n",
       "[2 rows x 22 columns]"
      ]
     },
     "execution_count": 87,
     "metadata": {},
     "output_type": "execute_result"
    }
   ],
   "source": [
    "train_features[\"item_price_increase\"] = train_features[\"item_mean_price\"] - train_features[\"item_min_price\"]\n",
    "train_features[\"item_price_decrease\"] = train_features[\"item_mean_price\"] - train_features[\"item_max_price\"]\n",
    "train_features.head(2)"
   ]
  },
  {
   "cell_type": "markdown",
   "metadata": {},
   "source": [
    "### Add lag values"
   ]
  },
  {
   "cell_type": "code",
   "execution_count": 93,
   "metadata": {},
   "outputs": [
    {
     "data": {
      "text/plain": [
       "date_block_num               0\n",
       "item_id                      0\n",
       "shop_id                      0\n",
       "item_category_id             0\n",
       "item_mean_price              0\n",
       "item_total_sold              0\n",
       "item_cnt_month               0\n",
       "item_cnt_mean                0\n",
       "transactions                 0\n",
       "year                         0\n",
       "month                        0\n",
       "item_cnt_next_month     198072\n",
       "cat_total_sold               0\n",
       "cat_mean_sold                0\n",
       "cat_mean_price               0\n",
       "shop_total_sold              0\n",
       "shop_mean_sold               0\n",
       "shop_mean_price              0\n",
       "item_min_price               0\n",
       "item_max_price               0\n",
       "item_price_increase          0\n",
       "item_price_decrease          0\n",
       "item_cnt_month_lag1          0\n",
       "item_cnt_month_lag2          0\n",
       "item_cnt_month_lag3          0\n",
       "cat_total_sold_lag1          0\n",
       "cat_total_sold_lag2          0\n",
       "cat_total_sold_lag3          0\n",
       "shop_total_sold_lag1         0\n",
       "shop_total_sold_lag2         0\n",
       "shop_total_sold_lag3         0\n",
       "dtype: int64"
      ]
     },
     "execution_count": 93,
     "metadata": {},
     "output_type": "execute_result"
    }
   ],
   "source": [
    "lags = [1,2,3]\n",
    "train_features_lagged= train_features.copy()\n",
    "for col in [\"item_cnt_month\",\"cat_total_sold\", \"shop_total_sold\"]:\n",
    "    for lag in lags:\n",
    "        ft_name=col+'_lag'+str(lag)\n",
    "        train_features_lagged[ft_name] = (train_features_lagged.sort_values(\"date_block_num\")\n",
    "                                                               .groupby([\"item_id\",\"shop_id\"])[\"item_cnt_month\"]\n",
    "                                                               .shift(lag))\n",
    "train_features_lagged.loc[train_features_lagged[\"date_block_num\"]>=3].isnull().sum()"
   ]
  },
  {
   "cell_type": "markdown",
   "metadata": {},
   "source": [
    "## Train, valid, test"
   ]
  },
  {
   "cell_type": "code",
   "execution_count": 94,
   "metadata": {},
   "outputs": [],
   "source": [
    "train = train_features_lagged.loc[(train_features_lagged[\"date_block_num\"]>=3) & \n",
    "                                  (train_features_lagged[\"date_block_num\"]<=27)]\n",
    "valid = train_features_lagged.loc[(train_features_lagged[\"date_block_num\"]>=28) & \n",
    "                                  (train_features_lagged[\"date_block_num\"]<=32)]\n",
    "test = train_features_lagged.loc[(train_features_lagged[\"date_block_num\"]==33)]"
   ]
  },
  {
   "cell_type": "code",
   "execution_count": 97,
   "metadata": {},
   "outputs": [
    {
     "data": {
      "text/plain": [
       "date_block_num               0\n",
       "item_id                      0\n",
       "shop_id                      0\n",
       "item_category_id             0\n",
       "item_mean_price              0\n",
       "item_total_sold              0\n",
       "item_cnt_month               0\n",
       "item_cnt_mean                0\n",
       "transactions                 0\n",
       "year                         0\n",
       "month                        0\n",
       "item_cnt_next_month     198072\n",
       "cat_total_sold               0\n",
       "cat_mean_sold                0\n",
       "cat_mean_price               0\n",
       "shop_total_sold              0\n",
       "shop_mean_sold               0\n",
       "shop_mean_price              0\n",
       "item_min_price               0\n",
       "item_max_price               0\n",
       "item_price_increase          0\n",
       "item_price_decrease          0\n",
       "item_cnt_month_lag1          0\n",
       "item_cnt_month_lag2          0\n",
       "item_cnt_month_lag3          0\n",
       "cat_total_sold_lag1          0\n",
       "cat_total_sold_lag2          0\n",
       "cat_total_sold_lag3          0\n",
       "shop_total_sold_lag1         0\n",
       "shop_total_sold_lag2         0\n",
       "shop_total_sold_lag3         0\n",
       "dtype: int64"
      ]
     },
     "execution_count": 97,
     "metadata": {},
     "output_type": "execute_result"
    }
   ],
   "source": [
    "test.isnull().sum()"
   ]
  },
  {
   "cell_type": "code",
   "execution_count": 102,
   "metadata": {},
   "outputs": [],
   "source": [
    "X_train = train.drop([\"date_block_num\",\"item_cnt_next_month\"], axis=1)\n",
    "y_train = train[\"item_cnt_next_month\"]\n",
    "X_val = valid.drop([\"date_block_num\",\"item_cnt_next_month\"], axis=1)\n",
    "y_val = valid[\"item_cnt_next_month\"]"
   ]
  },
  {
   "cell_type": "code",
   "execution_count": 103,
   "metadata": {},
   "outputs": [
    {
     "name": "stdout",
     "output_type": "stream",
     "text": [
      "[18:53:58] WARNING: src/objective/regression_obj.cu:152: reg:linear is now deprecated in favor of reg:squarederror.\n",
      "[18:53:58] WARNING: src/learner.cc:686: Tree method is automatically selected to be 'approx' for faster speed. To use old behavior (exact greedy algorithm on single machine), set tree_method to 'exact'.\n",
      "[0]\tvalidation_0-rmse:3.58241\tvalidation_1-rmse:3.25852\n",
      "Multiple eval metrics have been passed: 'validation_1-rmse' will be used for early stopping.\n",
      "\n",
      "Will train until validation_1-rmse hasn't improved in 20 rounds.\n",
      "[20]\tvalidation_0-rmse:3.0037\tvalidation_1-rmse:2.85863\n",
      "[40]\tvalidation_0-rmse:2.9537\tvalidation_1-rmse:2.84677\n",
      "[60]\tvalidation_0-rmse:2.92044\tvalidation_1-rmse:2.83344\n",
      "[80]\tvalidation_0-rmse:2.89143\tvalidation_1-rmse:2.8262\n",
      "[100]\tvalidation_0-rmse:2.87665\tvalidation_1-rmse:2.8152\n",
      "[120]\tvalidation_0-rmse:2.86246\tvalidation_1-rmse:2.80498\n",
      "[140]\tvalidation_0-rmse:2.84529\tvalidation_1-rmse:2.79389\n",
      "[160]\tvalidation_0-rmse:2.83827\tvalidation_1-rmse:2.78861\n",
      "[180]\tvalidation_0-rmse:2.83126\tvalidation_1-rmse:2.78513\n",
      "Stopping. Best iteration:\n",
      "[174]\tvalidation_0-rmse:2.8322\tvalidation_1-rmse:2.78329\n",
      "\n"
     ]
    },
    {
     "data": {
      "text/plain": [
       "XGBRegressor(base_score=0.5, booster='gbtree', colsample_bylevel=1,\n",
       "             colsample_bynode=1, colsample_bytree=0.7, eta=0.3, gamma=0,\n",
       "             importance_type='gain', learning_rate=0.1, max_delta_step=0,\n",
       "             max_depth=8, min_child_weight=1000, missing=None, n_estimators=500,\n",
       "             n_jobs=1, nthread=None, objective='reg:linear', random_state=0,\n",
       "             reg_alpha=0, reg_lambda=1, scale_pos_weight=1, seed=0, silent=None,\n",
       "             subsample=0.7, verbosity=1)"
      ]
     },
     "execution_count": 103,
     "metadata": {},
     "output_type": "execute_result"
    }
   ],
   "source": [
    "xgbr = xgb.XGBRegressor(max_depth=8, \n",
    "                         n_estimators=500, \n",
    "                         min_child_weight=1000,  \n",
    "                         colsample_bytree=0.7, \n",
    "                         subsample=0.7, \n",
    "                         eta=0.3, \n",
    "                         seed=0)\n",
    "xgbr.fit(X_train, y_train,\n",
    "        eval_metric=\"rmse\", \n",
    "              eval_set=[(X_train, y_train), (X_val, y_val)], \n",
    "              verbose=20, \n",
    "              early_stopping_rounds=20)"
   ]
  },
  {
   "cell_type": "markdown",
   "metadata": {},
   "source": [
    "# Prediction"
   ]
  },
  {
   "cell_type": "code",
   "execution_count": 114,
   "metadata": {},
   "outputs": [
    {
     "name": "stdout",
     "output_type": "stream",
     "text": [
      "item_id                 0\n",
      "shop_id                 0\n",
      "item_category_id        0\n",
      "item_mean_price         0\n",
      "item_total_sold         0\n",
      "item_cnt_month          0\n",
      "item_cnt_mean           0\n",
      "transactions            0\n",
      "year                    0\n",
      "month                   0\n",
      "cat_total_sold          0\n",
      "cat_mean_sold           0\n",
      "cat_mean_price          0\n",
      "shop_total_sold         0\n",
      "shop_mean_sold          0\n",
      "shop_mean_price         0\n",
      "item_min_price          0\n",
      "item_max_price          0\n",
      "item_price_increase     0\n",
      "item_price_decrease     0\n",
      "item_cnt_month_lag1     0\n",
      "item_cnt_month_lag2     0\n",
      "item_cnt_month_lag3     0\n",
      "cat_total_sold_lag1     0\n",
      "cat_total_sold_lag2     0\n",
      "cat_total_sold_lag3     0\n",
      "shop_total_sold_lag1    0\n",
      "shop_total_sold_lag2    0\n",
      "shop_total_sold_lag3    0\n",
      "dtype: int64\n"
     ]
    },
    {
     "data": {
      "text/html": [
       "<div>\n",
       "<style scoped>\n",
       "    .dataframe tbody tr th:only-of-type {\n",
       "        vertical-align: middle;\n",
       "    }\n",
       "\n",
       "    .dataframe tbody tr th {\n",
       "        vertical-align: top;\n",
       "    }\n",
       "\n",
       "    .dataframe thead th {\n",
       "        text-align: right;\n",
       "    }\n",
       "</style>\n",
       "<table border=\"1\" class=\"dataframe\">\n",
       "  <thead>\n",
       "    <tr style=\"text-align: right;\">\n",
       "      <th></th>\n",
       "      <th>item_id</th>\n",
       "      <th>shop_id</th>\n",
       "      <th>item_category_id</th>\n",
       "      <th>item_mean_price</th>\n",
       "      <th>item_total_sold</th>\n",
       "      <th>item_cnt_month</th>\n",
       "      <th>item_cnt_mean</th>\n",
       "      <th>transactions</th>\n",
       "      <th>year</th>\n",
       "      <th>month</th>\n",
       "      <th>...</th>\n",
       "      <th>item_price_decrease</th>\n",
       "      <th>item_cnt_month_lag1</th>\n",
       "      <th>item_cnt_month_lag2</th>\n",
       "      <th>item_cnt_month_lag3</th>\n",
       "      <th>cat_total_sold_lag1</th>\n",
       "      <th>cat_total_sold_lag2</th>\n",
       "      <th>cat_total_sold_lag3</th>\n",
       "      <th>shop_total_sold_lag1</th>\n",
       "      <th>shop_total_sold_lag2</th>\n",
       "      <th>shop_total_sold_lag3</th>\n",
       "    </tr>\n",
       "  </thead>\n",
       "  <tbody>\n",
       "    <tr>\n",
       "      <th>6536376</th>\n",
       "      <td>8192</td>\n",
       "      <td>2</td>\n",
       "      <td>38.0</td>\n",
       "      <td>391.37405</td>\n",
       "      <td>0.0</td>\n",
       "      <td>0.0</td>\n",
       "      <td>0.0</td>\n",
       "      <td>0.0</td>\n",
       "      <td>2015</td>\n",
       "      <td>9</td>\n",
       "      <td>...</td>\n",
       "      <td>0.0</td>\n",
       "      <td>0.0</td>\n",
       "      <td>0.0</td>\n",
       "      <td>0.0</td>\n",
       "      <td>0.0</td>\n",
       "      <td>0.0</td>\n",
       "      <td>0.0</td>\n",
       "      <td>0.0</td>\n",
       "      <td>0.0</td>\n",
       "      <td>0.0</td>\n",
       "    </tr>\n",
       "    <tr>\n",
       "      <th>6536377</th>\n",
       "      <td>8192</td>\n",
       "      <td>3</td>\n",
       "      <td>38.0</td>\n",
       "      <td>391.37405</td>\n",
       "      <td>0.0</td>\n",
       "      <td>0.0</td>\n",
       "      <td>0.0</td>\n",
       "      <td>0.0</td>\n",
       "      <td>2015</td>\n",
       "      <td>9</td>\n",
       "      <td>...</td>\n",
       "      <td>0.0</td>\n",
       "      <td>0.0</td>\n",
       "      <td>0.0</td>\n",
       "      <td>0.0</td>\n",
       "      <td>0.0</td>\n",
       "      <td>0.0</td>\n",
       "      <td>0.0</td>\n",
       "      <td>0.0</td>\n",
       "      <td>0.0</td>\n",
       "      <td>0.0</td>\n",
       "    </tr>\n",
       "  </tbody>\n",
       "</table>\n",
       "<p>2 rows × 29 columns</p>\n",
       "</div>"
      ],
      "text/plain": [
       "         item_id  shop_id  item_category_id  item_mean_price  item_total_sold  \\\n",
       "6536376     8192        2              38.0        391.37405              0.0   \n",
       "6536377     8192        3              38.0        391.37405              0.0   \n",
       "\n",
       "         item_cnt_month  item_cnt_mean  transactions  year  month  ...  \\\n",
       "6536376             0.0            0.0           0.0  2015      9  ...   \n",
       "6536377             0.0            0.0           0.0  2015      9  ...   \n",
       "\n",
       "         item_price_decrease  item_cnt_month_lag1  item_cnt_month_lag2  \\\n",
       "6536376                  0.0                  0.0                  0.0   \n",
       "6536377                  0.0                  0.0                  0.0   \n",
       "\n",
       "         item_cnt_month_lag3  cat_total_sold_lag1  cat_total_sold_lag2  \\\n",
       "6536376                  0.0                  0.0                  0.0   \n",
       "6536377                  0.0                  0.0                  0.0   \n",
       "\n",
       "         cat_total_sold_lag3  shop_total_sold_lag1  shop_total_sold_lag2  \\\n",
       "6536376                  0.0                   0.0                   0.0   \n",
       "6536377                  0.0                   0.0                   0.0   \n",
       "\n",
       "         shop_total_sold_lag3  \n",
       "6536376                   0.0  \n",
       "6536377                   0.0  \n",
       "\n",
       "[2 rows x 29 columns]"
      ]
     },
     "execution_count": 114,
     "metadata": {},
     "output_type": "execute_result"
    }
   ],
   "source": [
    "X_test = test.drop([\"date_block_num\",\"item_cnt_next_month\"], axis=1)\n",
    "print(X_test.isnull().sum())\n",
    "X_test.head(2)"
   ]
  },
  {
   "cell_type": "code",
   "execution_count": 118,
   "metadata": {},
   "outputs": [],
   "source": [
    "y_pred = xgbr.predict(X_test)\n",
    "X_test[\"item_cnt_month_pred\"] = y_pred"
   ]
  },
  {
   "cell_type": "code",
   "execution_count": 119,
   "metadata": {},
   "outputs": [
    {
     "data": {
      "text/html": [
       "<div>\n",
       "<style scoped>\n",
       "    .dataframe tbody tr th:only-of-type {\n",
       "        vertical-align: middle;\n",
       "    }\n",
       "\n",
       "    .dataframe tbody tr th {\n",
       "        vertical-align: top;\n",
       "    }\n",
       "\n",
       "    .dataframe thead th {\n",
       "        text-align: right;\n",
       "    }\n",
       "</style>\n",
       "<table border=\"1\" class=\"dataframe\">\n",
       "  <thead>\n",
       "    <tr style=\"text-align: right;\">\n",
       "      <th></th>\n",
       "      <th>item_id</th>\n",
       "      <th>shop_id</th>\n",
       "      <th>item_category_id</th>\n",
       "      <th>item_mean_price</th>\n",
       "      <th>item_total_sold</th>\n",
       "      <th>item_cnt_month</th>\n",
       "      <th>item_cnt_mean</th>\n",
       "      <th>transactions</th>\n",
       "      <th>year</th>\n",
       "      <th>month</th>\n",
       "      <th>...</th>\n",
       "      <th>item_cnt_month_lag1</th>\n",
       "      <th>item_cnt_month_lag2</th>\n",
       "      <th>item_cnt_month_lag3</th>\n",
       "      <th>cat_total_sold_lag1</th>\n",
       "      <th>cat_total_sold_lag2</th>\n",
       "      <th>cat_total_sold_lag3</th>\n",
       "      <th>shop_total_sold_lag1</th>\n",
       "      <th>shop_total_sold_lag2</th>\n",
       "      <th>shop_total_sold_lag3</th>\n",
       "      <th>item_cnt_month_pred</th>\n",
       "    </tr>\n",
       "  </thead>\n",
       "  <tbody>\n",
       "    <tr>\n",
       "      <th>6536376</th>\n",
       "      <td>8192</td>\n",
       "      <td>2</td>\n",
       "      <td>38.0</td>\n",
       "      <td>391.37405</td>\n",
       "      <td>0.0</td>\n",
       "      <td>0.0</td>\n",
       "      <td>0.0</td>\n",
       "      <td>0.0</td>\n",
       "      <td>2015</td>\n",
       "      <td>9</td>\n",
       "      <td>...</td>\n",
       "      <td>0.0</td>\n",
       "      <td>0.0</td>\n",
       "      <td>0.0</td>\n",
       "      <td>0.0</td>\n",
       "      <td>0.0</td>\n",
       "      <td>0.0</td>\n",
       "      <td>0.0</td>\n",
       "      <td>0.0</td>\n",
       "      <td>0.0</td>\n",
       "      <td>0.073866</td>\n",
       "    </tr>\n",
       "    <tr>\n",
       "      <th>6536377</th>\n",
       "      <td>8192</td>\n",
       "      <td>3</td>\n",
       "      <td>38.0</td>\n",
       "      <td>391.37405</td>\n",
       "      <td>0.0</td>\n",
       "      <td>0.0</td>\n",
       "      <td>0.0</td>\n",
       "      <td>0.0</td>\n",
       "      <td>2015</td>\n",
       "      <td>9</td>\n",
       "      <td>...</td>\n",
       "      <td>0.0</td>\n",
       "      <td>0.0</td>\n",
       "      <td>0.0</td>\n",
       "      <td>0.0</td>\n",
       "      <td>0.0</td>\n",
       "      <td>0.0</td>\n",
       "      <td>0.0</td>\n",
       "      <td>0.0</td>\n",
       "      <td>0.0</td>\n",
       "      <td>0.071231</td>\n",
       "    </tr>\n",
       "  </tbody>\n",
       "</table>\n",
       "<p>2 rows × 30 columns</p>\n",
       "</div>"
      ],
      "text/plain": [
       "         item_id  shop_id  item_category_id  item_mean_price  item_total_sold  \\\n",
       "6536376     8192        2              38.0        391.37405              0.0   \n",
       "6536377     8192        3              38.0        391.37405              0.0   \n",
       "\n",
       "         item_cnt_month  item_cnt_mean  transactions  year  month  ...  \\\n",
       "6536376             0.0            0.0           0.0  2015      9  ...   \n",
       "6536377             0.0            0.0           0.0  2015      9  ...   \n",
       "\n",
       "         item_cnt_month_lag1  item_cnt_month_lag2  item_cnt_month_lag3  \\\n",
       "6536376                  0.0                  0.0                  0.0   \n",
       "6536377                  0.0                  0.0                  0.0   \n",
       "\n",
       "         cat_total_sold_lag1  cat_total_sold_lag2  cat_total_sold_lag3  \\\n",
       "6536376                  0.0                  0.0                  0.0   \n",
       "6536377                  0.0                  0.0                  0.0   \n",
       "\n",
       "         shop_total_sold_lag1  shop_total_sold_lag2  shop_total_sold_lag3  \\\n",
       "6536376                   0.0                   0.0                   0.0   \n",
       "6536377                   0.0                   0.0                   0.0   \n",
       "\n",
       "         item_cnt_month_pred  \n",
       "6536376             0.073866  \n",
       "6536377             0.071231  \n",
       "\n",
       "[2 rows x 30 columns]"
      ]
     },
     "execution_count": 119,
     "metadata": {},
     "output_type": "execute_result"
    }
   ],
   "source": [
    "X_test.head(2)"
   ]
  },
  {
   "cell_type": "markdown",
   "metadata": {},
   "source": [
    "# Format to submission"
   ]
  },
  {
   "cell_type": "code",
   "execution_count": 120,
   "metadata": {},
   "outputs": [
    {
     "data": {
      "text/html": [
       "<div>\n",
       "<style scoped>\n",
       "    .dataframe tbody tr th:only-of-type {\n",
       "        vertical-align: middle;\n",
       "    }\n",
       "\n",
       "    .dataframe tbody tr th {\n",
       "        vertical-align: top;\n",
       "    }\n",
       "\n",
       "    .dataframe thead th {\n",
       "        text-align: right;\n",
       "    }\n",
       "</style>\n",
       "<table border=\"1\" class=\"dataframe\">\n",
       "  <thead>\n",
       "    <tr style=\"text-align: right;\">\n",
       "      <th></th>\n",
       "      <th>ID</th>\n",
       "      <th>shop_id</th>\n",
       "      <th>item_id</th>\n",
       "    </tr>\n",
       "  </thead>\n",
       "  <tbody>\n",
       "    <tr>\n",
       "      <th>0</th>\n",
       "      <td>0</td>\n",
       "      <td>5</td>\n",
       "      <td>5037</td>\n",
       "    </tr>\n",
       "    <tr>\n",
       "      <th>1</th>\n",
       "      <td>1</td>\n",
       "      <td>5</td>\n",
       "      <td>5320</td>\n",
       "    </tr>\n",
       "    <tr>\n",
       "      <th>2</th>\n",
       "      <td>2</td>\n",
       "      <td>5</td>\n",
       "      <td>5233</td>\n",
       "    </tr>\n",
       "    <tr>\n",
       "      <th>3</th>\n",
       "      <td>3</td>\n",
       "      <td>5</td>\n",
       "      <td>5232</td>\n",
       "    </tr>\n",
       "    <tr>\n",
       "      <th>4</th>\n",
       "      <td>4</td>\n",
       "      <td>5</td>\n",
       "      <td>5268</td>\n",
       "    </tr>\n",
       "    <tr>\n",
       "      <th>...</th>\n",
       "      <td>...</td>\n",
       "      <td>...</td>\n",
       "      <td>...</td>\n",
       "    </tr>\n",
       "    <tr>\n",
       "      <th>214195</th>\n",
       "      <td>214195</td>\n",
       "      <td>45</td>\n",
       "      <td>18454</td>\n",
       "    </tr>\n",
       "    <tr>\n",
       "      <th>214196</th>\n",
       "      <td>214196</td>\n",
       "      <td>45</td>\n",
       "      <td>16188</td>\n",
       "    </tr>\n",
       "    <tr>\n",
       "      <th>214197</th>\n",
       "      <td>214197</td>\n",
       "      <td>45</td>\n",
       "      <td>15757</td>\n",
       "    </tr>\n",
       "    <tr>\n",
       "      <th>214198</th>\n",
       "      <td>214198</td>\n",
       "      <td>45</td>\n",
       "      <td>19648</td>\n",
       "    </tr>\n",
       "    <tr>\n",
       "      <th>214199</th>\n",
       "      <td>214199</td>\n",
       "      <td>45</td>\n",
       "      <td>969</td>\n",
       "    </tr>\n",
       "  </tbody>\n",
       "</table>\n",
       "<p>214200 rows × 3 columns</p>\n",
       "</div>"
      ],
      "text/plain": [
       "            ID  shop_id  item_id\n",
       "0            0        5     5037\n",
       "1            1        5     5320\n",
       "2            2        5     5233\n",
       "3            3        5     5232\n",
       "4            4        5     5268\n",
       "...        ...      ...      ...\n",
       "214195  214195       45    18454\n",
       "214196  214196       45    16188\n",
       "214197  214197       45    15757\n",
       "214198  214198       45    19648\n",
       "214199  214199       45      969\n",
       "\n",
       "[214200 rows x 3 columns]"
      ]
     },
     "execution_count": 120,
     "metadata": {},
     "output_type": "execute_result"
    }
   ],
   "source": [
    "to_pred"
   ]
  },
  {
   "cell_type": "code",
   "execution_count": 146,
   "metadata": {},
   "outputs": [
    {
     "name": "stdout",
     "output_type": "stream",
     "text": [
      "ID                         0\n",
      "shop_id                    0\n",
      "item_id                    0\n",
      "item_cnt_month_pred    16128\n",
      "dtype: int64\n"
     ]
    },
    {
     "data": {
      "text/html": [
       "<div>\n",
       "<style scoped>\n",
       "    .dataframe tbody tr th:only-of-type {\n",
       "        vertical-align: middle;\n",
       "    }\n",
       "\n",
       "    .dataframe tbody tr th {\n",
       "        vertical-align: top;\n",
       "    }\n",
       "\n",
       "    .dataframe thead th {\n",
       "        text-align: right;\n",
       "    }\n",
       "</style>\n",
       "<table border=\"1\" class=\"dataframe\">\n",
       "  <thead>\n",
       "    <tr style=\"text-align: right;\">\n",
       "      <th></th>\n",
       "      <th>ID</th>\n",
       "      <th>shop_id</th>\n",
       "      <th>item_id</th>\n",
       "      <th>item_cnt_month_pred</th>\n",
       "    </tr>\n",
       "  </thead>\n",
       "  <tbody>\n",
       "    <tr>\n",
       "      <th>0</th>\n",
       "      <td>0</td>\n",
       "      <td>5</td>\n",
       "      <td>5037</td>\n",
       "      <td>0.675064</td>\n",
       "    </tr>\n",
       "    <tr>\n",
       "      <th>1</th>\n",
       "      <td>1</td>\n",
       "      <td>5</td>\n",
       "      <td>5320</td>\n",
       "      <td>0.000000</td>\n",
       "    </tr>\n",
       "  </tbody>\n",
       "</table>\n",
       "</div>"
      ],
      "text/plain": [
       "   ID  shop_id  item_id  item_cnt_month_pred\n",
       "0   0        5     5037             0.675064\n",
       "1   1        5     5320             0.000000"
      ]
     },
     "execution_count": 146,
     "metadata": {},
     "output_type": "execute_result"
    }
   ],
   "source": [
    "submission = pd.merge(to_pred, X_test[[\"item_id\",\"shop_id\",\"item_cnt_month_pred\"]],\n",
    "                      how=\"left\", on=[\"item_id\",\"shop_id\"])\n",
    "print(submission.isnull().sum())\n",
    "submission = submission.fillna(0)\n",
    "submission.head(2)"
   ]
  },
  {
   "cell_type": "code",
   "execution_count": 147,
   "metadata": {},
   "outputs": [],
   "source": [
    "submission.loc[submission[\"item_cnt_month_pred\"]>20,\"item_cnt_month_pred\"]=20\n",
    "submission.loc[submission[\"item_cnt_month_pred\"]<0, \"item_cnt_month_pred\"]=0"
   ]
  },
  {
   "cell_type": "code",
   "execution_count": null,
   "metadata": {},
   "outputs": [],
   "source": []
  },
  {
   "cell_type": "code",
   "execution_count": 148,
   "metadata": {},
   "outputs": [
    {
     "data": {
      "text/html": [
       "<div>\n",
       "<style scoped>\n",
       "    .dataframe tbody tr th:only-of-type {\n",
       "        vertical-align: middle;\n",
       "    }\n",
       "\n",
       "    .dataframe tbody tr th {\n",
       "        vertical-align: top;\n",
       "    }\n",
       "\n",
       "    .dataframe thead th {\n",
       "        text-align: right;\n",
       "    }\n",
       "</style>\n",
       "<table border=\"1\" class=\"dataframe\">\n",
       "  <thead>\n",
       "    <tr style=\"text-align: right;\">\n",
       "      <th></th>\n",
       "      <th>ID</th>\n",
       "      <th>item_cnt_month</th>\n",
       "    </tr>\n",
       "  </thead>\n",
       "  <tbody>\n",
       "    <tr>\n",
       "      <th>0</th>\n",
       "      <td>0</td>\n",
       "      <td>0.5</td>\n",
       "    </tr>\n",
       "    <tr>\n",
       "      <th>1</th>\n",
       "      <td>1</td>\n",
       "      <td>0.5</td>\n",
       "    </tr>\n",
       "  </tbody>\n",
       "</table>\n",
       "</div>"
      ],
      "text/plain": [
       "   ID  item_cnt_month\n",
       "0   0             0.5\n",
       "1   1             0.5"
      ]
     },
     "execution_count": 148,
     "metadata": {},
     "output_type": "execute_result"
    }
   ],
   "source": [
    "sub_example = pd.read_csv(cfg.FILENAMES[\"SAMPLE_SUBM\"])\n",
    "sub_example.head(2)"
   ]
  },
  {
   "cell_type": "code",
   "execution_count": 149,
   "metadata": {},
   "outputs": [
    {
     "data": {
      "text/html": [
       "<div>\n",
       "<style scoped>\n",
       "    .dataframe tbody tr th:only-of-type {\n",
       "        vertical-align: middle;\n",
       "    }\n",
       "\n",
       "    .dataframe tbody tr th {\n",
       "        vertical-align: top;\n",
       "    }\n",
       "\n",
       "    .dataframe thead th {\n",
       "        text-align: right;\n",
       "    }\n",
       "</style>\n",
       "<table border=\"1\" class=\"dataframe\">\n",
       "  <thead>\n",
       "    <tr style=\"text-align: right;\">\n",
       "      <th></th>\n",
       "      <th>ID</th>\n",
       "      <th>item_cnt_month</th>\n",
       "    </tr>\n",
       "  </thead>\n",
       "  <tbody>\n",
       "    <tr>\n",
       "      <th>0</th>\n",
       "      <td>0</td>\n",
       "      <td>0.675064</td>\n",
       "    </tr>\n",
       "    <tr>\n",
       "      <th>1</th>\n",
       "      <td>1</td>\n",
       "      <td>0.000000</td>\n",
       "    </tr>\n",
       "  </tbody>\n",
       "</table>\n",
       "</div>"
      ],
      "text/plain": [
       "   ID  item_cnt_month\n",
       "0   0        0.675064\n",
       "1   1        0.000000"
      ]
     },
     "execution_count": 149,
     "metadata": {},
     "output_type": "execute_result"
    }
   ],
   "source": [
    "submission_formated = (submission[[\"ID\", \"item_cnt_month_pred\"]]\n",
    "                       .rename({\"item_cnt_month_pred\":\"item_cnt_month\"}, axis=1))\n",
    "submission_formated.head(2)"
   ]
  },
  {
   "cell_type": "code",
   "execution_count": 151,
   "metadata": {},
   "outputs": [],
   "source": [
    "submission_formated.to_csv(os.path.join(\"submissions\", \"sub_02.csv\"), index=False)"
   ]
  },
  {
   "cell_type": "code",
   "execution_count": 140,
   "metadata": {},
   "outputs": [
    {
     "data": {
      "text/plain": [
       "20.0"
      ]
     },
     "execution_count": 140,
     "metadata": {},
     "output_type": "execute_result"
    }
   ],
   "source": [
    "np.quantile(train[\"item_cnt_month\"],0.999)"
   ]
  },
  {
   "cell_type": "code",
   "execution_count": 136,
   "metadata": {},
   "outputs": [
    {
     "data": {
      "text/plain": [
       "<module 'numpy' from '/Users/robinblanchard/Desktop/training/kaggle-predict-future-sales/venv/lib/python3.7/site-packages/numpy/__init__.py'>"
      ]
     },
     "execution_count": 136,
     "metadata": {},
     "output_type": "execute_result"
    }
   ],
   "source": []
  },
  {
   "cell_type": "code",
   "execution_count": null,
   "metadata": {},
   "outputs": [],
   "source": []
  }
 ],
 "metadata": {
  "kernelspec": {
   "display_name": "Python 3",
   "language": "python",
   "name": "python3"
  },
  "language_info": {
   "codemirror_mode": {
    "name": "ipython",
    "version": 3
   },
   "file_extension": ".py",
   "mimetype": "text/x-python",
   "name": "python",
   "nbconvert_exporter": "python",
   "pygments_lexer": "ipython3",
   "version": "3.7.3"
  }
 },
 "nbformat": 4,
 "nbformat_minor": 2
}
